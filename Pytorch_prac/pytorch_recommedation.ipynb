{
  "nbformat": 4,
  "nbformat_minor": 0,
  "metadata": {
    "colab": {
      "provenance": [],
      "authorship_tag": "ABX9TyPa8jy6Z+8NbUeEqDb59DjO",
      "include_colab_link": true
    },
    "kernelspec": {
      "name": "python3",
      "display_name": "Python 3"
    },
    "language_info": {
      "name": "python"
    }
  },
  "cells": [
    {
      "cell_type": "markdown",
      "metadata": {
        "id": "view-in-github",
        "colab_type": "text"
      },
      "source": [
        "<a href=\"https://colab.research.google.com/github/eeuuais/studypolio/blob/main/Pytorch_prac/pytorch_recommedation.ipynb\" target=\"_parent\"><img src=\"https://colab.research.google.com/assets/colab-badge.svg\" alt=\"Open In Colab\"/></a>"
      ]
    },
    {
      "cell_type": "code",
      "execution_count": null,
      "metadata": {
        "id": "vOvOHkbqJMBh"
      },
      "outputs": [],
      "source": []
    },
    {
      "cell_type": "markdown",
      "source": [
        "## 컨텐츠 기반 추천"
      ],
      "metadata": {
        "id": "7LyHbOAfJb-z"
      }
    },
    {
      "cell_type": "code",
      "source": [
        "def cosine_similarity(a, b):\n",
        "  num = np.dot(a, b)\n",
        "  den = np.sqrt(np.sum(a**2))*np.sqrt(np.sum(b ** 2))\n",
        "  return num / (den+1e-15)"
      ],
      "metadata": {
        "id": "SCGfumr1Jk66"
      },
      "execution_count": null,
      "outputs": []
    },
    {
      "cell_type": "code",
      "source": [
        "incep = np.array([0,1,4,10]) # standard\n",
        "\n",
        "about_time = np.array([10, 0, 0, 0])\n",
        "dark_knight = np.array([1, 1, 7, 3])\n",
        "martian = np.array([2, 0, 0, 10])\n",
        "thenun = np.array([0, 10, 1, 0])"
      ],
      "metadata": {
        "id": "oHb9_YnTJzej"
      },
      "execution_count": null,
      "outputs": []
    },
    {
      "cell_type": "code",
      "source": [
        "movies = [about_time, dark_knight, martian, thenun]\n",
        "names = ['about_time', 'dark_knight', 'martian', 'thenun']\n",
        "\n",
        "scores = []\n",
        "for mvec, name in zip(movies, names):\n",
        "  sim = cosine_similarity(mvec, incep)\n",
        "  scores.append(sim)"
      ],
      "metadata": {
        "id": "4R-aruStKFJk"
      },
      "execution_count": null,
      "outputs": []
    },
    {
      "cell_type": "code",
      "source": [
        "idx = np.argsort(scores)\n",
        "recom = np.array(names)[idx]\n",
        "print(np.flip(recom))"
      ],
      "metadata": {
        "id": "p880LxF4KabI"
      },
      "execution_count": null,
      "outputs": []
    }
  ]
}