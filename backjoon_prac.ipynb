{
  "nbformat": 4,
  "nbformat_minor": 0,
  "metadata": {
    "colab": {
      "provenance": [],
      "authorship_tag": "ABX9TyOEGnGdUT8n+qxv4mtFPfZp",
      "include_colab_link": true
    },
    "kernelspec": {
      "name": "python3",
      "display_name": "Python 3"
    },
    "language_info": {
      "name": "python"
    }
  },
  "cells": [
    {
      "cell_type": "markdown",
      "metadata": {
        "id": "view-in-github",
        "colab_type": "text"
      },
      "source": [
        "<a href=\"https://colab.research.google.com/github/eeuuais/studypolio/blob/main/backjoon_prac.ipynb\" target=\"_parent\"><img src=\"https://colab.research.google.com/assets/colab-badge.svg\" alt=\"Open In Colab\"/></a>"
      ]
    },
    {
      "cell_type": "markdown",
      "source": [
        "## 백준 문제풀이"
      ],
      "metadata": {
        "id": "jv4FRqa5uf3_"
      }
    },
    {
      "cell_type": "code",
      "source": [
        "# 메모\n",
        "\n",
        "import sys\n",
        "A,B,C = map(int,sys.stdin.readline().split())\n",
        "print(A+B+C)\n",
        "print(A-B)\n",
        "print(A*B)\n",
        "# 파이썬의 경우, 정수 둘을 나눴을 때 나누어 떨어지지 않으면 자동으로 float형으로 출력한다\n",
        "# print('%d' % (A/B))\n",
        "print(A//B)\n",
        "print(A%B)\n",
        "\n",
        "\n",
        "\n",
        "import sys\n",
        "A,B,C = map(int,sys.stdin.readline().split())\n",
        "print((A+B)%C)\n",
        "print(((A%C) + (B%C))%C)\n",
        "print((A*B)%C)\n",
        "print(((A%C) × (B%C))%C)\n",
        "\n",
        "\n",
        "A = input()\n",
        "B = input()\n",
        "A = int(A)\n",
        "B = int(B)"
      ],
      "metadata": {
        "id": "Qv-mwHTvur8n"
      },
      "execution_count": null,
      "outputs": []
    },
    {
      "cell_type": "code",
      "execution_count": null,
      "metadata": {
        "colab": {
          "base_uri": "https://localhost:8080/"
        },
        "id": "y2IhPtOJuc_S",
        "outputId": "11dfbb1e-2cec-4dad-c02a-a56a2d5b5d62"
      },
      "outputs": [
        {
          "output_type": "stream",
          "name": "stdout",
          "text": [
            "\\    /\\\n",
            ") )  ( ')\n",
            "(  /  )\n",
            " \\(__)|\n",
            "\\    /\\\n",
            " )  ( ')\n",
            "(  /  )\n",
            " \\(__)|\n"
          ]
        }
      ],
      "source": [
        "#10171 고양이\n",
        "\n",
        "print('\\    /\\\\') # \\를 문자열로 출력하려면 \\\\로 입력\n",
        "print(\" )  ( ')\")\n",
        "print('(  /  )')\n",
        "print(' \\(__)|')"
      ]
    },
    {
      "cell_type": "code",
      "source": [
        "# 10172 개\n",
        "\n",
        "print('|\\_/|')\n",
        "print('|q p|   /}')\n",
        "print('( 0 )\"\"\"\\\\')\n",
        "print('|\"^\"`    |')\n",
        "print('||_/=\\\\\\\\__|')"
      ],
      "metadata": {
        "colab": {
          "base_uri": "https://localhost:8080/"
        },
        "id": "vcGYStj4vNri",
        "outputId": "e49bf96e-baaf-4ad7-d190-881c9e68dfed"
      },
      "execution_count": null,
      "outputs": [
        {
          "output_type": "stream",
          "name": "stdout",
          "text": [
            "|\\_/|\n",
            "|q p|   /}\n",
            "( 0 )\"\"\"\\\n",
            "|\"^\"`    |\n",
            "||_/=\\\\__|\n"
          ]
        }
      ]
    },
    {
      "cell_type": "code",
      "source": [
        "# 1330 두 수 비교하기\n",
        "\n",
        "A, B = input().split()\n",
        "A = int(A)\n",
        "B = int(B)\n",
        "\n",
        "if A > B:\n",
        "    print(\">\")\n",
        "elif A < B:\n",
        "  print(\"<\")\n",
        "elif A == B:\n",
        "  print(\"==\")"
      ],
      "metadata": {
        "colab": {
          "base_uri": "https://localhost:8080/"
        },
        "id": "x0tXaBkXwBCx",
        "outputId": "5552cf40-4624-421a-f9ef-d73e32af95d5"
      },
      "execution_count": null,
      "outputs": [
        {
          "output_type": "stream",
          "name": "stdout",
          "text": [
            "456 123\n",
            ">\n"
          ]
        }
      ]
    },
    {
      "cell_type": "code",
      "source": [
        "# 9498 시험 성적\n",
        "\n",
        "A = int(input())\n",
        "\n",
        "if A >= 90:\n",
        "    print(\"A\")\n",
        "elif A >= 80:\n",
        "  print(\"B\")\n",
        "elif A >= 70:\n",
        "  print(\"C\")\n",
        "elif A >= 60:\n",
        "  print(\"D\")\n",
        "else:\n",
        "  print(\"F\")"
      ],
      "metadata": {
        "colab": {
          "base_uri": "https://localhost:8080/"
        },
        "id": "9ZBRDPWMxJaS",
        "outputId": "b4d913cb-2d7d-48be-dfa4-c60ade859f6d"
      },
      "execution_count": null,
      "outputs": [
        {
          "output_type": "stream",
          "name": "stdout",
          "text": [
            "80\n",
            "B\n"
          ]
        }
      ]
    },
    {
      "cell_type": "code",
      "source": [
        "# 2753 윤년\n",
        "\n",
        "a = int(input())\n",
        "\n",
        "if a % 4 == 0 and (a % 100 != 0 or a % 400 == 0):\n",
        "  print(1)\n",
        "else:\n",
        "  print(0)"
      ],
      "metadata": {
        "colab": {
          "base_uri": "https://localhost:8080/"
        },
        "id": "Eiikvn72x2GS",
        "outputId": "f27e3d46-b16a-4498-8faf-2966160635c8"
      },
      "execution_count": null,
      "outputs": [
        {
          "output_type": "stream",
          "name": "stdout",
          "text": [
            "1999\n",
            "0\n"
          ]
        }
      ]
    },
    {
      "cell_type": "code",
      "source": [
        "# 14681 사분면 고르기\n",
        "\n",
        "x = int(input())\n",
        "y = int(input())\n",
        "\n",
        "if x > 0 and y > 0:\n",
        "  print(1)\n",
        "elif x < 0 and y < 0:\n",
        "  print(3)\n",
        "elif x > 0 and y < 0:\n",
        "  print(4)\n",
        "else:\n",
        "  print(2)"
      ],
      "metadata": {
        "colab": {
          "base_uri": "https://localhost:8080/"
        },
        "id": "4wFmRrpbzDiQ",
        "outputId": "c4ce1819-e844-4757-f6ff-f544f999d602"
      },
      "execution_count": null,
      "outputs": [
        {
          "output_type": "stream",
          "name": "stdout",
          "text": [
            "9\n",
            "-13\n",
            "4\n"
          ]
        }
      ]
    },
    {
      "cell_type": "code",
      "source": [
        "#2884 알람시계 --> 이어서 풀기\n",
        "\n",
        "h, m = map(int, input().split())\n",
        "\n",
        "if m < 45: # 분단위가 45분보다 작을때\n",
        "  if h == 0: # 0시이면\n",
        "    h = 23\n",
        "    m +=60\n",
        "  else:\n",
        "    h -= 1\n",
        "    m += 60\n",
        "  \n",
        "print(h, m-45)"
      ],
      "metadata": {
        "colab": {
          "base_uri": "https://localhost:8080/"
        },
        "id": "Ui-tR77V0EzM",
        "outputId": "957a192c-2597-48ac-96fb-eec70535bc8d"
      },
      "execution_count": 4,
      "outputs": [
        {
          "output_type": "stream",
          "name": "stdout",
          "text": [
            "0 30\n",
            "23 45\n"
          ]
        }
      ]
    },
    {
      "cell_type": "code",
      "source": [
        "# 2525 오븐시계\n",
        "\n",
        "h, m = map(int, input().split())\n",
        "oven = int(input())\n",
        "\n",
        "h += oven // 60  # 걸리는 시간이 60으로 나눠떨어지면\n",
        "m += oven % 60 # 나머지\n",
        "\n",
        "if m >= 60:\n",
        "  h += 1\n",
        "  m -= 60\n",
        "if h >= 24: # 24시가 넘으면 0시가 되도록\n",
        "  h -= 24\n",
        "\n",
        "print(h, m)"
      ],
      "metadata": {
        "colab": {
          "base_uri": "https://localhost:8080/"
        },
        "id": "YzTgMnI83JEd",
        "outputId": "cfb20504-c81d-4719-e170-1ede38089cae"
      },
      "execution_count": 22,
      "outputs": [
        {
          "output_type": "stream",
          "name": "stdout",
          "text": [
            "23 48\n",
            "25\n",
            "0 13\n"
          ]
        }
      ]
    },
    {
      "cell_type": "code",
      "source": [
        "# 2480 주사위 세개\n",
        "\n",
        "a, b, c = map(int, input().split())\n",
        "\n",
        "if a == b == c:\n",
        "  print(10000+a*1000)\n",
        "elif a == b :\n",
        "  print(1000+a*100)\n",
        "elif b == c :\n",
        "  print(1000+b*100)\n",
        "elif c == a:\n",
        "  print(1000+c*100)\n",
        "else:\n",
        "  print(max(a,b,c)*100)"
      ],
      "metadata": {
        "colab": {
          "base_uri": "https://localhost:8080/"
        },
        "id": "LtfKxQJR8YI3",
        "outputId": "b3993e91-d714-45a9-f0a9-733cc4f5efd7"
      },
      "execution_count": 26,
      "outputs": [
        {
          "output_type": "stream",
          "name": "stdout",
          "text": [
            "6 2 5\n",
            "600\n"
          ]
        }
      ]
    },
    {
      "cell_type": "code",
      "source": [
        "# 2739 구구단\n",
        "\n",
        "N = int(input())\n",
        "\n",
        "for i in range(1, 10):\n",
        "  print('{0} * {1} = {2}'.format(N, i, N*i))"
      ],
      "metadata": {
        "colab": {
          "base_uri": "https://localhost:8080/"
        },
        "id": "ckzL5z6-_F9r",
        "outputId": "3601e598-d426-4543-cfd4-136fab5089e0"
      },
      "execution_count": 35,
      "outputs": [
        {
          "output_type": "stream",
          "name": "stdout",
          "text": [
            "2\n",
            "2 * 1 = 2\n",
            "2 * 2 = 4\n",
            "2 * 3 = 6\n",
            "2 * 4 = 8\n",
            "2 * 5 = 10\n",
            "2 * 6 = 12\n",
            "2 * 7 = 14\n",
            "2 * 8 = 16\n",
            "2 * 9 = 18\n"
          ]
        }
      ]
    },
    {
      "cell_type": "code",
      "source": [
        "# 10950 A+b-3\n",
        "\n",
        "T = int(input()) # 테스트 케이스 개수 T 입력받기\n",
        "\n",
        "for i in range(T): # T만큼 반복\n",
        "  a, b = map(int, input().split())\n",
        "  print(a+b)"
      ],
      "metadata": {
        "colab": {
          "base_uri": "https://localhost:8080/"
        },
        "id": "chDP6GF5BUr-",
        "outputId": "6544c7cd-7752-4f8d-a512-38224bd7ba23"
      },
      "execution_count": 43,
      "outputs": [
        {
          "output_type": "stream",
          "name": "stdout",
          "text": [
            "5\n",
            "1 1\n",
            "2\n",
            "2 3\n",
            "5\n",
            "3 4\n",
            "7\n",
            "9 8\n",
            "17\n",
            "5 2\n",
            "7\n"
          ]
        }
      ]
    },
    {
      "cell_type": "code",
      "source": [
        "# 8393 합\n",
        "# --> factorial문제로 혼동함\n",
        "\n",
        "n = int(input()) # n이 주어졌을 때\n",
        "result = 1       # 1로 초기화\n",
        "\n",
        "for i in range(1, n+1, 1):  # 1부터 n+1까지 1씩 증가\n",
        "  result *= i\n",
        "print(result)"
      ],
      "metadata": {
        "colab": {
          "base_uri": "https://localhost:8080/"
        },
        "id": "qsepAGHNDLNE",
        "outputId": "193cdb15-3b8b-458d-bb3e-0ce964297ffa"
      },
      "execution_count": 44,
      "outputs": [
        {
          "output_type": "stream",
          "name": "stdout",
          "text": [
            "3\n",
            "6\n"
          ]
        }
      ]
    },
    {
      "cell_type": "markdown",
      "source": [
        "--> 위 코드 출력초과!\n",
        "\n",
        "출력 초과 : 프로그램이 너무 많은 출력을 하는 경우에 발생합니다. 이 결과는 틀렸습니다와 같은 의미를 갖습니다. 정확하게는 미리 구해놓은 정답 파일 크기의 2배를 넘어가면 이 결과를 받게 됩니다. 만약, 출력하는 부분이 무한 루프에 빠진 경우, 시간을 초과하기 전에 출력 초과를 받을 수 있습니다."
      ],
      "metadata": {
        "id": "4_hOPIzpEHfa"
      }
    },
    {
      "cell_type": "code",
      "source": [
        "# 8393 합\n",
        "\n",
        "sum = 0\n",
        "n = int(input()) # n이 주어졌을 때\n",
        "for i in range(n+1):\n",
        "    sum += i\n",
        "print(sum)"
      ],
      "metadata": {
        "colab": {
          "base_uri": "https://localhost:8080/"
        },
        "id": "vD9mmS0_ELWq",
        "outputId": "f0b1c8ec-213b-4ed0-fc2b-05e96e22c8ba"
      },
      "execution_count": 45,
      "outputs": [
        {
          "output_type": "stream",
          "name": "stdout",
          "text": [
            "3\n",
            "6\n"
          ]
        }
      ]
    },
    {
      "cell_type": "code",
      "source": [
        "# 25304 영수증\n",
        "\n",
        "X = int(input()) # 첫째 줄에는 영수증에 적힌 총 금액 X가 주어진다.\n",
        "N = int(input()) # 둘째 줄에는 영수증에 적힌 구매한 물건의 종류의 수 N이 주어진다.\n",
        "\n",
        "total = 0 # 총 금액\n",
        "\n",
        "for i in range(N): # 이후 N개의 줄에는 각 물건의 가격 a와 개수 b가 공백을 사이에 두고 주어진다.\n",
        "  a, b = map(int, input().split())\n",
        "  total += a*b\n",
        "\n",
        "# 위에서 구한 금액과 영수증 금액이 같은지 확인\n",
        "if X == total:\n",
        "    print(\"Yes\")\n",
        "else:\n",
        "    print(\"No\")"
      ],
      "metadata": {
        "colab": {
          "base_uri": "https://localhost:8080/"
        },
        "id": "eS3Zh40YEz9X",
        "outputId": "a1a42614-1f01-4507-c151-423101a17907"
      },
      "execution_count": 48,
      "outputs": [
        {
          "output_type": "stream",
          "name": "stdout",
          "text": [
            "260000\n",
            "4\n",
            "20000 5\n",
            "30000 2\n",
            "10000 6\n",
            "5000 8\n",
            "Yes\n"
          ]
        }
      ]
    },
    {
      "cell_type": "code",
      "source": [
        "# 25314 코딩은 체육과목입니다\n",
        "\"\"\"\n",
        "혜아는 long int 가 4바이트라면, long 이 추가될 때마다 4바이트가 추가된다고 생각한다.\n",
        "따라서, N바이트 크기의 정수라면, long 은 N/4 만큼 추가되어야 한다.\n",
        "\"\"\"\n",
        "# 입력 받은 N 을 4로 나누고, 그 결과만큼 반복하여 long 을 출력한다.\n",
        "for _ in range(int(input())//4):\n",
        "  print(\"long\", end=\" \") # print 함수는 기본적으로 개행이 되므로, 문제의 조건에 따라 end = \" \"를 통해 공백을 추가\n",
        "print(\"int\")"
      ],
      "metadata": {
        "colab": {
          "base_uri": "https://localhost:8080/"
        },
        "id": "RGGQORrzH-C2",
        "outputId": "aaddb163-6b71-4f03-cf33-3324ae897a7f"
      },
      "execution_count": 58,
      "outputs": [
        {
          "output_type": "stream",
          "name": "stdout",
          "text": [
            "20\n",
            "long long long long long int\n"
          ]
        }
      ]
    },
    {
      "cell_type": "code",
      "source": [
        "# 15552 빠른 A+B"
      ],
      "metadata": {
        "id": "wr6i6RjzJ612"
      },
      "execution_count": null,
      "outputs": []
    }
  ]
}