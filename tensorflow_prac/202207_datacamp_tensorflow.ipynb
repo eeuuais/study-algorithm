{
 "cells": [
  {
   "cell_type": "markdown",
   "id": "1879cec9",
   "metadata": {},
   "source": [
    "### 1. 시작"
   ]
  },
  {
   "cell_type": "code",
   "execution_count": 1,
   "id": "59d8b7a6",
   "metadata": {},
   "outputs": [
    {
     "data": {
      "text/plain": [
       "'2.8.0'"
      ]
     },
     "execution_count": 1,
     "metadata": {},
     "output_type": "execute_result"
    }
   ],
   "source": [
    "# 텐서플로 라이브러리 불러오기\n",
    "import tensorflow as tf\n",
    "tf.__version__"
   ]
  },
  {
   "cell_type": "markdown",
   "id": "665f1d6e",
   "metadata": {},
   "source": [
    "### 2.시퀀셜 모델 만들기<br>\n",
    "- 하나의 입력과 하나의 출력이 있는 레이어를 쌓을 때 적합함<br>\n",
    "- 다중 입력 또는 다중 출력이 있는 경우 적합하지 않음(함수형 모델에서는 가능)"
   ]
  },
  {
   "cell_type": "code",
   "execution_count": 2,
   "id": "84dcecb3",
   "metadata": {},
   "outputs": [],
   "source": [
    "from tensorflow.keras.models import Sequential\n",
    "from tensorflow.keras.layers import Dense\n",
    "\n",
    "# 시퀀셜 모델 만드는 방법 1 (콤마 주의)\n",
    "model = Sequential([\n",
    "    Dense(units=128, activation='relu'),\n",
    "    Dense(units=10, activation='softmax')\n",
    "])\n",
    "\n",
    "# 시퀀셜 모델 만드는 방법 2 (add메소드 활용)\n",
    "model = Sequential()\n",
    "model.add(Dense(units=128, activation='relu'))\n",
    "model.add(Dense(units=10, activation='softmax'))"
   ]
  },
  {
   "cell_type": "markdown",
   "id": "7db3858d",
   "metadata": {},
   "source": [
    "일반적으로 히든 레이어에서는 렐루함수를 많이 사용한다"
   ]
  },
  {
   "cell_type": "markdown",
   "id": "3530d2b1",
   "metadata": {},
   "source": [
    "### 입력(Input)"
   ]
  },
  {
   "cell_type": "code",
   "execution_count": 3,
   "id": "918cd2ab",
   "metadata": {},
   "outputs": [],
   "source": [
    "# 베이스 모델 (784개의 길게 나열된 텐서)\n",
    "model = Sequential([\n",
    "    Dense(units=128, activation='relu', input_shape=(784,)),\n",
    "    Dense(units=10, activation='softmax')\n",
    "])"
   ]
  },
  {
   "cell_type": "code",
   "execution_count": 4,
   "id": "3b3091b7",
   "metadata": {},
   "outputs": [],
   "source": [
    "# Flatten layer (28*28의 정사각형 텐서)\n",
    "from tensorflow.keras.layers import Flatten\n",
    "\n",
    "model = Sequential([\n",
    "    Flatten(input_shape=(28,28)),\n",
    "    Dense(units=128, activation='relu'),\n",
    "    Dense(units=10, activation='softmax')\n",
    "])"
   ]
  },
  {
   "cell_type": "markdown",
   "id": "8c09554f",
   "metadata": {},
   "source": [
    "→ flatten layer는 2차원의 텐서를 1차원으로 늘어뜨려 준다.<br>\n",
    "첫번째 두번째 모델은 같은 모델인데, 입력 데이터의 shape이 다른 것이다."
   ]
  },
  {
   "cell_type": "code",
   "execution_count": 5,
   "id": "232fe01f",
   "metadata": {},
   "outputs": [
    {
     "name": "stdout",
     "output_type": "stream",
     "text": [
      "Model: \"sequential_3\"\n",
      "_________________________________________________________________\n",
      " Layer (type)                Output Shape              Param #   \n",
      "=================================================================\n",
      " flatten (Flatten)           (None, 784)               0         \n",
      "                                                                 \n",
      " dense_6 (Dense)             (None, 128)               100480    \n",
      "                                                                 \n",
      " dense_7 (Dense)             (None, 10)                1290      \n",
      "                                                                 \n",
      "=================================================================\n",
      "Total params: 101,770\n",
      "Trainable params: 101,770\n",
      "Non-trainable params: 0\n",
      "_________________________________________________________________\n"
     ]
    }
   ],
   "source": [
    "# 모델 요약\n",
    "model.summary()"
   ]
  },
  {
   "cell_type": "markdown",
   "id": "c5985ebb",
   "metadata": {},
   "source": [
    "### layer에 이름 붙이기\n",
    "- 유의미한 이름을 달아서 텐서보드 등에서 한눈에 보기 쉽게 만들기"
   ]
  },
  {
   "cell_type": "code",
   "execution_count": 6,
   "id": "e8b7dc55",
   "metadata": {},
   "outputs": [
    {
     "name": "stdout",
     "output_type": "stream",
     "text": [
      "Model: \"sequential_4\"\n",
      "_________________________________________________________________\n",
      " Layer (type)                Output Shape              Param #   \n",
      "=================================================================\n",
      " A (Flatten)                 (None, 784)               0         \n",
      "                                                                 \n",
      " B (Dense)                   (None, 128)               100480    \n",
      "                                                                 \n",
      " C (Dense)                   (None, 10)                1290      \n",
      "                                                                 \n",
      "=================================================================\n",
      "Total params: 101,770\n",
      "Trainable params: 101,770\n",
      "Non-trainable params: 0\n",
      "_________________________________________________________________\n"
     ]
    }
   ],
   "source": [
    "# layer에 이름 붙이기\n",
    "model = Sequential([\n",
    "    Flatten(input_shape=(28,28), name=\"A\"),\n",
    "    Dense(units=128, activation='relu', name=\"B\"),\n",
    "    Dense(units=10, activation='softmax', name=\"C\")\n",
    "])\n",
    "model.summary()"
   ]
  },
  {
   "cell_type": "markdown",
   "id": "a463fae2",
   "metadata": {},
   "source": [
    "### 3. 모델 컴파일"
   ]
  },
  {
   "cell_type": "code",
   "execution_count": null,
   "id": "59798d75",
   "metadata": {},
   "outputs": [],
   "source": []
  }
 ],
 "metadata": {
  "kernelspec": {
   "display_name": "Python 3 (ipykernel)",
   "language": "python",
   "name": "python3"
  },
  "language_info": {
   "codemirror_mode": {
    "name": "ipython",
    "version": 3
   },
   "file_extension": ".py",
   "mimetype": "text/x-python",
   "name": "python",
   "nbconvert_exporter": "python",
   "pygments_lexer": "ipython3",
   "version": "3.9.7"
  }
 },
 "nbformat": 4,
 "nbformat_minor": 5
}
