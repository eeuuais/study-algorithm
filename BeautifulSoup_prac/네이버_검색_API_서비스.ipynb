{
  "nbformat": 4,
  "nbformat_minor": 0,
  "metadata": {
    "colab": {
      "provenance": [],
      "mount_file_id": "1pTcM9s70BkA12gaJfRXDrnfxk99-OQFy",
      "authorship_tag": "ABX9TyMYxfs+O8YygNY9xp2iTrmN",
      "include_colab_link": true
    },
    "kernelspec": {
      "name": "python3",
      "display_name": "Python 3"
    },
    "language_info": {
      "name": "python"
    }
  },
  "cells": [
    {
      "cell_type": "markdown",
      "metadata": {
        "id": "view-in-github",
        "colab_type": "text"
      },
      "source": [
        "<a href=\"https://colab.research.google.com/github/eeuuais/studypolio/blob/main/BeautifulSoup_prac/%EB%84%A4%EC%9D%B4%EB%B2%84_%EA%B2%80%EC%83%89_API_%EC%84%9C%EB%B9%84%EC%8A%A4.ipynb\" target=\"_parent\"><img src=\"https://colab.research.google.com/assets/colab-badge.svg\" alt=\"Open In Colab\"/></a>"
      ]
    },
    {
      "cell_type": "markdown",
      "source": [
        "# 네이버 검색 API 서비스"
      ],
      "metadata": {
        "id": "ZzJnUNbVbuuk"
      }
    },
    {
      "cell_type": "code",
      "execution_count": null,
      "metadata": {
        "colab": {
          "base_uri": "https://localhost:8080/",
          "height": 414
        },
        "id": "KyXrDPG4be08",
        "outputId": "93d15aa2-5893-44ec-8a08-813e39e5ed2f"
      },
      "outputs": [
        {
          "name": "stdout",
          "output_type": "stream",
          "text": [
            "검색 질의: 컴퓨터\n"
          ]
        },
        {
          "output_type": "error",
          "ename": "HTTPError",
          "evalue": "ignored",
          "traceback": [
            "\u001b[0;31m---------------------------------------------------------------------------\u001b[0m",
            "\u001b[0;31mHTTPError\u001b[0m                                 Traceback (most recent call last)",
            "\u001b[0;32m<ipython-input-12-ae1964f1d8fb>\u001b[0m in \u001b[0;36m<module>\u001b[0;34m\u001b[0m\n\u001b[1;32m     30\u001b[0m   \u001b[0mrequest\u001b[0m\u001b[0;34m.\u001b[0m\u001b[0madd_header\u001b[0m\u001b[0;34m(\u001b[0m\u001b[0;34m\"X-Naver-Client-Id\"\u001b[0m\u001b[0;34m,\u001b[0m\u001b[0mclient_id\u001b[0m\u001b[0;34m)\u001b[0m\u001b[0;34m\u001b[0m\u001b[0;34m\u001b[0m\u001b[0m\n\u001b[1;32m     31\u001b[0m   \u001b[0mrequest\u001b[0m\u001b[0;34m.\u001b[0m\u001b[0madd_header\u001b[0m\u001b[0;34m(\u001b[0m\u001b[0;34m\"X-Naver-Client-Secret\"\u001b[0m\u001b[0;34m,\u001b[0m\u001b[0mclient_secret\u001b[0m\u001b[0;34m)\u001b[0m\u001b[0;34m\u001b[0m\u001b[0;34m\u001b[0m\u001b[0m\n\u001b[0;32m---> 32\u001b[0;31m   \u001b[0mresponse\u001b[0m \u001b[0;34m=\u001b[0m \u001b[0murllib\u001b[0m\u001b[0;34m.\u001b[0m\u001b[0mrequest\u001b[0m\u001b[0;34m.\u001b[0m\u001b[0murlopen\u001b[0m\u001b[0;34m(\u001b[0m\u001b[0mrequest\u001b[0m\u001b[0;34m)\u001b[0m\u001b[0;34m\u001b[0m\u001b[0;34m\u001b[0m\u001b[0m\n\u001b[0m\u001b[1;32m     33\u001b[0m   \u001b[0mrescode\u001b[0m \u001b[0;34m=\u001b[0m \u001b[0mresponse\u001b[0m\u001b[0;34m.\u001b[0m\u001b[0mgetcode\u001b[0m\u001b[0;34m(\u001b[0m\u001b[0;34m)\u001b[0m\u001b[0;34m\u001b[0m\u001b[0;34m\u001b[0m\u001b[0m\n\u001b[1;32m     34\u001b[0m \u001b[0;34m\u001b[0m\u001b[0m\n",
            "\u001b[0;32m/usr/lib/python3.8/urllib/request.py\u001b[0m in \u001b[0;36murlopen\u001b[0;34m(url, data, timeout, cafile, capath, cadefault, context)\u001b[0m\n\u001b[1;32m    220\u001b[0m     \u001b[0;32melse\u001b[0m\u001b[0;34m:\u001b[0m\u001b[0;34m\u001b[0m\u001b[0;34m\u001b[0m\u001b[0m\n\u001b[1;32m    221\u001b[0m         \u001b[0mopener\u001b[0m \u001b[0;34m=\u001b[0m \u001b[0m_opener\u001b[0m\u001b[0;34m\u001b[0m\u001b[0;34m\u001b[0m\u001b[0m\n\u001b[0;32m--> 222\u001b[0;31m     \u001b[0;32mreturn\u001b[0m \u001b[0mopener\u001b[0m\u001b[0;34m.\u001b[0m\u001b[0mopen\u001b[0m\u001b[0;34m(\u001b[0m\u001b[0murl\u001b[0m\u001b[0;34m,\u001b[0m \u001b[0mdata\u001b[0m\u001b[0;34m,\u001b[0m \u001b[0mtimeout\u001b[0m\u001b[0;34m)\u001b[0m\u001b[0;34m\u001b[0m\u001b[0;34m\u001b[0m\u001b[0m\n\u001b[0m\u001b[1;32m    223\u001b[0m \u001b[0;34m\u001b[0m\u001b[0m\n\u001b[1;32m    224\u001b[0m \u001b[0;32mdef\u001b[0m \u001b[0minstall_opener\u001b[0m\u001b[0;34m(\u001b[0m\u001b[0mopener\u001b[0m\u001b[0;34m)\u001b[0m\u001b[0;34m:\u001b[0m\u001b[0;34m\u001b[0m\u001b[0;34m\u001b[0m\u001b[0m\n",
            "\u001b[0;32m/usr/lib/python3.8/urllib/request.py\u001b[0m in \u001b[0;36mopen\u001b[0;34m(self, fullurl, data, timeout)\u001b[0m\n\u001b[1;32m    529\u001b[0m         \u001b[0;32mfor\u001b[0m \u001b[0mprocessor\u001b[0m \u001b[0;32min\u001b[0m \u001b[0mself\u001b[0m\u001b[0;34m.\u001b[0m\u001b[0mprocess_response\u001b[0m\u001b[0;34m.\u001b[0m\u001b[0mget\u001b[0m\u001b[0;34m(\u001b[0m\u001b[0mprotocol\u001b[0m\u001b[0;34m,\u001b[0m \u001b[0;34m[\u001b[0m\u001b[0;34m]\u001b[0m\u001b[0;34m)\u001b[0m\u001b[0;34m:\u001b[0m\u001b[0;34m\u001b[0m\u001b[0;34m\u001b[0m\u001b[0m\n\u001b[1;32m    530\u001b[0m             \u001b[0mmeth\u001b[0m \u001b[0;34m=\u001b[0m \u001b[0mgetattr\u001b[0m\u001b[0;34m(\u001b[0m\u001b[0mprocessor\u001b[0m\u001b[0;34m,\u001b[0m \u001b[0mmeth_name\u001b[0m\u001b[0;34m)\u001b[0m\u001b[0;34m\u001b[0m\u001b[0;34m\u001b[0m\u001b[0m\n\u001b[0;32m--> 531\u001b[0;31m             \u001b[0mresponse\u001b[0m \u001b[0;34m=\u001b[0m \u001b[0mmeth\u001b[0m\u001b[0;34m(\u001b[0m\u001b[0mreq\u001b[0m\u001b[0;34m,\u001b[0m \u001b[0mresponse\u001b[0m\u001b[0;34m)\u001b[0m\u001b[0;34m\u001b[0m\u001b[0;34m\u001b[0m\u001b[0m\n\u001b[0m\u001b[1;32m    532\u001b[0m \u001b[0;34m\u001b[0m\u001b[0m\n\u001b[1;32m    533\u001b[0m         \u001b[0;32mreturn\u001b[0m \u001b[0mresponse\u001b[0m\u001b[0;34m\u001b[0m\u001b[0;34m\u001b[0m\u001b[0m\n",
            "\u001b[0;32m/usr/lib/python3.8/urllib/request.py\u001b[0m in \u001b[0;36mhttp_response\u001b[0;34m(self, request, response)\u001b[0m\n\u001b[1;32m    638\u001b[0m         \u001b[0;31m# request was successfully received, understood, and accepted.\u001b[0m\u001b[0;34m\u001b[0m\u001b[0;34m\u001b[0m\u001b[0;34m\u001b[0m\u001b[0m\n\u001b[1;32m    639\u001b[0m         \u001b[0;32mif\u001b[0m \u001b[0;32mnot\u001b[0m \u001b[0;34m(\u001b[0m\u001b[0;36m200\u001b[0m \u001b[0;34m<=\u001b[0m \u001b[0mcode\u001b[0m \u001b[0;34m<\u001b[0m \u001b[0;36m300\u001b[0m\u001b[0;34m)\u001b[0m\u001b[0;34m:\u001b[0m\u001b[0;34m\u001b[0m\u001b[0;34m\u001b[0m\u001b[0m\n\u001b[0;32m--> 640\u001b[0;31m             response = self.parent.error(\n\u001b[0m\u001b[1;32m    641\u001b[0m                 'http', request, response, code, msg, hdrs)\n\u001b[1;32m    642\u001b[0m \u001b[0;34m\u001b[0m\u001b[0m\n",
            "\u001b[0;32m/usr/lib/python3.8/urllib/request.py\u001b[0m in \u001b[0;36merror\u001b[0;34m(self, proto, *args)\u001b[0m\n\u001b[1;32m    567\u001b[0m         \u001b[0;32mif\u001b[0m \u001b[0mhttp_err\u001b[0m\u001b[0;34m:\u001b[0m\u001b[0;34m\u001b[0m\u001b[0;34m\u001b[0m\u001b[0m\n\u001b[1;32m    568\u001b[0m             \u001b[0margs\u001b[0m \u001b[0;34m=\u001b[0m \u001b[0;34m(\u001b[0m\u001b[0mdict\u001b[0m\u001b[0;34m,\u001b[0m \u001b[0;34m'default'\u001b[0m\u001b[0;34m,\u001b[0m \u001b[0;34m'http_error_default'\u001b[0m\u001b[0;34m)\u001b[0m \u001b[0;34m+\u001b[0m \u001b[0morig_args\u001b[0m\u001b[0;34m\u001b[0m\u001b[0;34m\u001b[0m\u001b[0m\n\u001b[0;32m--> 569\u001b[0;31m             \u001b[0;32mreturn\u001b[0m \u001b[0mself\u001b[0m\u001b[0;34m.\u001b[0m\u001b[0m_call_chain\u001b[0m\u001b[0;34m(\u001b[0m\u001b[0;34m*\u001b[0m\u001b[0margs\u001b[0m\u001b[0;34m)\u001b[0m\u001b[0;34m\u001b[0m\u001b[0;34m\u001b[0m\u001b[0m\n\u001b[0m\u001b[1;32m    570\u001b[0m \u001b[0;34m\u001b[0m\u001b[0m\n\u001b[1;32m    571\u001b[0m \u001b[0;31m# XXX probably also want an abstract factory that knows when it makes\u001b[0m\u001b[0;34m\u001b[0m\u001b[0;34m\u001b[0m\u001b[0;34m\u001b[0m\u001b[0m\n",
            "\u001b[0;32m/usr/lib/python3.8/urllib/request.py\u001b[0m in \u001b[0;36m_call_chain\u001b[0;34m(self, chain, kind, meth_name, *args)\u001b[0m\n\u001b[1;32m    500\u001b[0m         \u001b[0;32mfor\u001b[0m \u001b[0mhandler\u001b[0m \u001b[0;32min\u001b[0m \u001b[0mhandlers\u001b[0m\u001b[0;34m:\u001b[0m\u001b[0;34m\u001b[0m\u001b[0;34m\u001b[0m\u001b[0m\n\u001b[1;32m    501\u001b[0m             \u001b[0mfunc\u001b[0m \u001b[0;34m=\u001b[0m \u001b[0mgetattr\u001b[0m\u001b[0;34m(\u001b[0m\u001b[0mhandler\u001b[0m\u001b[0;34m,\u001b[0m \u001b[0mmeth_name\u001b[0m\u001b[0;34m)\u001b[0m\u001b[0;34m\u001b[0m\u001b[0;34m\u001b[0m\u001b[0m\n\u001b[0;32m--> 502\u001b[0;31m             \u001b[0mresult\u001b[0m \u001b[0;34m=\u001b[0m \u001b[0mfunc\u001b[0m\u001b[0;34m(\u001b[0m\u001b[0;34m*\u001b[0m\u001b[0margs\u001b[0m\u001b[0;34m)\u001b[0m\u001b[0;34m\u001b[0m\u001b[0;34m\u001b[0m\u001b[0m\n\u001b[0m\u001b[1;32m    503\u001b[0m             \u001b[0;32mif\u001b[0m \u001b[0mresult\u001b[0m \u001b[0;32mis\u001b[0m \u001b[0;32mnot\u001b[0m \u001b[0;32mNone\u001b[0m\u001b[0;34m:\u001b[0m\u001b[0;34m\u001b[0m\u001b[0;34m\u001b[0m\u001b[0m\n\u001b[1;32m    504\u001b[0m                 \u001b[0;32mreturn\u001b[0m \u001b[0mresult\u001b[0m\u001b[0;34m\u001b[0m\u001b[0;34m\u001b[0m\u001b[0m\n",
            "\u001b[0;32m/usr/lib/python3.8/urllib/request.py\u001b[0m in \u001b[0;36mhttp_error_default\u001b[0;34m(self, req, fp, code, msg, hdrs)\u001b[0m\n\u001b[1;32m    647\u001b[0m \u001b[0;32mclass\u001b[0m \u001b[0mHTTPDefaultErrorHandler\u001b[0m\u001b[0;34m(\u001b[0m\u001b[0mBaseHandler\u001b[0m\u001b[0;34m)\u001b[0m\u001b[0;34m:\u001b[0m\u001b[0;34m\u001b[0m\u001b[0;34m\u001b[0m\u001b[0m\n\u001b[1;32m    648\u001b[0m     \u001b[0;32mdef\u001b[0m \u001b[0mhttp_error_default\u001b[0m\u001b[0;34m(\u001b[0m\u001b[0mself\u001b[0m\u001b[0;34m,\u001b[0m \u001b[0mreq\u001b[0m\u001b[0;34m,\u001b[0m \u001b[0mfp\u001b[0m\u001b[0;34m,\u001b[0m \u001b[0mcode\u001b[0m\u001b[0;34m,\u001b[0m \u001b[0mmsg\u001b[0m\u001b[0;34m,\u001b[0m \u001b[0mhdrs\u001b[0m\u001b[0;34m)\u001b[0m\u001b[0;34m:\u001b[0m\u001b[0;34m\u001b[0m\u001b[0;34m\u001b[0m\u001b[0m\n\u001b[0;32m--> 649\u001b[0;31m         \u001b[0;32mraise\u001b[0m \u001b[0mHTTPError\u001b[0m\u001b[0;34m(\u001b[0m\u001b[0mreq\u001b[0m\u001b[0;34m.\u001b[0m\u001b[0mfull_url\u001b[0m\u001b[0;34m,\u001b[0m \u001b[0mcode\u001b[0m\u001b[0;34m,\u001b[0m \u001b[0mmsg\u001b[0m\u001b[0;34m,\u001b[0m \u001b[0mhdrs\u001b[0m\u001b[0;34m,\u001b[0m \u001b[0mfp\u001b[0m\u001b[0;34m)\u001b[0m\u001b[0;34m\u001b[0m\u001b[0;34m\u001b[0m\u001b[0m\n\u001b[0m\u001b[1;32m    650\u001b[0m \u001b[0;34m\u001b[0m\u001b[0m\n\u001b[1;32m    651\u001b[0m \u001b[0;32mclass\u001b[0m \u001b[0mHTTPRedirectHandler\u001b[0m\u001b[0;34m(\u001b[0m\u001b[0mBaseHandler\u001b[0m\u001b[0;34m)\u001b[0m\u001b[0;34m:\u001b[0m\u001b[0;34m\u001b[0m\u001b[0;34m\u001b[0m\u001b[0m\n",
            "\u001b[0;31mHTTPError\u001b[0m: HTTP Error 500: Internal Server Error"
          ]
        }
      ],
      "source": [
        "# 네이버 검색 API 예제 - 웹문서 검색\n",
        "import os\n",
        "import sys\n",
        "import urllib.request\n",
        "import pandas as pd\n",
        "import json\n",
        "import re\n",
        "\n",
        "client_id = \"XS4d15kNk_WRBapweBxc\"\n",
        "client_secret = \"XhyQx8mYly\"\n",
        "\n",
        "#실행할 때마다 검색 질의를 입력하면 그 검색질의에 대해 url이 만들어지고 요청할 수 있게 된다\n",
        "\n",
        "query = urllib.parse.quote(input(\"검색 질의: \"))\n",
        "idx = 0\n",
        "display = 100\n",
        "start = 1\n",
        "end = 100\n",
        "\n",
        "#저장\n",
        "web_df = pd.DataFrame(columns=(\"Title\", \"Link\", \"Discription\"))\n",
        "\n",
        "#start 1부터 end 1000까지 display로 스텝을 100개 단위로 json 결과 가져오기\n",
        "for start_index in range(start, end, display):\n",
        "  url = \"https://openapi.naver.com/v1/search/webkr?query=\" + query \\\n",
        "        + \"&display=\" + str(display) \\\n",
        "        + \"%start=\" + str(start_index)\n",
        "\n",
        "  request = urllib.request.Request(url)\n",
        "  request.add_header(\"X-Naver-Client-Id\",client_id)\n",
        "  request.add_header(\"X-Naver-Client-Secret\",client_secret)\n",
        "  response = urllib.request.urlopen(request)\n",
        "  rescode = response.getcode()\n",
        "\n",
        "  #api요청에 대해 정상적인 응답이다 = 200\n",
        "  if(rescode==200):\n",
        "      response_body = response.read()\n",
        "      response_dict = json.loads(response_body.decode('utf-8'))\n",
        "      items = response_dict['items']\n",
        "      for item_index in range(0, len(items)):\n",
        "        remove_tag = re.compile('<.*?>') # tag 지우기\n",
        "        title = re.sub(remove_tag, '', items[item_index]['title'])\n",
        "        link = items[item_index]['link']\n",
        "        description = re.sub(remove_tag, '', items[item_index]['description'])\n",
        "        web_df.loc[idx] = [title, link, description]\n",
        "        idx += 1\n",
        "  else:\n",
        "      print(\"Error Code:\" + rescode)\n",
        "\n",
        "web_df\n"
      ]
    },
    {
      "cell_type": "code",
      "source": [
        "# 네이버 검색 API 예제 - 지식인 검색 API\n",
        "\n",
        "import os\n",
        "import sys\n",
        "import urllib.request\n",
        "import pandas as pd\n",
        "import json\n",
        "import re\n",
        "\n",
        "client_id = \"XS4d15kNk_WRBapweBxc\"\n",
        "client_secret = \"XhyQx8mYly\"\n",
        "\n",
        "#실행할 때마다 검색 질의를 입력하면 그 검색질의에 대해 url이 만들어지고 요청할 수 있게 된다\n",
        "\n",
        "query = urllib.parse.quote(input(\"검색 질의: \"))\n",
        "idx = 0\n",
        "display = 100\n",
        "start = 1\n",
        "end = 1000\n",
        "sort = \"sim\"\n",
        "\n",
        "#저장\n",
        "kin_df = pd.DataFrame(columns=(\"Title\", \"Link\", \"Discription\"))\n",
        "\n",
        "#start 1부터 end 1000까지 display로 스텝을 100개 단위로 json 결과 가져오기\n",
        "for start_index in range(start, end, display):\n",
        "  url = \"https://openapi.naver.com/v1/search/kin?query=\" + query \\\n",
        "        + \"&display=\" + str(display) \\\n",
        "        + \"%start=\" + str(start_index) \\\n",
        "        + \"&sort\" + sort\n",
        "\n",
        "  request = urllib.request.Request(url)\n",
        "  request.add_header(\"X-Naver-Client-Id\",client_id)\n",
        "  request.add_header(\"X-Naver-Client-Secret\",client_secret)\n",
        "  response = urllib.request.urlopen(request)\n",
        "  rescode = response.getcode()\n",
        "\n",
        "  #api요청에 대해 정상적인 응답이다 = 200\n",
        "  if(rescode==200):\n",
        "      response_body = response.read()\n",
        "      response_dict = json.loads(response_body.decode('utf-8'))\n",
        "      items = response_dict['items']\n",
        "      for item_index in range(0, len(items)):\n",
        "        remove_tag = re.compile('<.*?>') # tag 지우기\n",
        "        title = re.sub(remove_tag, '', items[item_index]['title'])\n",
        "        link = items[item_index]['link']\n",
        "        description = re.sub(remove_tag, '', items[item_index]['description'])\n",
        "        kin_df.loc[idx] = [title, link, description]\n",
        "        idx += 1\n",
        "  else:\n",
        "      print(\"Error Code:\" + rescode)\n",
        "\n",
        "kin_df\n"
      ],
      "metadata": {
        "colab": {
          "base_uri": "https://localhost:8080/",
          "height": 414
        },
        "id": "lL3_k4l1dNqL",
        "outputId": "7f5fd026-c21d-4185-e6f8-e69117a8823f"
      },
      "execution_count": null,
      "outputs": [
        {
          "name": "stdout",
          "output_type": "stream",
          "text": [
            "검색 질의: 컴퓨터\n"
          ]
        },
        {
          "output_type": "error",
          "ename": "HTTPError",
          "evalue": "ignored",
          "traceback": [
            "\u001b[0;31m---------------------------------------------------------------------------\u001b[0m",
            "\u001b[0;31mHTTPError\u001b[0m                                 Traceback (most recent call last)",
            "\u001b[0;32m<ipython-input-9-35895cf3b8ff>\u001b[0m in \u001b[0;36m<module>\u001b[0;34m\u001b[0m\n\u001b[1;32m     33\u001b[0m   \u001b[0mrequest\u001b[0m\u001b[0;34m.\u001b[0m\u001b[0madd_header\u001b[0m\u001b[0;34m(\u001b[0m\u001b[0;34m\"X-Naver-Client-Id\"\u001b[0m\u001b[0;34m,\u001b[0m\u001b[0mclient_id\u001b[0m\u001b[0;34m)\u001b[0m\u001b[0;34m\u001b[0m\u001b[0;34m\u001b[0m\u001b[0m\n\u001b[1;32m     34\u001b[0m   \u001b[0mrequest\u001b[0m\u001b[0;34m.\u001b[0m\u001b[0madd_header\u001b[0m\u001b[0;34m(\u001b[0m\u001b[0;34m\"X-Naver-Client-Secret\"\u001b[0m\u001b[0;34m,\u001b[0m\u001b[0mclient_secret\u001b[0m\u001b[0;34m)\u001b[0m\u001b[0;34m\u001b[0m\u001b[0;34m\u001b[0m\u001b[0m\n\u001b[0;32m---> 35\u001b[0;31m   \u001b[0mresponse\u001b[0m \u001b[0;34m=\u001b[0m \u001b[0murllib\u001b[0m\u001b[0;34m.\u001b[0m\u001b[0mrequest\u001b[0m\u001b[0;34m.\u001b[0m\u001b[0murlopen\u001b[0m\u001b[0;34m(\u001b[0m\u001b[0mrequest\u001b[0m\u001b[0;34m)\u001b[0m\u001b[0;34m\u001b[0m\u001b[0;34m\u001b[0m\u001b[0m\n\u001b[0m\u001b[1;32m     36\u001b[0m   \u001b[0mrescode\u001b[0m \u001b[0;34m=\u001b[0m \u001b[0mresponse\u001b[0m\u001b[0;34m.\u001b[0m\u001b[0mgetcode\u001b[0m\u001b[0;34m(\u001b[0m\u001b[0;34m)\u001b[0m\u001b[0;34m\u001b[0m\u001b[0;34m\u001b[0m\u001b[0m\n\u001b[1;32m     37\u001b[0m \u001b[0;34m\u001b[0m\u001b[0m\n",
            "\u001b[0;32m/usr/lib/python3.8/urllib/request.py\u001b[0m in \u001b[0;36murlopen\u001b[0;34m(url, data, timeout, cafile, capath, cadefault, context)\u001b[0m\n\u001b[1;32m    220\u001b[0m     \u001b[0;32melse\u001b[0m\u001b[0;34m:\u001b[0m\u001b[0;34m\u001b[0m\u001b[0;34m\u001b[0m\u001b[0m\n\u001b[1;32m    221\u001b[0m         \u001b[0mopener\u001b[0m \u001b[0;34m=\u001b[0m \u001b[0m_opener\u001b[0m\u001b[0;34m\u001b[0m\u001b[0;34m\u001b[0m\u001b[0m\n\u001b[0;32m--> 222\u001b[0;31m     \u001b[0;32mreturn\u001b[0m \u001b[0mopener\u001b[0m\u001b[0;34m.\u001b[0m\u001b[0mopen\u001b[0m\u001b[0;34m(\u001b[0m\u001b[0murl\u001b[0m\u001b[0;34m,\u001b[0m \u001b[0mdata\u001b[0m\u001b[0;34m,\u001b[0m \u001b[0mtimeout\u001b[0m\u001b[0;34m)\u001b[0m\u001b[0;34m\u001b[0m\u001b[0;34m\u001b[0m\u001b[0m\n\u001b[0m\u001b[1;32m    223\u001b[0m \u001b[0;34m\u001b[0m\u001b[0m\n\u001b[1;32m    224\u001b[0m \u001b[0;32mdef\u001b[0m \u001b[0minstall_opener\u001b[0m\u001b[0;34m(\u001b[0m\u001b[0mopener\u001b[0m\u001b[0;34m)\u001b[0m\u001b[0;34m:\u001b[0m\u001b[0;34m\u001b[0m\u001b[0;34m\u001b[0m\u001b[0m\n",
            "\u001b[0;32m/usr/lib/python3.8/urllib/request.py\u001b[0m in \u001b[0;36mopen\u001b[0;34m(self, fullurl, data, timeout)\u001b[0m\n\u001b[1;32m    529\u001b[0m         \u001b[0;32mfor\u001b[0m \u001b[0mprocessor\u001b[0m \u001b[0;32min\u001b[0m \u001b[0mself\u001b[0m\u001b[0;34m.\u001b[0m\u001b[0mprocess_response\u001b[0m\u001b[0;34m.\u001b[0m\u001b[0mget\u001b[0m\u001b[0;34m(\u001b[0m\u001b[0mprotocol\u001b[0m\u001b[0;34m,\u001b[0m \u001b[0;34m[\u001b[0m\u001b[0;34m]\u001b[0m\u001b[0;34m)\u001b[0m\u001b[0;34m:\u001b[0m\u001b[0;34m\u001b[0m\u001b[0;34m\u001b[0m\u001b[0m\n\u001b[1;32m    530\u001b[0m             \u001b[0mmeth\u001b[0m \u001b[0;34m=\u001b[0m \u001b[0mgetattr\u001b[0m\u001b[0;34m(\u001b[0m\u001b[0mprocessor\u001b[0m\u001b[0;34m,\u001b[0m \u001b[0mmeth_name\u001b[0m\u001b[0;34m)\u001b[0m\u001b[0;34m\u001b[0m\u001b[0;34m\u001b[0m\u001b[0m\n\u001b[0;32m--> 531\u001b[0;31m             \u001b[0mresponse\u001b[0m \u001b[0;34m=\u001b[0m \u001b[0mmeth\u001b[0m\u001b[0;34m(\u001b[0m\u001b[0mreq\u001b[0m\u001b[0;34m,\u001b[0m \u001b[0mresponse\u001b[0m\u001b[0;34m)\u001b[0m\u001b[0;34m\u001b[0m\u001b[0;34m\u001b[0m\u001b[0m\n\u001b[0m\u001b[1;32m    532\u001b[0m \u001b[0;34m\u001b[0m\u001b[0m\n\u001b[1;32m    533\u001b[0m         \u001b[0;32mreturn\u001b[0m \u001b[0mresponse\u001b[0m\u001b[0;34m\u001b[0m\u001b[0;34m\u001b[0m\u001b[0m\n",
            "\u001b[0;32m/usr/lib/python3.8/urllib/request.py\u001b[0m in \u001b[0;36mhttp_response\u001b[0;34m(self, request, response)\u001b[0m\n\u001b[1;32m    638\u001b[0m         \u001b[0;31m# request was successfully received, understood, and accepted.\u001b[0m\u001b[0;34m\u001b[0m\u001b[0;34m\u001b[0m\u001b[0;34m\u001b[0m\u001b[0m\n\u001b[1;32m    639\u001b[0m         \u001b[0;32mif\u001b[0m \u001b[0;32mnot\u001b[0m \u001b[0;34m(\u001b[0m\u001b[0;36m200\u001b[0m \u001b[0;34m<=\u001b[0m \u001b[0mcode\u001b[0m \u001b[0;34m<\u001b[0m \u001b[0;36m300\u001b[0m\u001b[0;34m)\u001b[0m\u001b[0;34m:\u001b[0m\u001b[0;34m\u001b[0m\u001b[0;34m\u001b[0m\u001b[0m\n\u001b[0;32m--> 640\u001b[0;31m             response = self.parent.error(\n\u001b[0m\u001b[1;32m    641\u001b[0m                 'http', request, response, code, msg, hdrs)\n\u001b[1;32m    642\u001b[0m \u001b[0;34m\u001b[0m\u001b[0m\n",
            "\u001b[0;32m/usr/lib/python3.8/urllib/request.py\u001b[0m in \u001b[0;36merror\u001b[0;34m(self, proto, *args)\u001b[0m\n\u001b[1;32m    567\u001b[0m         \u001b[0;32mif\u001b[0m \u001b[0mhttp_err\u001b[0m\u001b[0;34m:\u001b[0m\u001b[0;34m\u001b[0m\u001b[0;34m\u001b[0m\u001b[0m\n\u001b[1;32m    568\u001b[0m             \u001b[0margs\u001b[0m \u001b[0;34m=\u001b[0m \u001b[0;34m(\u001b[0m\u001b[0mdict\u001b[0m\u001b[0;34m,\u001b[0m \u001b[0;34m'default'\u001b[0m\u001b[0;34m,\u001b[0m \u001b[0;34m'http_error_default'\u001b[0m\u001b[0;34m)\u001b[0m \u001b[0;34m+\u001b[0m \u001b[0morig_args\u001b[0m\u001b[0;34m\u001b[0m\u001b[0;34m\u001b[0m\u001b[0m\n\u001b[0;32m--> 569\u001b[0;31m             \u001b[0;32mreturn\u001b[0m \u001b[0mself\u001b[0m\u001b[0;34m.\u001b[0m\u001b[0m_call_chain\u001b[0m\u001b[0;34m(\u001b[0m\u001b[0;34m*\u001b[0m\u001b[0margs\u001b[0m\u001b[0;34m)\u001b[0m\u001b[0;34m\u001b[0m\u001b[0;34m\u001b[0m\u001b[0m\n\u001b[0m\u001b[1;32m    570\u001b[0m \u001b[0;34m\u001b[0m\u001b[0m\n\u001b[1;32m    571\u001b[0m \u001b[0;31m# XXX probably also want an abstract factory that knows when it makes\u001b[0m\u001b[0;34m\u001b[0m\u001b[0;34m\u001b[0m\u001b[0;34m\u001b[0m\u001b[0m\n",
            "\u001b[0;32m/usr/lib/python3.8/urllib/request.py\u001b[0m in \u001b[0;36m_call_chain\u001b[0;34m(self, chain, kind, meth_name, *args)\u001b[0m\n\u001b[1;32m    500\u001b[0m         \u001b[0;32mfor\u001b[0m \u001b[0mhandler\u001b[0m \u001b[0;32min\u001b[0m \u001b[0mhandlers\u001b[0m\u001b[0;34m:\u001b[0m\u001b[0;34m\u001b[0m\u001b[0;34m\u001b[0m\u001b[0m\n\u001b[1;32m    501\u001b[0m             \u001b[0mfunc\u001b[0m \u001b[0;34m=\u001b[0m \u001b[0mgetattr\u001b[0m\u001b[0;34m(\u001b[0m\u001b[0mhandler\u001b[0m\u001b[0;34m,\u001b[0m \u001b[0mmeth_name\u001b[0m\u001b[0;34m)\u001b[0m\u001b[0;34m\u001b[0m\u001b[0;34m\u001b[0m\u001b[0m\n\u001b[0;32m--> 502\u001b[0;31m             \u001b[0mresult\u001b[0m \u001b[0;34m=\u001b[0m \u001b[0mfunc\u001b[0m\u001b[0;34m(\u001b[0m\u001b[0;34m*\u001b[0m\u001b[0margs\u001b[0m\u001b[0;34m)\u001b[0m\u001b[0;34m\u001b[0m\u001b[0;34m\u001b[0m\u001b[0m\n\u001b[0m\u001b[1;32m    503\u001b[0m             \u001b[0;32mif\u001b[0m \u001b[0mresult\u001b[0m \u001b[0;32mis\u001b[0m \u001b[0;32mnot\u001b[0m \u001b[0;32mNone\u001b[0m\u001b[0;34m:\u001b[0m\u001b[0;34m\u001b[0m\u001b[0;34m\u001b[0m\u001b[0m\n\u001b[1;32m    504\u001b[0m                 \u001b[0;32mreturn\u001b[0m \u001b[0mresult\u001b[0m\u001b[0;34m\u001b[0m\u001b[0;34m\u001b[0m\u001b[0m\n",
            "\u001b[0;32m/usr/lib/python3.8/urllib/request.py\u001b[0m in \u001b[0;36mhttp_error_default\u001b[0;34m(self, req, fp, code, msg, hdrs)\u001b[0m\n\u001b[1;32m    647\u001b[0m \u001b[0;32mclass\u001b[0m \u001b[0mHTTPDefaultErrorHandler\u001b[0m\u001b[0;34m(\u001b[0m\u001b[0mBaseHandler\u001b[0m\u001b[0;34m)\u001b[0m\u001b[0;34m:\u001b[0m\u001b[0;34m\u001b[0m\u001b[0;34m\u001b[0m\u001b[0m\n\u001b[1;32m    648\u001b[0m     \u001b[0;32mdef\u001b[0m \u001b[0mhttp_error_default\u001b[0m\u001b[0;34m(\u001b[0m\u001b[0mself\u001b[0m\u001b[0;34m,\u001b[0m \u001b[0mreq\u001b[0m\u001b[0;34m,\u001b[0m \u001b[0mfp\u001b[0m\u001b[0;34m,\u001b[0m \u001b[0mcode\u001b[0m\u001b[0;34m,\u001b[0m \u001b[0mmsg\u001b[0m\u001b[0;34m,\u001b[0m \u001b[0mhdrs\u001b[0m\u001b[0;34m)\u001b[0m\u001b[0;34m:\u001b[0m\u001b[0;34m\u001b[0m\u001b[0;34m\u001b[0m\u001b[0m\n\u001b[0;32m--> 649\u001b[0;31m         \u001b[0;32mraise\u001b[0m \u001b[0mHTTPError\u001b[0m\u001b[0;34m(\u001b[0m\u001b[0mreq\u001b[0m\u001b[0;34m.\u001b[0m\u001b[0mfull_url\u001b[0m\u001b[0;34m,\u001b[0m \u001b[0mcode\u001b[0m\u001b[0;34m,\u001b[0m \u001b[0mmsg\u001b[0m\u001b[0;34m,\u001b[0m \u001b[0mhdrs\u001b[0m\u001b[0;34m,\u001b[0m \u001b[0mfp\u001b[0m\u001b[0;34m)\u001b[0m\u001b[0;34m\u001b[0m\u001b[0;34m\u001b[0m\u001b[0m\n\u001b[0m\u001b[1;32m    650\u001b[0m \u001b[0;34m\u001b[0m\u001b[0m\n\u001b[1;32m    651\u001b[0m \u001b[0;32mclass\u001b[0m \u001b[0mHTTPRedirectHandler\u001b[0m\u001b[0;34m(\u001b[0m\u001b[0mBaseHandler\u001b[0m\u001b[0;34m)\u001b[0m\u001b[0;34m:\u001b[0m\u001b[0;34m\u001b[0m\u001b[0;34m\u001b[0m\u001b[0m\n",
            "\u001b[0;31mHTTPError\u001b[0m: HTTP Error 500: Internal Server Error"
          ]
        }
      ]
    },
    {
      "cell_type": "code",
      "source": [
        "# 네이버 검색 API 예제 - 블로그 검색\n",
        "import os\n",
        "import sys\n",
        "import urllib.request\n",
        "client_id = \"XS4d15kNk_WRBapweBxc\"\n",
        "client_secret = \"XhyQx8mYly\"\n",
        "encText = urllib.parse.quote(\"검색할 단어\")\n",
        "url = \"https://openapi.naver.com/v1/search/blog?query=\" + encText # JSON 결과\n",
        "# url = \"https://openapi.naver.com/v1/search/blog.xml?query=\" + encText # XML 결과\n",
        "request = urllib.request.Request(url)\n",
        "request.add_header(\"X-Naver-Client-Id\",client_id)\n",
        "request.add_header(\"X-Naver-Client-Secret\",client_secret)\n",
        "response = urllib.request.urlopen(request)\n",
        "rescode = response.getcode()\n",
        "if(rescode==200):\n",
        "    response_body = response.read()\n",
        "    print(response_body.decode('utf-8'))\n",
        "else:\n",
        "    print(\"Error Code:\" + rescode)"
      ],
      "metadata": {
        "colab": {
          "base_uri": "https://localhost:8080/"
        },
        "id": "YOPy2sDLsqwB",
        "outputId": "c433d402-3e05-483f-f03e-b54061423855"
      },
      "execution_count": null,
      "outputs": [
        {
          "output_type": "stream",
          "name": "stdout",
          "text": [
            "{\n",
            "\t\"lastBuildDate\":\"Tue, 07 Feb 2023 02:08:19 +0900\",\n",
            "\t\"total\":896766,\n",
            "\t\"start\":1,\n",
            "\t\"display\":10,\n",
            "\t\"items\":[\n",
            "\t\t{\n",
            "\t\t\t\"title\":\"아이폰 사파리 텍스트 찾기 <b>단어<\\/b> <b>검색<\\/b> 방법 정리\",\n",
            "\t\t\t\"link\":\"https:\\/\\/blog.naver.com\\/jhbksgi\\/222982804031\",\n",
            "\t\t\t\"description\":\"아이폰 사파리 크롬 텍스트 찾기 <b>단어<\\/b> <b>검색<\\/b> 방법 정리 글\\/사진 : 곰T 기본적으로 컴퓨터용, 모바일용 Browser에는 '<b>검색<\\/b>' 기능이 있습니다. 그냥 <b>검색<\\/b>(Search)이라고 하면 감이 잘 오지 않을 수 있겠네요. 좀 더... \",\n",
            "\t\t\t\"bloggername\":\"곰T의 IT트러블슈팅\",\n",
            "\t\t\t\"bloggerlink\":\"blog.naver.com\\/jhbksgi\",\n",
            "\t\t\t\"postdate\":\"20230112\"\n",
            "\t\t},\n",
            "\t\t{\n",
            "\t\t\t\"title\":\"영어<b>단어<\\/b> <b>검색<\\/b>은 꼭 구글을 이용하기 네이버영어사전 vs... \",\n",
            "\t\t\t\"link\":\"https:\\/\\/blog.naver.com\\/rhyrhyrhy\\/222923284547\",\n",
            "\t\t\t\"description\":\"leave 의 뜻이라고 <b>검색<\\/b>이 됩니다. 사실 이 <b>단어<\\/b> 한개 뿐만이 아니라, 이런식으로 네이버 포털<b>검색<\\/b>으로 정확한 의미를 찾을 수 없었던 <b>단어<\\/b>들이 더 있었어요. 0 점대 레벨 도서에 나와있는 <b>단어<\\/b>들, 게다가... \",\n",
            "\t\t\t\"bloggername\":\"키즈 영어서점 중고 영어 원서 전문\",\n",
            "\t\t\t\"bloggerlink\":\"blog.naver.com\\/rhyrhyrhy\",\n",
            "\t\t\t\"postdate\":\"20221108\"\n",
            "\t\t},\n",
            "\t\t{\n",
            "\t\t\t\"title\":\"블로그 포스팅 <b>검색<\\/b> 누락 해결 방법 중복 <b>단어<\\/b> 개수 확인 방법\",\n",
            "\t\t\t\"link\":\"https:\\/\\/blog.naver.com\\/seejine\\/223005367423\",\n",
            "\t\t\t\"description\":\"금칙어 확인 내가 의도하지 않았지만 <b>단어<\\/b>만 <b>검색<\\/b>했을 때 욕설이나, 음란성, 불법적인 말들이 되었을 때도 뷰텝누락이 생길 수 있습니다. 최대한 금지어는 피하는 것이 좋습니다. 금지어는 금칙어 검사에서... \",\n",
            "\t\t\t\"bloggername\":\"스칼렛&apos;의 블로그 다이어리\",\n",
            "\t\t\t\"bloggerlink\":\"blog.naver.com\\/seejine\",\n",
            "\t\t\t\"postdate\":\"20230204\"\n",
            "\t\t},\n",
            "\t\t{\n",
            "\t\t\t\"title\":\"2022 호주(Aussie) 사람들이 가장 많이 <b>검색<\\/b>한 <b>단어<\\/b>는... \",\n",
            "\t\t\t\"link\":\"https:\\/\\/blog.naver.com\\/alkalifa\\/222972234445\",\n",
            "\t\t\t\"description\":\"싶어서 <b>검색<\\/b>해보니 영국 웨일즈의 SW엔지니어 Josh Wardle이 만든 <b>단어<\\/b> 퀴즈 게임이었습니다. 그래서 당장 다운받아서 해보았습니다 일단 무료로 다운로드 받을 수 있습니당 워들 게임의 룰은 단순합니다... \",\n",
            "\t\t\t\"bloggername\":\"渤海人의 원더랜드\",\n",
            "\t\t\t\"bloggerlink\":\"blog.naver.com\\/alkalifa\",\n",
            "\t\t\t\"postdate\":\"20230101\"\n",
            "\t\t},\n",
            "\t\t{\n",
            "\t\t\t\"title\":\"네이버 블로그 방문자수 늘리기 <b>검색<\\/b> <b>단어<\\/b> 확장 팁\",\n",
            "\t\t\t\"link\":\"https:\\/\\/blog.naver.com\\/gsamo\\/222899718641\",\n",
            "\t\t\t\"description\":\"오늘은 짧고 굵게 네이버 블로그 방문자수 늘리기 팁 <b>검색<\\/b> <b>단어<\\/b> 확장 방법을 공유하도록 하겠습니다. 블로그에 글은 점점 쌓이는데 방문자 수가 늘어나는 것이 더디다면 분명 이 글이 도움 될 테니 끝까지... \",\n",
            "\t\t\t\"bloggername\":\"디노찌로에- 재밌는 IT 이야기\",\n",
            "\t\t\t\"bloggerlink\":\"blog.naver.com\\/gsamo\",\n",
            "\t\t\t\"postdate\":\"20221014\"\n",
            "\t\t},\n",
            "\t\t{\n",
            "\t\t\t\"title\":\"영어 <b>단어<\\/b>로 유튜브 영상 <b>검색<\\/b>해주는 유글리쉬 사용법\",\n",
            "\t\t\t\"link\":\"https:\\/\\/blog.naver.com\\/tepet\\/222697272255\",\n",
            "\t\t\t\"description\":\"있는 분야의 핵심 <b>단어<\\/b>를 입력하면, 그 <b>단어<\\/b>가 사용된 문장이 나와주기 때문에 발음과 주로 함께 사용되는 <b>단어<\\/b>들까지 강제로 영어 공부가 된다. #영어<b>단어<\\/b> #유튜브 #영상<b>검색<\\/b> #유글리쉬 #사용법\",\n",
            "\t\t\t\"bloggername\":\"내만게만동인\",\n",
            "\t\t\t\"bloggerlink\":\"blog.naver.com\\/tepet\",\n",
            "\t\t\t\"postdate\":\"20220411\"\n",
            "\t\t},\n",
            "\t\t{\n",
            "\t\t\t\"title\":\"딕셔너리 활용 예제 | 영어 <b>단어<\\/b> <b>검색<\\/b> 프로그램 만들기\",\n",
            "\t\t\t\"link\":\"https:\\/\\/blog.naver.com\\/codethem\\/222310806177\",\n",
            "\t\t\t\"description\":\"아래와 같이 <b>검색할 단어<\\/b>를 입력하면, 검색한 단어의 뜻을 알려줍니다. 그리고 등록되어 있지 않은 단어는 등록되어 있지 않다는 메시지를 띄워줍니다. 함께 코드를 만들어 나가기 전에, 아래 영상을 통해 오늘... \",\n",
            "\t\t\t\"bloggername\":\"꿈을 코딩하다 CodeThem\",\n",
            "\t\t\t\"bloggerlink\":\"blog.naver.com\\/codethem\",\n",
            "\t\t\t\"postdate\":\"20210415\"\n",
            "\t\t},\n",
            "\t\t{\n",
            "\t\t\t\"title\":\"네이버 블로그 금칙어 <b>검색<\\/b> 누락 조심하면 좋은 <b>단어<\\/b>들 모음\",\n",
            "\t\t\t\"link\":\"https:\\/\\/blog.naver.com\\/hi_kira\\/222853564187\",\n",
            "\t\t\t\"description\":\"때문에 <b>검색<\\/b> 누락이 있는걸까? 라는 의문도 들지만 소 잃고 외양간 고치는거보다는.. 잃기전에 조심하는게 좋겠죠? 아래는 제가 개인적으로 포스팅 발행하면서 금칙어 <b>단어<\\/b>에 잡혔던 <b>단어<\\/b>를 모아봤어요. 그럼... \",\n",
            "\t\t\t\"bloggername\":\"HI, KIRA\",\n",
            "\t\t\t\"bloggerlink\":\"blog.naver.com\\/hi_kira\",\n",
            "\t\t\t\"postdate\":\"20220820\"\n",
            "\t\t},\n",
            "\t\t{\n",
            "\t\t\t\"title\":\"블로그 상위랭크는 두<b>단어<\\/b> <b>검색<\\/b>으로 확인 가능하다\",\n",
            "\t\t\t\"link\":\"https:\\/\\/blog.naver.com\\/nbssd\\/222931719218\",\n",
            "\t\t\t\"description\":\"두<b>단어<\\/b>만 <b>검색<\\/b>해보자. 지금쓰는 블로그를 포스팅하고 상위에 랭크되었는지는 2시간 정도 지난 후에 <b>검색<\\/b>해보면 된다. <b>검색<\\/b>은 제목에 있는 명사 혹은 형용사를 합쳐서 2개다. 잘 안나오면 3개를 해보면 된다.... \",\n",
            "\t\t\t\"bloggername\":\"블로그 책쓰기 세상\",\n",
            "\t\t\t\"bloggerlink\":\"blog.naver.com\\/nbssd\",\n",
            "\t\t\t\"postdate\":\"20221125\"\n",
            "\t\t},\n",
            "\t\t{\n",
            "\t\t\t\"title\":\"한글 <b>단어<\\/b> <b>검색<\\/b> 찾기 : 1초 만에 끝\",\n",
            "\t\t\t\"link\":\"https:\\/\\/blog.naver.com\\/dmswl9028\\/222774697180\",\n",
            "\t\t\t\"description\":\"여기서 알려드릴 한글 <b>단어<\\/b> <b>검색<\\/b>은 여기에 국한되지 않고 인터넷 모든 곳에서 사용이 가능합니다. 오늘 이 딱 하나의 단축키만 알고 가셔도 앞으로 인터넷 사용하는데 있어서 편하실 것 같습니다. 한글 <b>단어<\\/b>... \",\n",
            "\t\t\t\"bloggername\":\"디지털노마드망고가치\",\n",
            "\t\t\t\"bloggerlink\":\"blog.naver.com\\/dmswl9028\",\n",
            "\t\t\t\"postdate\":\"20220620\"\n",
            "\t\t}\n",
            "\t]\n",
            "}\n"
          ]
        }
      ]
    }
  ]
}