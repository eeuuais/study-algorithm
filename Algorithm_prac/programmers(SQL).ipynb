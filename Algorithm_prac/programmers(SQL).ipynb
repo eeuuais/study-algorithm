{
  "nbformat": 4,
  "nbformat_minor": 0,
  "metadata": {
    "colab": {
      "provenance": [],
      "collapsed_sections": [
        "wrws54lkO7QT",
        "Xc4SSWYAO9ME",
        "xk6lDOwqPATy",
        "1BYO-LjjPCRR"
      ],
      "authorship_tag": "ABX9TyMJmgrKWajfEXHWz3W9l94+",
      "include_colab_link": true
    },
    "kernelspec": {
      "name": "python3",
      "display_name": "Python 3"
    },
    "language_info": {
      "name": "python"
    }
  },
  "cells": [
    {
      "cell_type": "markdown",
      "metadata": {
        "id": "view-in-github",
        "colab_type": "text"
      },
      "source": [
        "<a href=\"https://colab.research.google.com/github/eeuuais/studypolio/blob/main/Algorithm_prac/programmers(SQL).ipynb\" target=\"_parent\"><img src=\"https://colab.research.google.com/assets/colab-badge.svg\" alt=\"Open In Colab\"/></a>"
      ]
    },
    {
      "cell_type": "markdown",
      "source": [
        "# SELECT"
      ],
      "metadata": {
        "id": "wrws54lkO7QT"
      }
    },
    {
      "cell_type": "code",
      "source": [
        "# 3월에 태어난 여성 회원 목록 출력하기\n",
        "\n",
        "SELECT MEMBER_ID\n",
        ", MEMBER_NAME\n",
        ", GENDER\n",
        ", TO_CHAR(DATE_OF_BIRTH, 'YYYY-MM-DD') AS DATE_OF_BIRTH\n",
        "FROM MEMBER_PROFILE\n",
        "WHERE TO_CHAR(DATE_OF_BIRTH, 'MM') = '03'\n",
        "AND GENDER = 'W'\n",
        "AND TLNO IS NOT NULL\n",
        "ORDER BY MEMBER_ID"
      ],
      "metadata": {
        "id": "4g-YJ6uFPIXG",
        "outputId": "e23fb915-04dd-4037-cd3d-74b6dcdc3a6b",
        "colab": {
          "base_uri": "https://localhost:8080/",
          "height": 136
        }
      },
      "execution_count": null,
      "outputs": [
        {
          "output_type": "error",
          "ename": "SyntaxError",
          "evalue": "ignored",
          "traceback": [
            "\u001b[0;36m  File \u001b[0;32m\"<ipython-input-1-ef72d22b3f3c>\"\u001b[0;36m, line \u001b[0;32m3\u001b[0m\n\u001b[0;31m    SELECT MEMBER_ID\u001b[0m\n\u001b[0m           ^\u001b[0m\n\u001b[0;31mSyntaxError\u001b[0m\u001b[0;31m:\u001b[0m invalid syntax\n"
          ]
        }
      ]
    },
    {
      "cell_type": "code",
      "source": [
        "# 조건에 부합하는 중고거래 댓글 조회하기\n",
        "\n",
        "SELECT A.TITLE, A.BOARD_ID, B.REPLY_ID, B.WRITER_ID, B.CONTENTS, DATE_FORMAT(B.CREATED_DATE, '%Y-%m-%d') AS CREATED_DATE\n",
        "FROM USED_GOODS_BOARD AS A\n",
        "    INNER JOIN USED_GOODS_REPLY AS B\n",
        "    ON A.BOARD_ID = B.BOARD_ID\n",
        "WHERE YEAR(A.CREATED_DATE) = 2022 AND MONTH(A.CREATED_DATE) = 10\n",
        "ORDER BY B.CREATED_DATE ASC, A.TITLE ASC"
      ],
      "metadata": {
        "id": "j8Fl1xPJQLUu"
      },
      "execution_count": null,
      "outputs": []
    },
    {
      "cell_type": "code",
      "source": [
        "# 강원도에 위치한 생산공장 목록 출력하기\n",
        "\n",
        "SELECT FACTORY_ID, FACTORY_NAME, ADDRESS\n",
        "FROM FOOD_FACTORY\n",
        "WHERE ADDRESS LIKE '%강원도%'\n",
        "ORDER BY FACTORY_ID"
      ],
      "metadata": {
        "id": "oj-XETqjQLW0"
      },
      "execution_count": null,
      "outputs": []
    },
    {
      "cell_type": "code",
      "source": [
        "# 서울에 위치한 식당 목록 출력하기\n",
        "\n",
        "SELECT A.REST_ID, A.REST_NAME, A.FOOD_TYPE, A.FAVORITES, A.ADDRESS,\n",
        "    ROUND(AVG(B.REVIEW_SCORE), 2) SCORE\n",
        "FROM REST_INFO A\n",
        "    JOIN REST_REVIEW B\n",
        "    ON A.REST_ID = B.REST_ID\n",
        "GROUP BY B.REST_ID\n",
        "HAVING A.ADDRESS LIKE '서울%'"
      ],
      "metadata": {
        "id": "QVR0RQyHQLY0"
      },
      "execution_count": null,
      "outputs": []
    },
    {
      "cell_type": "code",
      "source": [
        "# 흉부외과 또는 일반외과 의사 목록 출력하기\n",
        "\n",
        "SELECT DR_NAME, DR_ID, MCDP_CD, DATE_FORMAT(HIRE_YMD, '%Y-%m-%d')\n",
        "FROM DOCTOR\n",
        "WHERE MCDP_CD = \"CS\" OR MCDP_CD = \"GS\"\n",
        "ORDER BY HIRE_YMD DESC, DR_NAME ASC"
      ],
      "metadata": {
        "id": "R_UzqPWrQLar"
      },
      "execution_count": null,
      "outputs": []
    },
    {
      "cell_type": "code",
      "source": [
        "# 조건에 맞는 도서 리스트 출력하기\n",
        "\n",
        "SELECT BOOK_ID, DATE_FORMAT(PUBLISHED_DATE,'%Y-%m-%d') AS PUBLISHED_DATE\n",
        "FROM BOOK\n",
        "WHERE CATEGORY = '인문' AND DATE_FORMAT(PUBLISHED_DATE,'%Y') = '2021'\n",
        "ORDER BY PUBLISHED_DATE"
      ],
      "metadata": {
        "id": "98nspyDMQLcs"
      },
      "execution_count": null,
      "outputs": []
    },
    {
      "cell_type": "code",
      "source": [
        "# 평균 일일 대여 요금 구하기\n",
        "\n",
        "SELECT ROUND(AVG(DAILY_FEE), 0) AS AVERAGE_FEE\n",
        "FROM CAR_RENTAL_COMPANY_CAR\n",
        "WHERE CAR_TYPE = 'SUV'"
      ],
      "metadata": {
        "id": "2HhjxjgiQLez"
      },
      "execution_count": null,
      "outputs": []
    },
    {
      "cell_type": "code",
      "source": [
        "# 과일로 만든 아이스크림 고르기\n",
        "\n",
        "SELECT a.FLAVOR\n",
        "FROM FIRST_HALF AS a\n",
        "LEFT JOIN ICECREAM_INFO AS b\n",
        "ON a.FLAVOR = b.FLAVOR\n",
        "WHERE a.TOTAL_ORDER > 3000 AND b.INGREDIENT_TYPE LIKE 'fruit_based'\n",
        "ORDER BY a.TOTAL_ORDER DESC;"
      ],
      "metadata": {
        "id": "U9MYzoD9QLhH"
      },
      "execution_count": null,
      "outputs": []
    },
    {
      "cell_type": "code",
      "source": [
        "# 12세 이하인 여자 환자 목록 출력하기\n",
        "\n",
        "SELECT PT_NAME,\tPT_NO, GEND_CD, AGE, IFNULL(TLNO, 'NONE') AS TLNO\n",
        "FROM PATIENT\n",
        "WHERE AGE <= 12 AND GEND_CD = \"W\"\n",
        "ORDER BY AGE DESC, PT_NAME ASC"
      ],
      "metadata": {
        "id": "5irwpLRYQLjM"
      },
      "execution_count": null,
      "outputs": []
    },
    {
      "cell_type": "code",
      "source": [
        "# 인기있는 아이스크림\n",
        "\n",
        "SELECT FLAVOR\n",
        "FROM FIRST_HALF\n",
        "ORDER BY TOTAL_ORDER DESC, SHIPMENT_ID ASC"
      ],
      "metadata": {
        "id": "Vxg9eIk0QRjJ",
        "outputId": "2db3b3ff-3893-435a-817e-aeadcdcbed3f",
        "colab": {
          "base_uri": "https://localhost:8080/",
          "height": 136
        }
      },
      "execution_count": null,
      "outputs": [
        {
          "output_type": "error",
          "ename": "SyntaxError",
          "evalue": "ignored",
          "traceback": [
            "\u001b[0;36m  File \u001b[0;32m\"<ipython-input-2-723f4f3d6083>\"\u001b[0;36m, line \u001b[0;32m3\u001b[0m\n\u001b[0;31m    SELECT FLAVOR\u001b[0m\n\u001b[0m           ^\u001b[0m\n\u001b[0;31mSyntaxError\u001b[0m\u001b[0;31m:\u001b[0m invalid syntax\n"
          ]
        }
      ]
    },
    {
      "cell_type": "code",
      "source": [
        "# 모든 레코드 조회하기\n",
        "\n",
        "SELECT ANIMAL_ID, ANIMAL_TYPE, DATETIME, INTAKE_CONDITION, NAME, SEX_UPON_INTAKE\n",
        "FROM ANIMAL_INS\n",
        "ORDER BY ANIMAL_ID"
      ],
      "metadata": {
        "id": "pKy4-6v3QRla"
      },
      "execution_count": null,
      "outputs": []
    },
    {
      "cell_type": "code",
      "source": [
        "# 재구매가 일어난 상품과 회원 리스트 구하기\n",
        "\n",
        "SELECT USER_ID, PRODUCT_ID\n",
        "FROM ONLINE_SALE\n",
        "GROUP BY USER_ID, PRODUCT_ID\n",
        "HAVING COUNT(*) >= 2            # 재구매\n",
        "ORDER BY USER_ID, PRODUCT_ID DESC"
      ],
      "metadata": {
        "id": "prXbXJObQRnl"
      },
      "execution_count": null,
      "outputs": []
    },
    {
      "cell_type": "code",
      "source": [
        "# 오프라인/온라인 판매 데이터 통합하기\n",
        "\n",
        "SELECT DATE_FORMAT(SALES_DATE, \"%Y-%m-%d\") AS SALES_DATE,\n",
        "    PRODUCT_ID, USER_ID, SALES_AMOUNT\n",
        "FROM ONLINE_SALE\n",
        "WHERE SALES_DATE >= '2022-03-01' and SALES_DATE < '2022-04-01'\n",
        "UNION ALL\n",
        "SELECT DATE_FORMAT(SALES_DATE, \"%Y-%m-%d\") AS SALES_DATE,\n",
        "    PRODUCT_ID, NULL AS USER_ID, SALES_AMOUNT\n",
        "FROM OFFLINE_SALE\n",
        "WHERE SALES_DATE >= '2022-03-01' and SALES_DATE < '2022-04-01'\n",
        "ORDER BY SALES_DATE, PRODUCT_ID, USER_ID;"
      ],
      "metadata": {
        "id": "Zeq6il1nQRpe"
      },
      "execution_count": null,
      "outputs": []
    },
    {
      "cell_type": "code",
      "source": [
        "# 역순 정렬하기\n",
        "\n",
        "SELECT NAME, DATETIME\n",
        "FROM ANIMAL_INS\n",
        "ORDER BY ANIMAL_ID DESC"
      ],
      "metadata": {
        "id": "--aR-uvTQVCC"
      },
      "execution_count": null,
      "outputs": []
    },
    {
      "cell_type": "code",
      "source": [
        "# 아픈 동물 찾기\n",
        "\n",
        "SELECT ANIMAL_ID, NAME\n",
        "FROM ANIMAL_INS\n",
        "WHERE INTAKE_CONDITION = 'Sick'\n",
        "ORDER BY ANIMAL_ID"
      ],
      "metadata": {
        "id": "lptCty22QVEG"
      },
      "execution_count": null,
      "outputs": []
    },
    {
      "cell_type": "code",
      "source": [
        "# 어린 동물 찾기\n",
        "\n",
        "SELECT ANIMAL_ID, NAME\n",
        "FROM ANIMAL_INS\n",
        "WHERE INTAKE_CONDITION != 'Aged'\n",
        "ORDER BY ANIMAL_ID"
      ],
      "metadata": {
        "id": "NS3rt1QbQVF8"
      },
      "execution_count": null,
      "outputs": []
    },
    {
      "cell_type": "code",
      "source": [
        "# 동물의 아이디와 이름\n",
        "\n",
        "SELECT ANIMAL_ID, NAME\n",
        "FROM ANIMAL_INS\n",
        "ORDER BY ANIMAL_ID"
      ],
      "metadata": {
        "id": "gWXERcOCQVH-",
        "outputId": "80664334-273a-41b3-bb5c-7fe02b986bb8",
        "colab": {
          "base_uri": "https://localhost:8080/",
          "height": 136
        }
      },
      "execution_count": null,
      "outputs": [
        {
          "output_type": "error",
          "ename": "SyntaxError",
          "evalue": "ignored",
          "traceback": [
            "\u001b[0;36m  File \u001b[0;32m\"<ipython-input-3-1e60422cc702>\"\u001b[0;36m, line \u001b[0;32m3\u001b[0m\n\u001b[0;31m    SELECT ANIMAL_ID, NAME\u001b[0m\n\u001b[0m           ^\u001b[0m\n\u001b[0;31mSyntaxError\u001b[0m\u001b[0;31m:\u001b[0m invalid syntax\n"
          ]
        }
      ]
    },
    {
      "cell_type": "code",
      "source": [
        "# 여러 기준으로 정렬하기\n",
        "\n",
        "SELECT ANIMAL_ID, NAME, DATETIME\n",
        "FROM ANIMAL_INS\n",
        "ORDER BY NAME, DATETIME DESC;"
      ],
      "metadata": {
        "id": "oNi5dQRiQXkq"
      },
      "execution_count": null,
      "outputs": []
    },
    {
      "cell_type": "code",
      "source": [
        "# 상위 n개 레코드\n",
        "\n",
        "SELECT NAME\n",
        "FROM ANIMAL_INS\n",
        "ORDER BY DATETIME LIMIT 1"
      ],
      "metadata": {
        "id": "GXeC6WlnQXms"
      },
      "execution_count": null,
      "outputs": []
    },
    {
      "cell_type": "code",
      "source": [
        "# 조건에 맞는 회원수 구하기\n",
        "\n",
        "SELECT COUNT(USER_ID) AS USERS\n",
        "FROM USER_INFO\n",
        "WHERE JOINED LIKE '2021%' AND AGE BETWEEN 20 AND 29"
      ],
      "metadata": {
        "id": "xO909ldVQXol"
      },
      "execution_count": null,
      "outputs": []
    },
    {
      "cell_type": "markdown",
      "source": [
        "# SUM, MAX, MIN"
      ],
      "metadata": {
        "id": "Xc4SSWYAO9ME"
      }
    },
    {
      "cell_type": "code",
      "source": [
        "# 가격이 제일 비싼 식품의 정보 출력하기\n",
        "\n",
        "SELECT *\n",
        "FROM FOOD_PRODUCT\n",
        "ORDER BY PRICE DESC\n",
        "LIMIT 1"
      ],
      "metadata": {
        "id": "sjvztt8cO_9r"
      },
      "execution_count": null,
      "outputs": []
    },
    {
      "cell_type": "code",
      "source": [
        "# 가장 비싼 상품 구하기\n",
        "\n",
        "SELECT MAX(PRICE) MAX_PRICE\n",
        "FROM PRODUCT"
      ],
      "metadata": {
        "id": "kJXTiDIQPbE6"
      },
      "execution_count": null,
      "outputs": []
    },
    {
      "cell_type": "code",
      "source": [
        "# 최댓값 구하기\n",
        "\n",
        "SELECT MAX(DATETIME) 시간\n",
        "FROM ANIMAL_INS"
      ],
      "metadata": {
        "id": "LtKiZ1nAPbjl"
      },
      "execution_count": null,
      "outputs": []
    },
    {
      "cell_type": "code",
      "source": [
        "# 최솟값 구하기\n",
        "\n",
        "SELECT MIN(DATETIME) 시간\n",
        "FROM ANIMAL_INS"
      ],
      "metadata": {
        "id": "6SVSAvGrPdA1"
      },
      "execution_count": null,
      "outputs": []
    },
    {
      "cell_type": "code",
      "source": [
        "# 동물 수 구하기\n",
        "\n",
        "SELECT COUNT(ANIMAL_ID) count\n",
        "FROM ANIMAL_INS"
      ],
      "metadata": {
        "id": "AwyHjSRbPeJf"
      },
      "execution_count": null,
      "outputs": []
    },
    {
      "cell_type": "code",
      "source": [
        "# 중복 제거하기\n",
        "\n",
        "SELECT COUNT(DISTINCT NAME) count\n",
        "FROM ANIMAL_INS"
      ],
      "metadata": {
        "id": "2mI1R0yOPdDG"
      },
      "execution_count": null,
      "outputs": []
    },
    {
      "cell_type": "markdown",
      "source": [
        "# GROUP BY"
      ],
      "metadata": {
        "id": "xk6lDOwqPATy"
      }
    },
    {
      "cell_type": "code",
      "source": [
        "# 저자 별 카테고리 별 매출액 집계하기\n",
        "\n",
        "SELECT A.AUTHOR_ID, B.AUTHOR_NAME, A.CATEGORY, SUM(C.SALES * A.PRICE) TOTAL_SALES\n",
        "FROM BOOK A JOIN BOOK_SALES C\n",
        "            ON A.BOOK_ID = C.BOOK_ID\n",
        "            JOIN AUTHOR B\n",
        "            ON B.AUTHOR_ID = A.AUTHOR_ID\n",
        "WHERE C.SALES_DATE LIKE \"2022-01%\"\n",
        "GROUP BY B.AUTHOR_NAME, A.CATEGORY\n",
        "ORDER BY A.AUTHOR_ID, CATEGORY DESC"
      ],
      "metadata": {
        "id": "ucf5ZoqsPB4m"
      },
      "execution_count": null,
      "outputs": []
    },
    {
      "cell_type": "code",
      "source": [
        "# 성분으로 구분한 아이스크림 총 주문량\n",
        "\n",
        "SELECT INGREDIENT_TYPE, SUM(A.TOTAL_ORDER)\n",
        "FROM FIRST_HALF A\n",
        "    JOIN ICECREAM_INFO B\n",
        "    ON A.FLAVOR = B.FLAVOR\n",
        "GROUP BY B.INGREDIENT_TYPE\n",
        "ORDER BY TOTAL_ORDER"
      ],
      "metadata": {
        "id": "VNyoQ7h_ROfX"
      },
      "execution_count": null,
      "outputs": []
    },
    {
      "cell_type": "code",
      "source": [
        "# 식품분류별 가장 비싼 식품의 정보 조회하기\n",
        "\n",
        "# GROUP BY 내에서 최댓값을 찾으려면 서브쿼리 사용해야 함\n",
        "SELECT P.CATEGORY,\n",
        "       MAX(P.PRICE) AS MAX_PRICE,\n",
        "       (SELECT PRODUCT_NAME FROM FOOD_PRODUCT WHERE CATEGORY = P.CATEGORY ORDER BY PRICE DESC LIMIT 1) AS PRODUCT_NAME\n",
        "  FROM FOOD_PRODUCT P\n",
        " WHERE CATEGORY IN ('과자', '국', '김치', '식용유')\n",
        " GROUP BY CATEGORY\n",
        " ORDER BY MAX_PRICE DESC"
      ],
      "metadata": {
        "id": "uNO_U9bIROhk"
      },
      "execution_count": null,
      "outputs": []
    },
    {
      "cell_type": "code",
      "source": [
        "# 자동차 종류 별 특정 옵션이 포함된 자동차 수 구하기\n",
        "\n",
        "SELECT CAR_TYPE, COUNT(CAR_ID) CARS\n",
        "FROM CAR_RENTAL_COMPANY_CAR\n",
        "WHERE OPTIONS LIKE '%시트%'\n",
        "GROUP BY CAR_TYPE\n",
        "ORDER BY CAR_TYPE"
      ],
      "metadata": {
        "id": "XJHv83sRROjY"
      },
      "execution_count": null,
      "outputs": []
    },
    {
      "cell_type": "code",
      "source": [
        "# 즐겨찾기가 가장 많은 식당 정보 출력하기\n",
        "\n",
        "SELECT FOOD_TYPE, REST_ID, REST_NAME, FAVORITES\n",
        "FROM REST_INFO\n",
        "WHERE (FOOD_TYPE, FAVORITES) IN (\n",
        "    SELECT FOOD_TYPE, MAX(FAVORITES)\n",
        "    FROM REST_INFO\n",
        "    GROUP BY FOOD_TYPE\n",
        ")\n",
        "GROUP BY FOOD_TYPE\n",
        "ORDER BY FOOD_TYPE DESC"
      ],
      "metadata": {
        "id": "fBAu1wIIROlO"
      },
      "execution_count": null,
      "outputs": []
    },
    {
      "cell_type": "code",
      "source": [
        "# 조건에 맞는 사용자와 총 거래금액 조회하기\n",
        "\n",
        "SELECT B.USER_ID, B.NICKNAME, SUM(A.PRICE) TOTAL_SALES\n",
        "FROM USED_GOODS_BOARD A\n",
        "    JOIN USED_GOODS_USER B\n",
        "    ON A.WRITER_ID = B.USER_ID\n",
        "WHERE A.STATUS = 'DONE'\n",
        "GROUP BY B.USER_ID\n",
        "HAVING TOTAL_SALES >= 700000\n",
        "ORDER BY TOTAL_SALES"
      ],
      "metadata": {
        "id": "1fcNSIJfROnB"
      },
      "execution_count": null,
      "outputs": []
    },
    {
      "cell_type": "code",
      "source": [
        "# 카테고리 별 도서 판매량 집계하기\n",
        "\n",
        "SELECT A.CATEGORY, SUM(SALES) TOTAL_SALES\n",
        "FROM BOOK A\n",
        "    JOIN BOOK_SALES B\n",
        "    ON A.BOOK_ID = B.BOOK_ID\n",
        "WHERE B.SALES_DATE LIKE '2022-01%'\n",
        "GROUP BY CATEGORY\n",
        "ORDER BY A.CATEGORY"
      ],
      "metadata": {
        "id": "qFbEYLG3ROsM"
      },
      "execution_count": null,
      "outputs": []
    },
    {
      "cell_type": "code",
      "source": [
        "# 진료과별 총 예약 횟수 출력하기\n",
        "\n",
        "SELECT MCDP_CD 진료과코드, COUNT(PT_NO) 5월예약건수\n",
        "FROM APPOINTMENT\n",
        "WHERE APNT_YMD LIKE '2022-05%'\n",
        "GROUP BY MCDP_CD\n",
        "ORDER BY 5월예약건수, 진료과코드"
      ],
      "metadata": {
        "id": "FP5I4lUTRUzf"
      },
      "execution_count": null,
      "outputs": []
    },
    {
      "cell_type": "code",
      "source": [
        "# 자동차 대여 기록에서 대여중 / 대여 가능 여부 구분하기\n",
        "\n",
        "SELECT CAR_ID,\n",
        "    CASE WHEN MAX('2022-10-16' BETWEEN START_DATE AND END_DATE) THEN '대여중'\n",
        "    ELSE '대여 가능'\n",
        "    END AVAILABILITY\n",
        "FROM CAR_RENTAL_COMPANY_RENTAL_HISTORY\n",
        "GROUP BY CAR_ID\n",
        "ORDER BY CAR_ID DESC"
      ],
      "metadata": {
        "id": "uyn8aPk4RU1i"
      },
      "execution_count": null,
      "outputs": []
    },
    {
      "cell_type": "code",
      "source": [
        "# 대여 횟수가 많은 자동차들의 월별 대여 횟수 구하기\n",
        "\n",
        "SELECT MONTH(START_DATE) AS MONTH, R.CAR_ID, COUNT(*) AS RECORDS\n",
        "FROM CAR_RENTAL_COMPANY_RENTAL_HISTORY R\n",
        "WHERE R.CAR_ID IN (\n",
        "    SELECT CAR_ID\n",
        "    FROM CAR_RENTAL_COMPANY_RENTAL_HISTORY\n",
        "    WHERE START_DATE BETWEEN '2022-08-01' AND '2022-10-31'\n",
        "    GROUP BY CAR_ID\n",
        "    HAVING COUNT(*) >= 5\n",
        ")\n",
        "AND R.START_DATE BETWEEN '2022-08-01' AND '2022-10-31'\n",
        "GROUP BY MONTH(START_DATE), R.CAR_ID\n",
        "HAVING COUNT(*) > 0\n",
        "ORDER BY MONTH(START_DATE), R.CAR_ID DESC;"
      ],
      "metadata": {
        "id": "u8V1ko7gRU3x"
      },
      "execution_count": null,
      "outputs": []
    },
    {
      "cell_type": "code",
      "source": [
        "# 고양이와 개는 몇 마리 있을까\n",
        "\n",
        "SELECT ANIMAL_TYPE, count(*) count\n",
        "FROM ANIMAL_INS\n",
        "GROUP BY ANIMAL_TYPE\n",
        "ORDER BY ANIMAL_TYPE"
      ],
      "metadata": {
        "id": "XNE25A2gRWs7"
      },
      "execution_count": null,
      "outputs": []
    },
    {
      "cell_type": "code",
      "source": [
        "# 동명 동물 수 찾기\n",
        "\n",
        "SELECT NAME, COUNT(ANIMAL_ID) COUNT\n",
        "FROM ANIMAL_INS\n",
        "GROUP BY NAME\n",
        "HAVING COUNT > 1 AND NAME IS NOT NULL\n",
        "ORDER BY NAME"
      ],
      "metadata": {
        "id": "lXLPcUe_RXev"
      },
      "execution_count": null,
      "outputs": []
    },
    {
      "cell_type": "code",
      "source": [
        "# 년, 월, 성별 별 상품 구매 회원 수 구하기\n",
        "\n",
        "SELECT DATE_FORMAT(SALES_DATE, '%Y') YEAR, DATE_FORMAT(SALES_DATE, '%m') MONTH, A.GENDER, COUNT(DISTINCT A.USER_ID) USERS\n",
        "FROM USER_INFO A\n",
        "    JOIN ONLINE_SALE B\n",
        "    ON A.USER_ID = B.USER_ID\n",
        "WHERE GENDER IS NOT NULL\n",
        "GROUP BY YEAR, MONTH, GENDER\n",
        "ORDER BY YEAR, MONTH, GENDER\n",
        "\n",
        "\"\"\"\n",
        "문제 오류 : 원래는 %m 대신 %c를 써야 월이 0없이 표현되는데, %m으로 해야 정답처리 됨\n",
        "USERS에는 중복이 없어야해서 DISTINCT 사용해야 한다\n",
        "\"\"\""
      ],
      "metadata": {
        "id": "vYIq0tHQRXgc"
      },
      "execution_count": null,
      "outputs": []
    },
    {
      "cell_type": "code",
      "source": [
        "# 입양 시각 구하기(1)\n",
        "\n",
        "SELECT HOUR(DATETIME) HOUR, COUNT(ANIMAL_ID) COUNT\n",
        "FROM ANIMAL_OUTS\n",
        "GROUP BY HOUR(DATETIME)\n",
        "HAVING HOUR BETWEEN 9 AND 20\n",
        "ORDER BY HOUR"
      ],
      "metadata": {
        "id": "CV8Hvq55RZKj"
      },
      "execution_count": null,
      "outputs": []
    },
    {
      "cell_type": "code",
      "source": [
        "# 입양 시각 구하기(2)\n",
        "\n",
        "SET @HOUR := -1; # 변수선언 : 초기값을 -1로 설정\n",
        "\n",
        "SELECT (@HOUR := @HOUR + 1) as HOUR, # @hour의 값에 1씩 증가시키면서 SELECT 문 전체를 실행\n",
        "    (SELECT COUNT(*)\n",
        "     FROM ANIMAL_OUTS\n",
        "     WHERE HOUR(DATETIME) = @HOUR) as COUNT\n",
        "FROM ANIMAL_OUTS\n",
        "WHERE @HOUR < 23\n",
        "\n",
        "\"\"\"\n",
        "@가 붙은 변수는 프로시저가 종료되어도 유지된다.\n",
        "이를 통해 값을 누적하여 0부터 23까지 표현할 수 있다.\n",
        "처음에 @HOUR 값이 -1 인데, 이 식에 의해 +1 이 되어 0이 저장된다.\n",
        "HOUR 값이 0부터 시작할 수 있다.\n",
        "WHERE @HOUR < 23일 때까지, @HOUR 값이 계속 + 1씩 증가한다.\n",
        "참고 : https://chanhuiseok.github.io/posts/db-6/\"\"\""
      ],
      "metadata": {
        "id": "T3P0MffFRZMZ"
      },
      "execution_count": null,
      "outputs": []
    },
    {
      "cell_type": "code",
      "source": [
        "# 가격대 별 상품 개수 구하기\n",
        "\n",
        "SELECT FLOOR(PRICE/10000)*10000 PRICE_GROUP, COUNT(*) PRODUCTS\n",
        "FROM PRODUCT\n",
        "GROUP BY PRICE_GROUP\n",
        "ORDER BY PRICE_GROUP"
      ],
      "metadata": {
        "id": "IZgaG0EqRZOI"
      },
      "execution_count": null,
      "outputs": []
    },
    {
      "cell_type": "markdown",
      "source": [
        "# IS NULL"
      ],
      "metadata": {
        "id": "1BYO-LjjPCRR"
      }
    },
    {
      "cell_type": "code",
      "source": [
        "# 경기도에 위치한 식품창고 목록 출력하기\n",
        "\n",
        "SELECT WAREHOUSE_ID, WAREHOUSE_NAME, ADDRESS, IFNULL(FREEZER_YN, 'N') FREEZER_YN\n",
        "FROM FOOD_WAREHOUSE\n",
        "WHERE ADDRESS LIKE ('경기도%')\n",
        "ORDER BY WAREHOUSE_ID"
      ],
      "metadata": {
        "id": "6sT0bpe5PH_2"
      },
      "execution_count": null,
      "outputs": []
    },
    {
      "cell_type": "code",
      "source": [
        "# 이름이 없는 동물의 아이디\n",
        "\n",
        "SELECT ANIMAL_ID\n",
        "FROM ANIMAL_INS\n",
        "WHERE NAME IS NULL\n",
        "ORDER BY ANIMAL_ID"
      ],
      "metadata": {
        "id": "Gb1ub3JgPxqv"
      },
      "execution_count": null,
      "outputs": []
    },
    {
      "cell_type": "code",
      "source": [
        "# 이름이 있는 동물의 아이디\n",
        "\n",
        "SELECT ANIMAL_ID\n",
        "FROM ANIMAL_INS\n",
        "WHERE NAME IS NOT NULL\n",
        "ORDER BY ANIMAL_ID"
      ],
      "metadata": {
        "id": "AY0_eP2MPxtI"
      },
      "execution_count": null,
      "outputs": []
    },
    {
      "cell_type": "code",
      "source": [
        "# NULL 처리하기\n",
        "\n",
        "SELECT ANIMAL_TYPE, IFNULL(NAME, 'No name') NAME, SEX_UPON_INTAKE\n",
        "FROM ANIMAL_INS"
      ],
      "metadata": {
        "id": "FQB9n72mPxvS"
      },
      "execution_count": null,
      "outputs": []
    },
    {
      "cell_type": "code",
      "source": [
        "# 나이 정보가 없는 회원 수 구하기\n",
        "\n",
        "SELECT count(USER_ID) USER\n",
        "FROM USER_INFO\n",
        "WHERE AGE IS NULL"
      ],
      "metadata": {
        "id": "dU-NCAt0Pxxi"
      },
      "execution_count": null,
      "outputs": []
    },
    {
      "cell_type": "markdown",
      "source": [
        "# JOIN"
      ],
      "metadata": {
        "id": "jcM5xT2MPDtc"
      }
    },
    {
      "cell_type": "code",
      "source": [
        "# 그룹별 조건에 맞는 식당 목록 출력하기(남의 코드. 이해안됨 ㅠㅠ)\n",
        "\n",
        "SELECT M.MEMBER_NAME, R.REVIEW_TEXT, DATE_FORMAT(R.REVIEW_DATE, \"%Y-%m-%d\")\n",
        "FROM MEMBER_PROFILE M\n",
        "JOIN (\n",
        "    SELECT REVIEW_TEXT, REVIEW_DATE, MEMBER_ID\n",
        "    FROM REST_REVIEW\n",
        "    WHERE MEMBER_ID = (\n",
        "        SELECT MEMBER_ID\n",
        "        FROM REST_REVIEW\n",
        "        GROUP BY MEMBER_ID\n",
        "        ORDER BY COUNT(*) DESC\n",
        "        LIMIT 1)\n",
        "    ) R\n",
        "ON R.MEMBER_ID = M.MEMBER_ID\n",
        "ORDER BY R.REVIEW_DATE, R.REVIEW_TEXT"
      ],
      "metadata": {
        "id": "tsvxGAMiPGMA"
      },
      "execution_count": null,
      "outputs": []
    },
    {
      "cell_type": "code",
      "source": [
        "# 조건에 맞는 도서와 저자 리스트 출력하기\n",
        "\n",
        "SELECT A.BOOK_ID, B.AUTHOR_NAME, DATE_FORMAT(A.PUBLISHED_DATE, '%Y-%m-%d') PUBLISHED_DATE\n",
        "FROM BOOK A\n",
        "JOIN AUTHOR B\n",
        "ON A.AUTHOR_ID = B.AUTHOR_ID\n",
        "WHERE CATEGORY = '경제'\n",
        "ORDER BY PUBLISHED_DATE"
      ],
      "metadata": {
        "id": "mpIX_riQcEEO"
      },
      "execution_count": null,
      "outputs": []
    },
    {
      "cell_type": "code",
      "source": [
        "# 주문량이 많은 아이스크림들 조회하기"
      ],
      "metadata": {
        "id": "IRyKdXjbcEGX"
      },
      "execution_count": null,
      "outputs": []
    },
    {
      "cell_type": "code",
      "source": [
        "# 특정 기간동안 대여 가능한 자동차들의 대여비용 구하기(다른 사람 코드)\n",
        "\n",
        "SELECT C.CAR_ID,\n",
        "       C.CAR_TYPE,\n",
        "       ROUND(C.DAILY_FEE * 30 * (100 - P.DISCOUNT_RATE)/100) AS FEE\n",
        "FROM CAR_RENTAL_COMPANY_CAR AS C\n",
        "JOIN CAR_RENTAL_COMPANY_DISCOUNT_PLAN AS P\n",
        "ON C.CAR_TYPE = P.CAR_TYPE\n",
        "AND P.DURATION_TYPE = '30일 이상'\n",
        "WHERE C.CAR_TYPE IN ('세단', 'SUV')\n",
        "AND C.CAR_ID NOT IN (\n",
        "        SELECT CAR_ID\n",
        "        FROM CAR_RENTAL_COMPANY_RENTAL_HISTORY\n",
        "        WHERE END_DATE >= '2022-11-01' AND START_DATE <= '2022-11-30'\n",
        "    )\n",
        "HAVING FEE >= 500000 AND FEE < 2000000\n",
        "ORDER BY FEE DESC, C.CAR_TYPE ASC, C.CAR_ID DESC;\n",
        "\n",
        "\"\"\"\n",
        "    반납일이 11월 1일 이전이고 대여시작일이 11월 30일 이후인 CAR_ID만 서브쿼리로 처리\n",
        "\"\"\""
      ],
      "metadata": {
        "id": "AkC_a95GcEIy"
      },
      "execution_count": null,
      "outputs": []
    },
    {
      "cell_type": "code",
      "source": [
        "# 5월 식품들의 총매출 조회하기"
      ],
      "metadata": {
        "id": "tw2ItkZecEK_"
      },
      "execution_count": null,
      "outputs": []
    },
    {
      "cell_type": "code",
      "source": [
        "# 없어진 기록 찾기\n",
        "\n",
        "SELECT B.ANIMAL_ID, B.NAME\n",
        "FROM ANIMAL_INS A\n",
        "RIGHT OUTER JOIN ANIMAL_OUTS B\n",
        "ON A.ANIMAL_ID = B.ANIMAL_ID\n",
        "WHERE A.ANIMAL_ID IS NULL\n",
        "ORDER BY B.ANIMAL_ID\n",
        "# B에는 있는데 A는 없는 거 찾는 거"
      ],
      "metadata": {
        "id": "XKf1CEVhcEM_"
      },
      "execution_count": null,
      "outputs": []
    },
    {
      "cell_type": "code",
      "source": [
        "# 있었는데요 없었습니다\n",
        "\n",
        "SELECT A.ANIMAL_ID, A.NAME\n",
        "FROM ANIMAL_INS A\n",
        "JOIN ANIMAL_OUTS B\n",
        "ON A.ANIMAL_ID = B.ANIMAL_ID\n",
        "WHERE A.DATETIME > B.DATETIME\n",
        "ORDER BY A.DATETIME"
      ],
      "metadata": {
        "id": "zfzlJcF7cEO5"
      },
      "execution_count": null,
      "outputs": []
    },
    {
      "cell_type": "code",
      "source": [
        "# 오랜 기간 보호한 동물(1)\n",
        "\n",
        "SELECT A.NAME, A.DATETIME\n",
        "FROM ANIMAL_INS A\n",
        "LEFT JOIN ANIMAL_OUTS B\n",
        "ON A.ANIMAL_ID = B.ANIMAL_ID\n",
        "WHERE B.ANIMAL_ID IS NULL\n",
        "ORDER BY A.DATETIME LIMIT 3"
      ],
      "metadata": {
        "id": "kOrlkaNScEQ8"
      },
      "execution_count": null,
      "outputs": []
    },
    {
      "cell_type": "code",
      "source": [
        "# 보호소에서 중성화한 동물\n",
        "\n",
        "SELECT A.ANIMAL_ID, A.ANIMAL_TYPE, A.NAME\n",
        "    FROM ANIMAL_INS A\n",
        "    JOIN ANIMAL_OUTS B\n",
        "    ON A.ANIMAL_ID = B.ANIMAL_ID\n",
        "WHERE A.SEX_UPON_INTAKE LIKE '%Intact%'\n",
        "    AND REGEXP_LIKE (B.SEX_UPON_OUTCOME, '^Spayed|^Neutered')\n",
        "ORDER BY ANIMAL_ID\n",
        "\n",
        "\"\"\"\n",
        "    LIKE를 여러 개 써야할 때 : REGEXP_LIKE 사용법!\n",
        "\"\"\""
      ],
      "metadata": {
        "id": "rTEpEEjWcJWp"
      },
      "execution_count": null,
      "outputs": []
    },
    {
      "cell_type": "code",
      "source": [
        "# 상품 별 오프라인 매출 구하기\n",
        "\n",
        "SELECT A.PRODUCT_CODE, SUM(A.PRICE * B.SALES_AMOUNT) SALES\n",
        "FROM PRODUCT A\n",
        "JOIN OFFLINE_SALE B\n",
        "ON A.PRODUCT_ID = B.PRODUCT_ID\n",
        "GROUP BY A.PRODUCT_CODE\n",
        "ORDER BY SALES DESC, PRODUCT_CODE"
      ],
      "metadata": {
        "id": "y85c3ZZScJYo"
      },
      "execution_count": null,
      "outputs": []
    },
    {
      "cell_type": "code",
      "source": [
        "# 상품을 구매한 회원 비율 구하기\n",
        "\n",
        "SELECT DATE_FORMAT(SALES_DATE, '%Y') YEAR,\n",
        "    DATE_FORMAT(SALES_DATE, '%c') MONTH,\n",
        "    (SELECT COUNT(DISTINCT B.USER_ID)\n",
        "     FROM ONLINE_SALE A JOIN ONLINE_SALE B ON A.USER_ID = B.USER_ID\n",
        "     WHERE A.JOINED LIKE \"2021%\") PUCHASED_USERS,\n",
        "    ROUND((COUNT(DISTINCT B.USER_ID) /\n",
        "           (SELECT COUNT(*)\n",
        "            FROM USER_INFO\n",
        "            WHERE JOINED LIKE \"2021%\")), 1) PUCHASED_RATIO\n",
        "FROM USER_INFO A\n",
        "    JOIN ONLINE_SALE B\n",
        "    ON A.USER_ID = B.USER_ID\n",
        "# WHERE JOINED LIKE \"2021%\"\n",
        "GROUP BY YEAR, MONTH\n",
        "ORDER BY YEAR, MONTH"
      ],
      "metadata": {
        "id": "Zh0dOAWlcK4P"
      },
      "execution_count": null,
      "outputs": []
    },
    {
      "cell_type": "markdown",
      "source": [
        "# String, Date"
      ],
      "metadata": {
        "id": "rUWV8NkQPGh9"
      }
    },
    {
      "cell_type": "code",
      "source": [
        "# 조건에 부합하는 중고거래 상태 조회하기\n",
        "\n",
        "SELECT BOARD_ID, WRITER_ID, TITLE, PRICE,\n",
        "    CASE\n",
        "        WHEN STATUS = 'SALE' THEN '판매중'\n",
        "        WHEN STATUS = 'RESERVED' THEN '예약중'\n",
        "        ELSE '거래완료'\n",
        "    END AS 'STATUS'\n",
        "FROM USED_GOODS_BOARD\n",
        "WHERE CREATED_DATE LIKE '2022-10-05%'\n",
        "ORDER BY BOARD_ID DESC"
      ],
      "metadata": {
        "id": "hRggCtdvPHe6"
      },
      "execution_count": null,
      "outputs": []
    },
    {
      "cell_type": "code",
      "source": [
        "# 조건에 맞는 사용자 정보 조회하기\n",
        "\n",
        "SELECT USER_ID, NICKNAME, CONCAT(CITY, SPACE(1), STREET_ADDRESS1, SPACE(1), STREET_ADDRESS2) 전체주소,\n",
        "CONCAT(substr(TLNO,1,3),'-',substr(TLNO,4,4),'-',substr(TLNO,8,4)) 전화번호\n",
        "\n",
        "FROM USED_GOODS_BOARD A\n",
        "    JOIN USED_GOODS_USER B\n",
        "    ON A.WRITER_ID = B.USER_ID\n",
        "GROUP BY A.WRITER_ID\n",
        "HAVING COUNT(A.WRITER_ID) >= 3\n",
        "ORDER BY USER_ID DESC"
      ],
      "metadata": {
        "id": "7qZjTm4ocV35"
      },
      "execution_count": null,
      "outputs": []
    },
    {
      "cell_type": "code",
      "source": [
        "# 대여 기록이 존재하는 자동차 리스트 구하기\n",
        "\n",
        "SELECT DISTINCT(A.CAR_ID)\n",
        "FROM CAR_RENTAL_COMPANY_CAR A\n",
        "    JOIN CAR_RENTAL_COMPANY_RENTAL_HISTORY B\n",
        "    ON A.CAR_ID = B.CAR_ID\n",
        "WHERE A.CAR_TYPE = '세단' AND B.START_DATE LIKE '%-10-%'\n",
        "ORDER BY CAR_ID DESC"
      ],
      "metadata": {
        "id": "4Gddy0o6cV6B"
      },
      "execution_count": null,
      "outputs": []
    },
    {
      "cell_type": "code",
      "source": [
        "# 자동차 평균 대여 기간 구하기\n",
        "\n",
        "SELECT CAR_ID, ROUND(AVG(DATEDIFF(END_DATE,START_DATE)+1),1) AS AVERAGE_DURATION\n",
        "FROM CAR_RENTAL_COMPANY_RENTAL_HISTORY\n",
        "GROUP BY CAR_ID\n",
        "HAVING AVERAGE_DURATION >= 7\n",
        "ORDER BY AVERAGE_DURATION DESC, CAR_ID DESC"
      ],
      "metadata": {
        "id": "p12T19xGcV73"
      },
      "execution_count": null,
      "outputs": []
    },
    {
      "cell_type": "code",
      "source": [
        "# 취소되지 않은 진료 예약 조회하기(아직 다 안 품)\n",
        "\n",
        "SELECT C.APNT_NO, A.PT_NAME, A.PT_NO, B.MCDP_CD, B.DR_NAME, DATE_FORMAT(C.APNT_YMD, \"%Y-%m-%d %T.%f\") APNT_YMD\n",
        "FROM PATIENT A\n",
        "    JOIN APPOINTMENT C\n",
        "    ON A.PT_NO = C.PT_NO\n",
        "    JOIN DOCTOR B\n",
        "    ON B.DR_ID = C.MDDR_ID\n",
        "WHERE B.MCDP_CD = 'CS' AND APNT_CNCL_YMD != '2022-04-13'\n",
        "ORDER BY C.APNT_YMD"
      ],
      "metadata": {
        "id": "SUnYrB8kcV91"
      },
      "execution_count": null,
      "outputs": []
    },
    {
      "cell_type": "code",
      "source": [
        "# 조건별로 분류하여 주문상태 출력하기\n",
        "\n",
        "SELECT ORDER_ID, PRODUCT_ID, DATE_FORMAT(OUT_DATE, '%Y-%m-%d') OUT_DATE,\n",
        "CASE WHEN OUT_DATE <= '2022-05-01' THEN '출고완료'\n",
        "    WHEN OUT_DATE > '2022-05-01' THEN '출고대기'\n",
        "    ELSE '출고미정'\n",
        "    END 출고여부\n",
        "FROM FOOD_ORDER\n",
        "ORDER BY ORDER_ID"
      ],
      "metadata": {
        "id": "PPc0FzXacOgZ"
      },
      "execution_count": null,
      "outputs": []
    },
    {
      "cell_type": "code",
      "source": [
        "# 자동차 대여 기록 별 대여 금액 구하기"
      ],
      "metadata": {
        "id": "HHt3QuCtcOif"
      },
      "execution_count": null,
      "outputs": []
    },
    {
      "cell_type": "code",
      "source": [
        "# 조회수가 가장 많은 중고거래 게시판의 첨부파일 조회하기\n",
        "\n",
        "SELECT CONCAT('/home/grep/src/', B.BOARD_ID, '/', B.FILE_ID, B.FILE_NAME, B.FILE_EXT) FILE_PATH\n",
        "FROM USED_GOODS_BOARD A\n",
        "    JOIN USED_GOODS_FILE B\n",
        "    ON A.BOARD_ID = B.BOARD_ID\n",
        "WHERE A.BOARD_ID = (SELECT BOARD_ID FROM USED_GOODS_BOARD ORDER BY VIEWS DESC LIMIT 1)\n",
        "ORDER BY FILE_ID DESC"
      ],
      "metadata": {
        "id": "c1hOBtO2cOkZ"
      },
      "execution_count": null,
      "outputs": []
    },
    {
      "cell_type": "code",
      "source": [
        "# 자동차 대여 기록에서 장기/단기 대여 구분하기\n",
        "\n",
        "SELECT HISTORY_ID, CAR_ID, DATE_FORMAT(START_DATE, \"%Y-%m-%d\") START_DATE, DATE_FORMAT(END_DATE, \"%Y-%m-%d\") END_DATE,\n",
        "    CASE\n",
        "        WHEN (DATEDIFF(END_DATE, START_DATE) + 1) >= 30 THEN '장기 대여'\n",
        "        ELSE '단기 대여'\n",
        "        END AS RENT_TYPE\n",
        "FROM CAR_RENTAL_COMPANY_RENTAL_HISTORY\n",
        "WHERE START_DATE LIKE '2022-09%'\n",
        "ORDER BY HISTORY_ID DESC"
      ],
      "metadata": {
        "id": "8BbQm-JHcOmQ"
      },
      "execution_count": null,
      "outputs": []
    },
    {
      "cell_type": "code",
      "source": [
        "# 특정 옵션이 포함된 자동차 리스트 구하기\n",
        "\n",
        "SELECT CAR_ID, CAR_TYPE, DAILY_FEE,\tOPTIONS\n",
        "FROM CAR_RENTAL_COMPANY_CAR\n",
        "WHERE OPTIONS LIKE '%네비게이션%'\n",
        "ORDER BY CAR_ID DESC"
      ],
      "metadata": {
        "id": "ndpnc-PycOob"
      },
      "execution_count": null,
      "outputs": []
    },
    {
      "cell_type": "code",
      "source": [
        "# 루시와 엘라 찾기\n",
        "\n",
        "SELECT ANIMAL_ID, NAME, SEX_UPON_INTAKE\n",
        "FROM ANIMAL_INS\n",
        "WHERE NAME = 'Lucy'\n",
        "    OR NAME = 'Ella'\n",
        "    OR NAME = 'Pickle'\n",
        "    OR NAME = 'Rogan'\n",
        "    OR NAME = 'Sabrina'\n",
        "    OR NAME = 'Mitty"
      ],
      "metadata": {
        "id": "1ehmx8QIcbc5"
      },
      "execution_count": null,
      "outputs": []
    },
    {
      "cell_type": "code",
      "source": [
        "# 이름에 el이 들어가는 동물 찾기\n",
        "\n",
        "SELECT ANIMAL_ID, NAME\n",
        "FROM ANIMAL_INS\n",
        "WHERE NAME LIKE \"%EL%\" AND ANIMAL_TYPE = \"Dog\"\n",
        "ORDER BY NAME"
      ],
      "metadata": {
        "id": "-UUMLNVVcbe_"
      },
      "execution_count": null,
      "outputs": []
    },
    {
      "cell_type": "code",
      "source": [
        "# 중성화 여부 파악하기\n",
        "\n",
        "SELECT ANIMAL_ID, NAME,\n",
        "CASE\n",
        "    WHEN SEX_UPON_INTAKE LIKE '%Neutered%' THEN 'O'\n",
        "    WHEN SEX_UPON_INTAKE LIKE '%Spayed%' THEN 'O'\n",
        "    ELSE 'X'\n",
        "    END\n",
        "FROM ANIMAL_INS\n",
        "ORDER BY ANIMAL_ID"
      ],
      "metadata": {
        "id": "fwxGbgf4cbhA"
      },
      "execution_count": null,
      "outputs": []
    },
    {
      "cell_type": "code",
      "source": [
        "# 오랜 기간 보호한 동물(2)\n",
        "\n",
        "SELECT O.ANIMAL_ID, O.NAME FROM ANIMAL_OUTS O\n",
        "JOIN ANIMAL_INS I\n",
        "ON I.ANIMAL_ID = O.ANIMAL_ID\n",
        "ORDER BY DATEDIFF(O.DATETIME, I.DATETIME) DESC\n",
        "LIMIT 2"
      ],
      "metadata": {
        "id": "k7jSrxSHcbjB"
      },
      "execution_count": null,
      "outputs": []
    },
    {
      "cell_type": "code",
      "source": [
        "# 카테고리 별 상품 개수 구하기\n",
        "\n",
        "SELECT LEFT(PRODUCT_CODE, 2) CATEGORY, COUNT(PRODUCT_ID) PRODUCTS\n",
        "FROM PRODUCT\n",
        "GROUP BY CATEGORY\n",
        "ORDER BY CATEGORY"
      ],
      "metadata": {
        "id": "zCu4nT8EceJF"
      },
      "execution_count": null,
      "outputs": []
    },
    {
      "cell_type": "code",
      "source": [
        "# DATETIME에서 DATE로 형 변환\n",
        "\n",
        "SELECT ANIMAL_ID, NAME, DATE_FORMAT(DATETIME, \"%Y-%m-%d\") '날짜'\n",
        "FROM ANIMAL_INS\n",
        "ORDER BY ANIMAL_ID"
      ],
      "metadata": {
        "id": "rPrUYFTrceLT"
      },
      "execution_count": null,
      "outputs": []
    }
  ]
}