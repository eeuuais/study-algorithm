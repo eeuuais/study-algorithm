{
  "nbformat": 4,
  "nbformat_minor": 0,
  "metadata": {
    "colab": {
      "provenance": [],
      "authorship_tag": "ABX9TyNDjwJ6n/s7GtRV/v14a/Vk",
      "include_colab_link": true
    },
    "kernelspec": {
      "name": "python3",
      "display_name": "Python 3"
    },
    "language_info": {
      "name": "python"
    }
  },
  "cells": [
    {
      "cell_type": "markdown",
      "metadata": {
        "id": "view-in-github",
        "colab_type": "text"
      },
      "source": [
        "<a href=\"https://colab.research.google.com/github/eeuuais/studypolio/blob/main/Algorithm_prac/programmers(LV0).ipynb\" target=\"_parent\"><img src=\"https://colab.research.google.com/assets/colab-badge.svg\" alt=\"Open In Colab\"/></a>"
      ]
    },
    {
      "cell_type": "code",
      "execution_count": null,
      "metadata": {
        "id": "Sq9NzadrfoSI"
      },
      "outputs": [],
      "source": [
        "# 가까운 수\n",
        "\n",
        "def solution(array, n):\n",
        "    box = []\n",
        "    array.sort()\n",
        "    for i in array:\n",
        "        box.append(abs(n-i))\n",
        "    answer = [array[box.index(min(box))]]\n",
        "    if len(answer) > 1:\n",
        "        return min(answer)\n",
        "    else:\n",
        "        return answer[0]"
      ]
    },
    {
      "cell_type": "code",
      "source": [
        "# 외계어 사전\n",
        "\n",
        "def solution(spell, dic):\n",
        "    spell = set(spell)\n",
        "    for s in dic:\n",
        "        if not spell-set(s):\n",
        "            return 1\n",
        "    return 2"
      ],
      "metadata": {
        "id": "ApPm9ggOWKNn"
      },
      "execution_count": null,
      "outputs": []
    },
    {
      "cell_type": "code",
      "source": [
        "# 컨트롤 제트\n",
        "\n",
        "def solution(s):\n",
        "    s = list(str(s).split(' '))\n",
        "    answer = []\n",
        "    for i in s:\n",
        "        answer.append(i)\n",
        "        if i == 'Z':\n",
        "            answer.pop()\n",
        "            answer.pop()\n",
        "    answer = map(int, answer)\n",
        "    return sum(answer)"
      ],
      "metadata": {
        "id": "jvdKfTtepVX9"
      },
      "execution_count": null,
      "outputs": []
    },
    {
      "cell_type": "markdown",
      "source": [
        "#my_code"
      ],
      "metadata": {
        "id": "WtJOGsC0TvLl"
      }
    },
    {
      "cell_type": "code",
      "source": [
        "# k의 개수\n",
        "\n",
        "def solution(i, j, k):\n",
        "    count = 0\n",
        "    answer = ''.join(list(map(str, range(i, j+1))))\n",
        "    for i in answer:\n",
        "        if int(i) == k:\n",
        "            count += 1\n",
        "    return count"
      ],
      "metadata": {
        "id": "MezHYIyYhX9k"
      },
      "execution_count": null,
      "outputs": []
    },
    {
      "cell_type": "markdown",
      "source": [
        "#googling_code"
      ],
      "metadata": {
        "id": "kQdTyyM8TxTO"
      }
    },
    {
      "cell_type": "code",
      "source": [
        "# 직사각형 넓이 구하기\n",
        "\n",
        "def solution(dots):\n",
        "    x = [dot[0] for dot in dots] # x 리스트에 x값의 좌표들만 넣는다\n",
        "    y = [dot[1] for dot in dots] # y 리스트에는 y값의 좌표들만 넣는다\n",
        "\n",
        "    w = max(x) - min(x) # x 리스트의 최댓값 - x 리스트의 최소값 해주면 가로 길이\n",
        "    h = max(y) - min(y) # y 리스트의 최댓값 - y 리스트의 최소값 해서 세로 길이\n",
        "    area = w*h\n",
        "    return area"
      ],
      "metadata": {
        "id": "AWUUO-beXWku"
      },
      "execution_count": null,
      "outputs": []
    },
    {
      "cell_type": "code",
      "source": [
        "# 유한소수 판별하기\n",
        "\n",
        "\"\"\"\n",
        "a, b값이 주어질 때, a/b를 기약분수로 만들어 유한소수인지 판별하는 문제\n",
        "유한소수가 되려면 분모의 소인수가 2와 5로만 구성되어 있어야 한다.\n",
        "https://dduniverse.tistory.com/entry/%ED%94%84%EB%A1%9C%EA%B7%B8%EB%9E%98%EB%A8%B8%EC%8A%A4-%EC%9C%A0%ED%95%9C%EC%86%8C%EC%88%98-%ED%8C%90%EB%B3%84%ED%95%98%EA%B8%B0-%ED%8C%8C%EC%9D%B4%EC%8D%AC-python\n",
        "\"\"\"\n",
        "\n",
        "import math\n",
        "\n",
        "def solution(a, b):\n",
        "    gcd = math.gcd(a, b) # 분모, 분자의 최대공약수를 구해 b를 최대공약수로 나눔\n",
        "    b //= gcd\n",
        "\n",
        "    num = [] # 소인수 저장\n",
        "    i = 2\n",
        "    while i <= b: # 소인수 구하기\n",
        "        if b % i == 0:\n",
        "            b //= i\n",
        "            num.append(i)\n",
        "        else:\n",
        "            i += 1\n",
        "\n",
        "    if all(i in [2,5] for i in num): # 소인수가 2와 5만 존재하면 유한소수 그렇징 않으면 무한소수\n",
        "        return 1\n",
        "    return 2"
      ],
      "metadata": {
        "id": "P5Xh9NT8X4VK"
      },
      "execution_count": null,
      "outputs": []
    },
    {
      "cell_type": "code",
      "source": [
        "# 최빈값 구하기\n",
        "\n",
        "def solution(array):\n",
        "\tcount = [0] * (max(array)+1) # 숫자 출연 횟수를 셀 리스트\n",
        "\n",
        "\tfor i in array:\n",
        "\t\tcount[i] += 1\n",
        "\n",
        "\tm = 0 # 최빈값의 개수\n",
        "\tfor c in count:\n",
        "\t\tif c == max(count):\n",
        "\t\t\tm += 1\n",
        "\n",
        "\tif m > 1: # 최빈값이 2개 이상이면 -1을 리턴\n",
        "\t\treturn -1\n",
        "\telse: # 최빈값이 1개이면 해당 숫자를 리턴\n",
        "\t\treturn count.index(max(count))"
      ],
      "metadata": {
        "id": "kxAj13r4YGtF"
      },
      "execution_count": null,
      "outputs": []
    },
    {
      "cell_type": "code",
      "source": [
        "# 옹알이(1)\n",
        "\n",
        "import re\n",
        "def solution(babbling):\n",
        "    answer = 0\n",
        "    word = ['aya','ye','woo','ma'] # 말할 수 있는 4개의 단어를 list에 저장한 후\n",
        "\n",
        "    for b in babbling: # 해당하는 단어를 연속해서 말했는 지를 먼저 체크\n",
        "        if any(w*2 in b for w in word):\n",
        "            continue # 만약 연속된 단어를 말했을 경우 : 말할 수 없는 단어가 되어 넘어가며\n",
        "        for w in word: # 정규식을 활용하여 단어들을 제거\n",
        "            # 빈문자열로 제거할 경우 aayae 같은 경우도 할 수 있다고 판단하기 때문에\n",
        "            # 빈문자열이 아닌 ' '로 제거를 해주고 이후에 빈칸을 없앤다\n",
        "            b = re.sub(f\"{w}\",' ',b) #\n",
        "        b = re.sub(\"\\ +\",'',b)\n",
        "        if not b:\n",
        "            answer += 1\n",
        "    return answer"
      ],
      "metadata": {
        "id": "9KkMcCFFRdfa"
      },
      "execution_count": null,
      "outputs": []
    },
    {
      "cell_type": "code",
      "source": [
        "# 평행\n",
        "\n",
        "# 평행의 조건 : case별 기울기가 동일한지 여부를 체크필요\n",
        "\"\"\"\n",
        "1. 두 직선의 기울기가 동일\n",
        "2. y절편이 서로 달라야 함\n",
        "\"\"\"\n",
        "\n",
        "def solution(dots):\n",
        "    answer = 0\n",
        "    if slope(dots[0],dots[1]) == slope(dots[2],dots[3]):\n",
        "        answer = 1\n",
        "    if slope(dots[0],dots[2]) == slope(dots[1],dots[3]):\n",
        "        answer = 1\n",
        "    if slope(dots[0],dots[3]) == slope(dots[1],dots[2]):\n",
        "        answer = 1\n",
        "    return answer\n",
        "\n",
        "def slope(dot1,dot2):\n",
        "    return (dot2[1] - dot1[1] ) / (dot2[0] - dot1[0]) # 기울기 계산 (y축 차이 - x축 차이)"
      ],
      "metadata": {
        "id": "pdx-mPEwpqJZ"
      },
      "execution_count": null,
      "outputs": []
    },
    {
      "cell_type": "code",
      "source": [
        "# 구슬을 나누는 경우의 수\n",
        "\"\"\"\n",
        "- comb(n,k) : nCk와 같은 조합 값을 반환\n",
        "- 조합은 n개의 수 중 k개를 꺼내는 수와 동일하며 n개의 수는 모두 같은 수라고 가정합니다.\n",
        "- n과 k는 모두 int값만 가능합니다.\n",
        "\"\"\"\n",
        "\n",
        "import math\n",
        "def solution(balls, share):\n",
        "    return math.comb(balls, share)"
      ],
      "metadata": {
        "id": "QWih5azOVy4p"
      },
      "execution_count": null,
      "outputs": []
    }
  ]
}