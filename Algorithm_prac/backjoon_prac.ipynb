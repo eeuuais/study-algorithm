{
  "nbformat": 4,
  "nbformat_minor": 0,
  "metadata": {
    "colab": {
      "provenance": [],
      "authorship_tag": "ABX9TyPSrPRNRlsQbcNIIubG5usQ",
      "include_colab_link": true
    },
    "kernelspec": {
      "name": "python3",
      "display_name": "Python 3"
    },
    "language_info": {
      "name": "python"
    }
  },
  "cells": [
    {
      "cell_type": "markdown",
      "metadata": {
        "id": "view-in-github",
        "colab_type": "text"
      },
      "source": [
        "<a href=\"https://colab.research.google.com/github/eeuuais/studypolio/blob/main/backjoon_prac.ipynb\" target=\"_parent\"><img src=\"https://colab.research.google.com/assets/colab-badge.svg\" alt=\"Open In Colab\"/></a>"
      ]
    },
    {
      "cell_type": "markdown",
      "source": [
        "## 백준 문제풀이"
      ],
      "metadata": {
        "id": "jv4FRqa5uf3_"
      }
    },
    {
      "cell_type": "code",
      "source": [
        "# 메모\n",
        "\n",
        "import sys\n",
        "A,B,C = map(int,sys.stdin.readline().split())\n",
        "print(A+B+C)\n",
        "print(A-B)\n",
        "print(A*B)\n",
        "# 파이썬의 경우, 정수 둘을 나눴을 때 나누어 떨어지지 않으면 자동으로 float형으로 출력한다\n",
        "# print('%d' % (A/B))\n",
        "print(A//B)\n",
        "print(A%B)\n",
        "\n",
        "\n",
        "\n",
        "import sys\n",
        "A,B,C = map(int,sys.stdin.readline().split())\n",
        "print((A+B)%C)\n",
        "print(((A%C) + (B%C))%C)\n",
        "print((A*B)%C)\n",
        "print(((A%C) × (B%C))%C)\n",
        "\n",
        "\n",
        "A = input()\n",
        "B = input()\n",
        "A = int(A)\n",
        "B = int(B)"
      ],
      "metadata": {
        "id": "Qv-mwHTvur8n"
      },
      "execution_count": null,
      "outputs": []
    },
    {
      "cell_type": "markdown",
      "source": [
        "# 1. 입출력과 사칙연산"
      ],
      "metadata": {
        "id": "nub0eydpU-G5"
      }
    },
    {
      "cell_type": "code",
      "execution_count": null,
      "metadata": {
        "colab": {
          "base_uri": "https://localhost:8080/"
        },
        "id": "y2IhPtOJuc_S",
        "outputId": "11dfbb1e-2cec-4dad-c02a-a56a2d5b5d62"
      },
      "outputs": [
        {
          "output_type": "stream",
          "name": "stdout",
          "text": [
            "\\    /\\\n",
            ") )  ( ')\n",
            "(  /  )\n",
            " \\(__)|\n",
            "\\    /\\\n",
            " )  ( ')\n",
            "(  /  )\n",
            " \\(__)|\n"
          ]
        }
      ],
      "source": [
        "#10171 고양이\n",
        "\n",
        "print('\\    /\\\\') # \\를 문자열로 출력하려면 \\\\로 입력\n",
        "print(\" )  ( ')\")\n",
        "print('(  /  )')\n",
        "print(' \\(__)|')"
      ]
    },
    {
      "cell_type": "code",
      "source": [
        "# 10172 개\n",
        "\n",
        "print('|\\_/|')\n",
        "print('|q p|   /}')\n",
        "print('( 0 )\"\"\"\\\\')\n",
        "print('|\"^\"`    |')\n",
        "print('||_/=\\\\\\\\__|')"
      ],
      "metadata": {
        "colab": {
          "base_uri": "https://localhost:8080/"
        },
        "id": "vcGYStj4vNri",
        "outputId": "e49bf96e-baaf-4ad7-d190-881c9e68dfed"
      },
      "execution_count": null,
      "outputs": [
        {
          "output_type": "stream",
          "name": "stdout",
          "text": [
            "|\\_/|\n",
            "|q p|   /}\n",
            "( 0 )\"\"\"\\\n",
            "|\"^\"`    |\n",
            "||_/=\\\\__|\n"
          ]
        }
      ]
    },
    {
      "cell_type": "markdown",
      "source": [
        "# 2. 조건문"
      ],
      "metadata": {
        "id": "ZPg3Yyk-VHOI"
      }
    },
    {
      "cell_type": "code",
      "source": [
        "# 1330 두 수 비교하기\n",
        "\n",
        "A, B = input().split()\n",
        "A = int(A)\n",
        "B = int(B)\n",
        "\n",
        "if A > B:\n",
        "    print(\">\")\n",
        "elif A < B:\n",
        "  print(\"<\")\n",
        "elif A == B:\n",
        "  print(\"==\")"
      ],
      "metadata": {
        "colab": {
          "base_uri": "https://localhost:8080/"
        },
        "id": "x0tXaBkXwBCx",
        "outputId": "5552cf40-4624-421a-f9ef-d73e32af95d5"
      },
      "execution_count": null,
      "outputs": [
        {
          "output_type": "stream",
          "name": "stdout",
          "text": [
            "456 123\n",
            ">\n"
          ]
        }
      ]
    },
    {
      "cell_type": "code",
      "source": [
        "# 9498 시험 성적\n",
        "\n",
        "A = int(input())\n",
        "\n",
        "if A >= 90:\n",
        "    print(\"A\")\n",
        "elif A >= 80:\n",
        "  print(\"B\")\n",
        "elif A >= 70:\n",
        "  print(\"C\")\n",
        "elif A >= 60:\n",
        "  print(\"D\")\n",
        "else:\n",
        "  print(\"F\")"
      ],
      "metadata": {
        "colab": {
          "base_uri": "https://localhost:8080/"
        },
        "id": "9ZBRDPWMxJaS",
        "outputId": "b4d913cb-2d7d-48be-dfa4-c60ade859f6d"
      },
      "execution_count": null,
      "outputs": [
        {
          "output_type": "stream",
          "name": "stdout",
          "text": [
            "80\n",
            "B\n"
          ]
        }
      ]
    },
    {
      "cell_type": "code",
      "source": [
        "# 2753 윤년\n",
        "\n",
        "a = int(input())\n",
        "\n",
        "if a % 4 == 0 and (a % 100 != 0 or a % 400 == 0):\n",
        "  print(1)\n",
        "else:\n",
        "  print(0)"
      ],
      "metadata": {
        "colab": {
          "base_uri": "https://localhost:8080/"
        },
        "id": "Eiikvn72x2GS",
        "outputId": "f27e3d46-b16a-4498-8faf-2966160635c8"
      },
      "execution_count": null,
      "outputs": [
        {
          "output_type": "stream",
          "name": "stdout",
          "text": [
            "1999\n",
            "0\n"
          ]
        }
      ]
    },
    {
      "cell_type": "code",
      "source": [
        "# 14681 사분면 고르기\n",
        "\n",
        "x = int(input())\n",
        "y = int(input())\n",
        "\n",
        "if x > 0 and y > 0:\n",
        "  print(1)\n",
        "elif x < 0 and y < 0:\n",
        "  print(3)\n",
        "elif x > 0 and y < 0:\n",
        "  print(4)\n",
        "else:\n",
        "  print(2)"
      ],
      "metadata": {
        "colab": {
          "base_uri": "https://localhost:8080/"
        },
        "id": "4wFmRrpbzDiQ",
        "outputId": "c4ce1819-e844-4757-f6ff-f544f999d602"
      },
      "execution_count": null,
      "outputs": [
        {
          "output_type": "stream",
          "name": "stdout",
          "text": [
            "9\n",
            "-13\n",
            "4\n"
          ]
        }
      ]
    },
    {
      "cell_type": "code",
      "source": [
        "#2884 알람시계 --> 이어서 풀기\n",
        "\n",
        "h, m = map(int, input().split())\n",
        "\n",
        "if m < 45: # 분단위가 45분보다 작을때\n",
        "  if h == 0: # 0시이면\n",
        "    h = 23\n",
        "    m +=60\n",
        "  else:\n",
        "    h -= 1\n",
        "    m += 60\n",
        "  \n",
        "print(h, m-45)"
      ],
      "metadata": {
        "colab": {
          "base_uri": "https://localhost:8080/"
        },
        "id": "Ui-tR77V0EzM",
        "outputId": "957a192c-2597-48ac-96fb-eec70535bc8d"
      },
      "execution_count": null,
      "outputs": [
        {
          "output_type": "stream",
          "name": "stdout",
          "text": [
            "0 30\n",
            "23 45\n"
          ]
        }
      ]
    },
    {
      "cell_type": "code",
      "source": [
        "# 2525 오븐시계\n",
        "\n",
        "h, m = map(int, input().split())\n",
        "oven = int(input())\n",
        "\n",
        "h += oven // 60  # 걸리는 시간이 60으로 나눠떨어지면\n",
        "m += oven % 60 # 나머지\n",
        "\n",
        "if m >= 60:\n",
        "  h += 1\n",
        "  m -= 60\n",
        "if h >= 24: # 24시가 넘으면 0시가 되도록\n",
        "  h -= 24\n",
        "\n",
        "print(h, m)"
      ],
      "metadata": {
        "colab": {
          "base_uri": "https://localhost:8080/"
        },
        "id": "YzTgMnI83JEd",
        "outputId": "cfb20504-c81d-4719-e170-1ede38089cae"
      },
      "execution_count": null,
      "outputs": [
        {
          "output_type": "stream",
          "name": "stdout",
          "text": [
            "23 48\n",
            "25\n",
            "0 13\n"
          ]
        }
      ]
    },
    {
      "cell_type": "code",
      "source": [
        "# 2480 주사위 세개\n",
        "\n",
        "a, b, c = map(int, input().split())\n",
        "\n",
        "if a == b == c:\n",
        "  print(10000+a*1000)\n",
        "elif a == b :\n",
        "  print(1000+a*100)\n",
        "elif b == c :\n",
        "  print(1000+b*100)\n",
        "elif c == a:\n",
        "  print(1000+c*100)\n",
        "else:\n",
        "  print(max(a,b,c)*100)"
      ],
      "metadata": {
        "colab": {
          "base_uri": "https://localhost:8080/"
        },
        "id": "LtfKxQJR8YI3",
        "outputId": "b3993e91-d714-45a9-f0a9-733cc4f5efd7"
      },
      "execution_count": null,
      "outputs": [
        {
          "output_type": "stream",
          "name": "stdout",
          "text": [
            "6 2 5\n",
            "600\n"
          ]
        }
      ]
    },
    {
      "cell_type": "markdown",
      "source": [
        "# 3. 반복문"
      ],
      "metadata": {
        "id": "ukqT88aCVKFK"
      }
    },
    {
      "cell_type": "code",
      "source": [
        "# 2739 구구단\n",
        "\n",
        "N = int(input())\n",
        "\n",
        "for i in range(1, 10):\n",
        "  print('{0} * {1} = {2}'.format(N, i, N*i))"
      ],
      "metadata": {
        "colab": {
          "base_uri": "https://localhost:8080/"
        },
        "id": "ckzL5z6-_F9r",
        "outputId": "3601e598-d426-4543-cfd4-136fab5089e0"
      },
      "execution_count": null,
      "outputs": [
        {
          "output_type": "stream",
          "name": "stdout",
          "text": [
            "2\n",
            "2 * 1 = 2\n",
            "2 * 2 = 4\n",
            "2 * 3 = 6\n",
            "2 * 4 = 8\n",
            "2 * 5 = 10\n",
            "2 * 6 = 12\n",
            "2 * 7 = 14\n",
            "2 * 8 = 16\n",
            "2 * 9 = 18\n"
          ]
        }
      ]
    },
    {
      "cell_type": "code",
      "source": [
        "# 10950 A+b-3\n",
        "\n",
        "T = int(input()) # 테스트 케이스 개수 T 입력받기\n",
        "\n",
        "for i in range(T): # T만큼 반복\n",
        "  a, b = map(int, input().split())\n",
        "  print(a+b)"
      ],
      "metadata": {
        "colab": {
          "base_uri": "https://localhost:8080/"
        },
        "id": "chDP6GF5BUr-",
        "outputId": "6544c7cd-7752-4f8d-a512-38224bd7ba23"
      },
      "execution_count": null,
      "outputs": [
        {
          "output_type": "stream",
          "name": "stdout",
          "text": [
            "5\n",
            "1 1\n",
            "2\n",
            "2 3\n",
            "5\n",
            "3 4\n",
            "7\n",
            "9 8\n",
            "17\n",
            "5 2\n",
            "7\n"
          ]
        }
      ]
    },
    {
      "cell_type": "code",
      "source": [
        "# 8393 합\n",
        "# --> factorial문제로 혼동함\n",
        "\n",
        "n = int(input()) # n이 주어졌을 때\n",
        "result = 1       # 1로 초기화\n",
        "\n",
        "for i in range(1, n+1, 1):  # 1부터 n+1까지 1씩 증가\n",
        "  result *= i\n",
        "print(result)"
      ],
      "metadata": {
        "colab": {
          "base_uri": "https://localhost:8080/"
        },
        "id": "qsepAGHNDLNE",
        "outputId": "193cdb15-3b8b-458d-bb3e-0ce964297ffa"
      },
      "execution_count": null,
      "outputs": [
        {
          "output_type": "stream",
          "name": "stdout",
          "text": [
            "3\n",
            "6\n"
          ]
        }
      ]
    },
    {
      "cell_type": "markdown",
      "source": [
        "--> 위 코드 출력초과!\n",
        "\n",
        "출력 초과 : 프로그램이 너무 많은 출력을 하는 경우에 발생합니다. 이 결과는 틀렸습니다와 같은 의미를 갖습니다. 정확하게는 미리 구해놓은 정답 파일 크기의 2배를 넘어가면 이 결과를 받게 됩니다. 만약, 출력하는 부분이 무한 루프에 빠진 경우, 시간을 초과하기 전에 출력 초과를 받을 수 있습니다."
      ],
      "metadata": {
        "id": "4_hOPIzpEHfa"
      }
    },
    {
      "cell_type": "code",
      "source": [
        "# 8393 합\n",
        "\n",
        "sum = 0\n",
        "n = int(input()) # n이 주어졌을 때\n",
        "for i in range(n+1):\n",
        "    sum += i\n",
        "print(sum)"
      ],
      "metadata": {
        "colab": {
          "base_uri": "https://localhost:8080/"
        },
        "id": "vD9mmS0_ELWq",
        "outputId": "f0b1c8ec-213b-4ed0-fc2b-05e96e22c8ba"
      },
      "execution_count": null,
      "outputs": [
        {
          "output_type": "stream",
          "name": "stdout",
          "text": [
            "3\n",
            "6\n"
          ]
        }
      ]
    },
    {
      "cell_type": "code",
      "source": [
        "# 25304 영수증\n",
        "\n",
        "X = int(input()) # 첫째 줄에는 영수증에 적힌 총 금액 X가 주어진다.\n",
        "N = int(input()) # 둘째 줄에는 영수증에 적힌 구매한 물건의 종류의 수 N이 주어진다.\n",
        "\n",
        "total = 0 # 총 금액\n",
        "\n",
        "for i in range(N): # 이후 N개의 줄에는 각 물건의 가격 a와 개수 b가 공백을 사이에 두고 주어진다.\n",
        "  a, b = map(int, input().split())\n",
        "  total += a*b\n",
        "\n",
        "# 위에서 구한 금액과 영수증 금액이 같은지 확인\n",
        "if X == total:\n",
        "    print(\"Yes\")\n",
        "else:\n",
        "    print(\"No\")"
      ],
      "metadata": {
        "colab": {
          "base_uri": "https://localhost:8080/"
        },
        "id": "eS3Zh40YEz9X",
        "outputId": "a1a42614-1f01-4507-c151-423101a17907"
      },
      "execution_count": null,
      "outputs": [
        {
          "output_type": "stream",
          "name": "stdout",
          "text": [
            "260000\n",
            "4\n",
            "20000 5\n",
            "30000 2\n",
            "10000 6\n",
            "5000 8\n",
            "Yes\n"
          ]
        }
      ]
    },
    {
      "cell_type": "code",
      "source": [
        "# 25314 코딩은 체육과목입니다\n",
        "\"\"\"\n",
        "혜아는 long int 가 4바이트라면, long 이 추가될 때마다 4바이트가 추가된다고 생각한다.\n",
        "따라서, N바이트 크기의 정수라면, long 은 N/4 만큼 추가되어야 한다.\n",
        "\"\"\"\n",
        "# 입력 받은 N 을 4로 나누고, 그 결과만큼 반복하여 long 을 출력한다.\n",
        "for _ in range(int(input())//4):\n",
        "  print(\"long\", end=\" \") # print 함수는 기본적으로 개행이 되므로, 문제의 조건에 따라 end = \" \"를 통해 공백을 추가\n",
        "print(\"int\")"
      ],
      "metadata": {
        "colab": {
          "base_uri": "https://localhost:8080/"
        },
        "id": "RGGQORrzH-C2",
        "outputId": "aaddb163-6b71-4f03-cf33-3324ae897a7f"
      },
      "execution_count": null,
      "outputs": [
        {
          "output_type": "stream",
          "name": "stdout",
          "text": [
            "20\n",
            "long long long long long int\n"
          ]
        }
      ]
    },
    {
      "cell_type": "code",
      "source": [
        "# 15552 빠른 A+B --> 정답인데 Colab에서 안돌아감;\n",
        "\n",
        "# 입출력 방식이 느리면 여러 줄을 입력받거나 출력할 때 시간초과가 날 수 있다\n",
        "# input 대신 sys.stdin.readline을 사용할 수 있다. 단, 이때는 맨 끝의 개행문자까지 같이 입력받기 때문에 문자열을 저장하고 싶을 경우 .rstrip()을 추가로 해 주는 것이 좋다.\n",
        "\n",
        "import sys\n",
        "n = int(input())\n",
        "for i in range(n):\n",
        "    a, b = map(int, sys.stdin.readline().split())\n",
        "    print(a+b)"
      ],
      "metadata": {
        "id": "wr6i6RjzJ612",
        "colab": {
          "base_uri": "https://localhost:8080/",
          "height": 248
        },
        "outputId": "c4f2d4b0-6cea-4eef-e5ac-6d5c2862d3dc"
      },
      "execution_count": null,
      "outputs": [
        {
          "name": "stdout",
          "output_type": "stream",
          "text": [
            "5\n"
          ]
        },
        {
          "output_type": "error",
          "ename": "ValueError",
          "evalue": "ignored",
          "traceback": [
            "\u001b[0;31m---------------------------------------------------------------------------\u001b[0m",
            "\u001b[0;31mValueError\u001b[0m                                Traceback (most recent call last)",
            "\u001b[0;32m<ipython-input-13-5353c1f30952>\u001b[0m in \u001b[0;36m<module>\u001b[0;34m\u001b[0m\n\u001b[1;32m      7\u001b[0m \u001b[0mn\u001b[0m \u001b[0;34m=\u001b[0m \u001b[0mint\u001b[0m\u001b[0;34m(\u001b[0m\u001b[0minput\u001b[0m\u001b[0;34m(\u001b[0m\u001b[0;34m)\u001b[0m\u001b[0;34m)\u001b[0m\u001b[0;34m\u001b[0m\u001b[0;34m\u001b[0m\u001b[0m\n\u001b[1;32m      8\u001b[0m \u001b[0;32mfor\u001b[0m \u001b[0mi\u001b[0m \u001b[0;32min\u001b[0m \u001b[0mrange\u001b[0m\u001b[0;34m(\u001b[0m\u001b[0mn\u001b[0m\u001b[0;34m)\u001b[0m\u001b[0;34m:\u001b[0m\u001b[0;34m\u001b[0m\u001b[0;34m\u001b[0m\u001b[0m\n\u001b[0;32m----> 9\u001b[0;31m     \u001b[0ma\u001b[0m\u001b[0;34m,\u001b[0m\u001b[0mb\u001b[0m \u001b[0;34m=\u001b[0m \u001b[0mmap\u001b[0m\u001b[0;34m(\u001b[0m\u001b[0mint\u001b[0m\u001b[0;34m,\u001b[0m \u001b[0msys\u001b[0m\u001b[0;34m.\u001b[0m\u001b[0mstdin\u001b[0m\u001b[0;34m.\u001b[0m\u001b[0mreadline\u001b[0m\u001b[0;34m(\u001b[0m\u001b[0;34m)\u001b[0m\u001b[0;34m.\u001b[0m\u001b[0msplit\u001b[0m\u001b[0;34m(\u001b[0m\u001b[0;34m)\u001b[0m\u001b[0;34m)\u001b[0m\u001b[0;34m\u001b[0m\u001b[0;34m\u001b[0m\u001b[0m\n\u001b[0m\u001b[1;32m     10\u001b[0m     \u001b[0mprint\u001b[0m\u001b[0;34m(\u001b[0m\u001b[0ma\u001b[0m\u001b[0;34m+\u001b[0m\u001b[0mb\u001b[0m\u001b[0;34m)\u001b[0m\u001b[0;34m\u001b[0m\u001b[0;34m\u001b[0m\u001b[0m\n",
            "\u001b[0;31mValueError\u001b[0m: not enough values to unpack (expected 2, got 0)"
          ]
        }
      ]
    },
    {
      "cell_type": "code",
      "source": [
        "#11021 A+B-7\n",
        "\"\"\"\n",
        "%d = decimal(10진법, 소수)\n",
        "%s = string\n",
        "%f = float\n",
        "\"\"\"\n",
        "\n",
        "import sys\n",
        "T = int(input())\n",
        "for x in range(1, T+1):\n",
        "    a,b = map(int,sys.stdin.readline().split())\n",
        "    print(\"Case #%s: %s\" % (x, a + b))"
      ],
      "metadata": {
        "colab": {
          "base_uri": "https://localhost:8080/",
          "height": 248
        },
        "id": "nuXNkUMk9lEL",
        "outputId": "3bfdd444-a791-4d09-e148-9441927eca21"
      },
      "execution_count": null,
      "outputs": [
        {
          "name": "stdout",
          "output_type": "stream",
          "text": [
            "5\n"
          ]
        },
        {
          "output_type": "error",
          "ename": "ValueError",
          "evalue": "ignored",
          "traceback": [
            "\u001b[0;31m---------------------------------------------------------------------------\u001b[0m",
            "\u001b[0;31mValueError\u001b[0m                                Traceback (most recent call last)",
            "\u001b[0;32m<ipython-input-16-09dc28e1f930>\u001b[0m in \u001b[0;36m<module>\u001b[0;34m\u001b[0m\n\u001b[1;32m      9\u001b[0m \u001b[0mT\u001b[0m \u001b[0;34m=\u001b[0m \u001b[0mint\u001b[0m\u001b[0;34m(\u001b[0m\u001b[0minput\u001b[0m\u001b[0;34m(\u001b[0m\u001b[0;34m)\u001b[0m\u001b[0;34m)\u001b[0m\u001b[0;34m\u001b[0m\u001b[0;34m\u001b[0m\u001b[0m\n\u001b[1;32m     10\u001b[0m \u001b[0;32mfor\u001b[0m \u001b[0mx\u001b[0m \u001b[0;32min\u001b[0m \u001b[0mrange\u001b[0m\u001b[0;34m(\u001b[0m\u001b[0;36m1\u001b[0m\u001b[0;34m,\u001b[0m \u001b[0mT\u001b[0m\u001b[0;34m+\u001b[0m\u001b[0;36m1\u001b[0m\u001b[0;34m)\u001b[0m\u001b[0;34m:\u001b[0m\u001b[0;34m\u001b[0m\u001b[0;34m\u001b[0m\u001b[0m\n\u001b[0;32m---> 11\u001b[0;31m     \u001b[0ma\u001b[0m\u001b[0;34m,\u001b[0m\u001b[0mb\u001b[0m \u001b[0;34m=\u001b[0m \u001b[0mmap\u001b[0m\u001b[0;34m(\u001b[0m\u001b[0mint\u001b[0m\u001b[0;34m,\u001b[0m\u001b[0msys\u001b[0m\u001b[0;34m.\u001b[0m\u001b[0mstdin\u001b[0m\u001b[0;34m.\u001b[0m\u001b[0mreadline\u001b[0m\u001b[0;34m(\u001b[0m\u001b[0;34m)\u001b[0m\u001b[0;34m.\u001b[0m\u001b[0msplit\u001b[0m\u001b[0;34m(\u001b[0m\u001b[0;34m)\u001b[0m\u001b[0;34m)\u001b[0m\u001b[0;34m\u001b[0m\u001b[0;34m\u001b[0m\u001b[0m\n\u001b[0m\u001b[1;32m     12\u001b[0m     \u001b[0mprint\u001b[0m\u001b[0;34m(\u001b[0m\u001b[0;34m\"Case #%s: %s\"\u001b[0m \u001b[0;34m%\u001b[0m \u001b[0;34m(\u001b[0m\u001b[0mx\u001b[0m\u001b[0;34m,\u001b[0m \u001b[0ma\u001b[0m \u001b[0;34m+\u001b[0m \u001b[0mb\u001b[0m\u001b[0;34m)\u001b[0m\u001b[0;34m)\u001b[0m\u001b[0;34m\u001b[0m\u001b[0;34m\u001b[0m\u001b[0m\n",
            "\u001b[0;31mValueError\u001b[0m: not enough values to unpack (expected 2, got 0)"
          ]
        }
      ]
    },
    {
      "cell_type": "code",
      "source": [
        "#11022 A+B-8\n",
        "\n",
        "import sys\n",
        "T = int(input())\n",
        "for x in range(1, T+1):\n",
        "    a,b = map(int,sys.stdin.readline().split())\n",
        "    print(\"Case #%s: %s + %s = %s\" % (x, a, b, a+b))"
      ],
      "metadata": {
        "colab": {
          "base_uri": "https://localhost:8080/",
          "height": 248
        },
        "id": "WZyanBep_Efc",
        "outputId": "7fe0f055-e4e2-479c-bbcf-399c79f8e45b"
      },
      "execution_count": null,
      "outputs": [
        {
          "name": "stdout",
          "output_type": "stream",
          "text": [
            "5\n"
          ]
        },
        {
          "output_type": "error",
          "ename": "ValueError",
          "evalue": "ignored",
          "traceback": [
            "\u001b[0;31m---------------------------------------------------------------------------\u001b[0m",
            "\u001b[0;31mValueError\u001b[0m                                Traceback (most recent call last)",
            "\u001b[0;32m<ipython-input-18-433d1b53ddb1>\u001b[0m in \u001b[0;36m<module>\u001b[0;34m\u001b[0m\n\u001b[1;32m      4\u001b[0m \u001b[0mT\u001b[0m \u001b[0;34m=\u001b[0m \u001b[0mint\u001b[0m\u001b[0;34m(\u001b[0m\u001b[0minput\u001b[0m\u001b[0;34m(\u001b[0m\u001b[0;34m)\u001b[0m\u001b[0;34m)\u001b[0m\u001b[0;34m\u001b[0m\u001b[0;34m\u001b[0m\u001b[0m\n\u001b[1;32m      5\u001b[0m \u001b[0;32mfor\u001b[0m \u001b[0mx\u001b[0m \u001b[0;32min\u001b[0m \u001b[0mrange\u001b[0m\u001b[0;34m(\u001b[0m\u001b[0;36m1\u001b[0m\u001b[0;34m,\u001b[0m \u001b[0mT\u001b[0m\u001b[0;34m+\u001b[0m\u001b[0;36m1\u001b[0m\u001b[0;34m)\u001b[0m\u001b[0;34m:\u001b[0m\u001b[0;34m\u001b[0m\u001b[0;34m\u001b[0m\u001b[0m\n\u001b[0;32m----> 6\u001b[0;31m     \u001b[0ma\u001b[0m\u001b[0;34m,\u001b[0m\u001b[0mb\u001b[0m \u001b[0;34m=\u001b[0m \u001b[0mmap\u001b[0m\u001b[0;34m(\u001b[0m\u001b[0mint\u001b[0m\u001b[0;34m,\u001b[0m\u001b[0msys\u001b[0m\u001b[0;34m.\u001b[0m\u001b[0mstdin\u001b[0m\u001b[0;34m.\u001b[0m\u001b[0mreadline\u001b[0m\u001b[0;34m(\u001b[0m\u001b[0;34m)\u001b[0m\u001b[0;34m.\u001b[0m\u001b[0msplit\u001b[0m\u001b[0;34m(\u001b[0m\u001b[0;34m)\u001b[0m\u001b[0;34m)\u001b[0m\u001b[0;34m\u001b[0m\u001b[0;34m\u001b[0m\u001b[0m\n\u001b[0m\u001b[1;32m      7\u001b[0m     \u001b[0mprint\u001b[0m\u001b[0;34m(\u001b[0m\u001b[0;34m\"Case #%s: %s + %s = %s\"\u001b[0m \u001b[0;34m%\u001b[0m \u001b[0;34m(\u001b[0m\u001b[0mx\u001b[0m\u001b[0;34m,\u001b[0m \u001b[0ma\u001b[0m\u001b[0;34m,\u001b[0m \u001b[0mb\u001b[0m\u001b[0;34m,\u001b[0m \u001b[0ma\u001b[0m\u001b[0;34m+\u001b[0m\u001b[0mb\u001b[0m\u001b[0;34m)\u001b[0m\u001b[0;34m)\u001b[0m\u001b[0;34m\u001b[0m\u001b[0;34m\u001b[0m\u001b[0m\n",
            "\u001b[0;31mValueError\u001b[0m: not enough values to unpack (expected 2, got 0)"
          ]
        }
      ]
    },
    {
      "cell_type": "code",
      "source": [
        "#2438 별 찍기 -1\n",
        "\n",
        "T = int(input())\n",
        "for T in range(1, T+1):\n",
        "  print(\"*\" * T)"
      ],
      "metadata": {
        "colab": {
          "base_uri": "https://localhost:8080/"
        },
        "id": "pjFjGFlV_shA",
        "outputId": "0279c7fb-ab91-4693-8abb-4e8a88ed3820"
      },
      "execution_count": null,
      "outputs": [
        {
          "output_type": "stream",
          "name": "stdout",
          "text": [
            "5\n",
            "*\n",
            "**\n",
            "***\n",
            "****\n",
            "*****\n"
          ]
        }
      ]
    },
    {
      "cell_type": "code",
      "source": [
        "#2439 별 찍기 -2\n",
        "\n",
        "T = int(input())\n",
        "for i in range(1, T+1):\n",
        "  print(\" \"*(T-i), \"*\"*i, sep='')"
      ],
      "metadata": {
        "colab": {
          "base_uri": "https://localhost:8080/"
        },
        "id": "Jkf5j4RPAmmf",
        "outputId": "3da8b453-7a13-474e-c3d0-69be0e6a1f5f"
      },
      "execution_count": null,
      "outputs": [
        {
          "output_type": "stream",
          "name": "stdout",
          "text": [
            "5\n",
            "    *\n",
            "   **\n",
            "  ***\n",
            " ****\n",
            "*****\n"
          ]
        }
      ]
    },
    {
      "cell_type": "code",
      "source": [
        "#10952 A+B-5\n",
        "\n",
        "import sys\n",
        "while(True):\n",
        "  a, b = list(map(int, sys.stdin.readline().split()))\n",
        "  if(a==0 and b==0):\n",
        "    break\n",
        "  else:\n",
        "    print(a+b)"
      ],
      "metadata": {
        "colab": {
          "base_uri": "https://localhost:8080/",
          "height": 248
        },
        "id": "_ULCKhUCBvvd",
        "outputId": "4ca33207-230f-4f38-812b-3c99124f6740"
      },
      "execution_count": null,
      "outputs": [
        {
          "output_type": "error",
          "ename": "ValueError",
          "evalue": "ignored",
          "traceback": [
            "\u001b[0;31m---------------------------------------------------------------------------\u001b[0m",
            "\u001b[0;31mValueError\u001b[0m                                Traceback (most recent call last)",
            "\u001b[0;32m<ipython-input-28-8414aae2fc5e>\u001b[0m in \u001b[0;36m<module>\u001b[0;34m\u001b[0m\n\u001b[1;32m      3\u001b[0m \u001b[0;32mimport\u001b[0m \u001b[0msys\u001b[0m\u001b[0;34m\u001b[0m\u001b[0;34m\u001b[0m\u001b[0m\n\u001b[1;32m      4\u001b[0m \u001b[0;32mwhile\u001b[0m\u001b[0;34m(\u001b[0m\u001b[0;32mTrue\u001b[0m\u001b[0;34m)\u001b[0m\u001b[0;34m:\u001b[0m\u001b[0;34m\u001b[0m\u001b[0;34m\u001b[0m\u001b[0m\n\u001b[0;32m----> 5\u001b[0;31m   \u001b[0ma\u001b[0m\u001b[0;34m,\u001b[0m \u001b[0mb\u001b[0m \u001b[0;34m=\u001b[0m \u001b[0mlist\u001b[0m\u001b[0;34m(\u001b[0m\u001b[0mmap\u001b[0m\u001b[0;34m(\u001b[0m\u001b[0mint\u001b[0m\u001b[0;34m,\u001b[0m \u001b[0msys\u001b[0m\u001b[0;34m.\u001b[0m\u001b[0mstdin\u001b[0m\u001b[0;34m.\u001b[0m\u001b[0mreadline\u001b[0m\u001b[0;34m(\u001b[0m\u001b[0;34m)\u001b[0m\u001b[0;34m.\u001b[0m\u001b[0msplit\u001b[0m\u001b[0;34m(\u001b[0m\u001b[0;34m)\u001b[0m\u001b[0;34m)\u001b[0m\u001b[0;34m)\u001b[0m\u001b[0;34m\u001b[0m\u001b[0;34m\u001b[0m\u001b[0m\n\u001b[0m\u001b[1;32m      6\u001b[0m   \u001b[0;32mif\u001b[0m\u001b[0;34m(\u001b[0m\u001b[0ma\u001b[0m\u001b[0;34m==\u001b[0m\u001b[0;36m0\u001b[0m \u001b[0;32mand\u001b[0m \u001b[0mb\u001b[0m\u001b[0;34m==\u001b[0m\u001b[0;36m0\u001b[0m\u001b[0;34m)\u001b[0m\u001b[0;34m:\u001b[0m\u001b[0;34m\u001b[0m\u001b[0;34m\u001b[0m\u001b[0m\n\u001b[1;32m      7\u001b[0m     \u001b[0;32mbreak\u001b[0m\u001b[0;34m\u001b[0m\u001b[0;34m\u001b[0m\u001b[0m\n",
            "\u001b[0;31mValueError\u001b[0m: not enough values to unpack (expected 2, got 0)"
          ]
        }
      ]
    },
    {
      "cell_type": "code",
      "source": [
        "#10951 A+B-4\n",
        "\n",
        "import sys\n",
        "while(True):\n",
        "  try:\n",
        "    a, b = map(int, sys.stdin.readline().split())\n",
        "    print(a+b)\n",
        "  except:\n",
        "    break"
      ],
      "metadata": {
        "id": "C2-sB10YCVLl"
      },
      "execution_count": null,
      "outputs": []
    },
    {
      "cell_type": "markdown",
      "source": [
        "# 4. 1차원 배열"
      ],
      "metadata": {
        "id": "sQ584motVOSs"
      }
    },
    {
      "cell_type": "code",
      "source": [
        "#10807 개수 세기\n",
        "\n",
        "a = int(input())\n",
        "a_list = list(map(int, input().split()))\n",
        "v = int(input())\n",
        "print(a_list.count(v))"
      ],
      "metadata": {
        "colab": {
          "base_uri": "https://localhost:8080/"
        },
        "id": "sNtx3pJXDAi4",
        "outputId": "a6a5622f-e396-40cf-a414-e663895c7085"
      },
      "execution_count": null,
      "outputs": [
        {
          "output_type": "stream",
          "name": "stdout",
          "text": [
            "5\n",
            "1 2 3 3 3\n",
            "3\n",
            "3\n"
          ]
        }
      ]
    },
    {
      "cell_type": "code",
      "source": [
        "# 10871 X보다 작은 수\n",
        "\n",
        "N, X = map(int, input().split())    # 첫째 줄에 N과 X가 주어진다\n",
        "A = list(map(int, input().split())) # 둘째 줄에 수열 A를 이루는 정수 N개가 주어진다. \n",
        "\n",
        "for i in range(N):\n",
        "  if A[i] < X:\n",
        "    print(A[i], end=\" \")"
      ],
      "metadata": {
        "colab": {
          "base_uri": "https://localhost:8080/"
        },
        "id": "x_olBzUdEEli",
        "outputId": "fffa354e-66e2-437a-85a8-f89e77dcd397"
      },
      "execution_count": null,
      "outputs": [
        {
          "output_type": "stream",
          "name": "stdout",
          "text": [
            "10 5\n",
            "1 10 4 9 2 3 8 5 7 6\n",
            "1 4 2 3 "
          ]
        }
      ]
    },
    {
      "cell_type": "code",
      "source": [
        "#10818 최소, 최대\n",
        "\n",
        "N = int(input())\n",
        "N_list = list(map(int, input().split()))\n",
        "print(min(N_list), max(N_list))"
      ],
      "metadata": {
        "colab": {
          "base_uri": "https://localhost:8080/"
        },
        "id": "DlIeNkTdHlQ-",
        "outputId": "713c0981-69b5-45b0-a0a0-69eeb507a060"
      },
      "execution_count": null,
      "outputs": [
        {
          "output_type": "stream",
          "name": "stdout",
          "text": [
            "5\n",
            "20 10 35 30 7\n",
            "7 35\n"
          ]
        }
      ]
    },
    {
      "cell_type": "code",
      "source": [
        "#2562 최댓값\n",
        "\n",
        "# 1) 9개의 수를 for문으로 입력받는 코드\n",
        "N = []\n",
        "for _ in range(9):\n",
        "  i = int(input())\n",
        "  N.append(i)\n",
        "\n",
        "print(max(N))\n",
        "print(N.index(max(N)) + 1) # 파이썬 index는 0부터 시작하니까~"
      ],
      "metadata": {
        "colab": {
          "base_uri": "https://localhost:8080/"
        },
        "id": "5ZXJRT_NIcC0",
        "outputId": "42f62840-f494-4ca0-90a7-af084350762a"
      },
      "execution_count": null,
      "outputs": [
        {
          "output_type": "stream",
          "name": "stdout",
          "text": [
            "3\n",
            "29\n",
            "38\n",
            "12\n",
            "57\n",
            "74\n",
            "40\n",
            "85\n",
            "61\n",
            "85\n",
            "8\n"
          ]
        }
      ]
    },
    {
      "cell_type": "code",
      "source": [
        "#2562 최댓값\n",
        "\n",
        "# 2) for문을 list comprehension으로 작성한 코드\n",
        "\n",
        "N = [int(input()) for _ in range(9)]\n",
        "\n",
        "print(max(N))\n",
        "print(N.index(max(N)) + 1)"
      ],
      "metadata": {
        "colab": {
          "base_uri": "https://localhost:8080/"
        },
        "id": "1VmqhC2fJ5vC",
        "outputId": "37f72c7e-c344-49df-983a-faf5474ebfb6"
      },
      "execution_count": null,
      "outputs": [
        {
          "output_type": "stream",
          "name": "stdout",
          "text": [
            "3\n",
            "29\n",
            "38\n",
            "12\n",
            "57\n",
            "74\n",
            "40\n",
            "85\n",
            "61\n",
            "85\n",
            "8\n"
          ]
        }
      ]
    },
    {
      "cell_type": "code",
      "source": [
        "#10810 공 넣기\n",
        "\n",
        "N, M = map(int, input().split())\n",
        "basket = [0] * N # 초기화\n",
        "\n",
        "# 반복문을 통해 입력받은 i부터 j+1까지 범위를 설정해서 basket 값을 k로 갱신시켜준다.\n",
        "for _ in range(M):\n",
        "  i, j, k = map(int, input().split())\n",
        "  for x in range(i, j+1):\n",
        "    basket[x-1] = k\n",
        "\n",
        "# 반복문을 통해 리스트에 존재하는 값을 출력해준다.\n",
        "for x in range(N):\n",
        "  print(basket[x], end=' ')"
      ],
      "metadata": {
        "colab": {
          "base_uri": "https://localhost:8080/"
        },
        "id": "Vn3Z8HfdKgWw",
        "outputId": "b7a4a09f-57d0-4ef1-d945-a0ec0c9c3983"
      },
      "execution_count": null,
      "outputs": [
        {
          "output_type": "stream",
          "name": "stdout",
          "text": [
            "5 4\n",
            "1 2 3\n",
            "3 4 4\n",
            "1 4 1\n",
            "2 2 2\n",
            "1 2 1 1 0 "
          ]
        }
      ]
    },
    {
      "cell_type": "code",
      "source": [
        "# (복습필요)\n",
        "# 10813 공 바꾸기\n",
        "\n",
        "n, m = map(int, input().split())\n",
        "box = [i for i in range(1, n+1)]\n",
        "\n",
        "for _ in range(m):\n",
        "    i, j = map(int, input().split())\n",
        "    temp = box[i-1]   # 바꿀 첫번째 박스에 담겨있던 공의 번호를 temp에 넣는다.\n",
        "    box[i-1]=box[j-1] # 첫번째 박스에 두번째 박스에 담겨있던 공을 넣는다.\n",
        "    box[j-1]=temp # 두번째 박스에 첫번째 박스에 담겨있던 공의 번호, 즉 temp의 값을 넣는다.\n",
        "\n",
        "for b in box:\n",
        "  print(b, end=' ')"
      ],
      "metadata": {
        "id": "Dnjp8LFzODHr",
        "colab": {
          "base_uri": "https://localhost:8080/"
        },
        "outputId": "0ccfcca9-5464-4ddc-e34a-2e7904f03e26"
      },
      "execution_count": null,
      "outputs": [
        {
          "output_type": "stream",
          "name": "stdout",
          "text": [
            "5 4\n",
            "1 2\n",
            "3 4\n",
            "1 4\n",
            "2 2\n",
            "3 1 4 2 5 "
          ]
        }
      ]
    },
    {
      "cell_type": "code",
      "source": [
        "#5597 과제 안 내신 분..?\n",
        "\n",
        "students = [i for i in range(1, 31)]\n",
        "\n",
        "# 입력은 총 28줄로 각 제출자(학생)의 출석번호 n(1 ≤ n ≤ 30)가 한 줄에 하나씩 주어진다. \n",
        "for _ in range(28):\n",
        "  applied = int(input())\n",
        "  students.remove(applied) # 소거\n",
        "\n",
        "# 1번째 줄엔 제출하지 않은 학생의 출석번호 중 가장 작은 것을 출력하고, \n",
        "# 2번째 줄에선 그 다음 출석번호를 출력한다.\n",
        "print(min(students))\n",
        "print(max(students))"
      ],
      "metadata": {
        "colab": {
          "base_uri": "https://localhost:8080/"
        },
        "id": "NrcuxywyN79x",
        "outputId": "9e6ad9d5-4fac-4e51-b695-90cb75f008bd"
      },
      "execution_count": null,
      "outputs": [
        {
          "output_type": "stream",
          "name": "stdout",
          "text": [
            "3\n",
            "1\n",
            "4\n",
            "5\n",
            "7\n",
            "9\n",
            "6\n",
            "10\n",
            "11\n",
            "12\n",
            "13\n",
            "14\n",
            "15\n",
            "16\n",
            "17\n",
            "18\n",
            "19\n",
            "20\n",
            "21\n",
            "22\n",
            "23\n",
            "24\n",
            "25\n",
            "26\n",
            "27\n",
            "28\n",
            "29\n",
            "30\n",
            "2\n",
            "8\n"
          ]
        }
      ]
    },
    {
      "cell_type": "code",
      "source": [
        "#3052 나머지\n",
        "\n",
        "# 빈 배열 만들기\n",
        "N = []\n",
        "\n",
        "# i를 입력받은 뒤 append를 이용해서 배열의 마지막에 원소를 추가한다\n",
        "for i in range(10):\n",
        "  i = int(input())\n",
        "  N.append(i % 42)\n",
        "\n",
        "# set: N list를 집합 자료형으로 만들어 줌 (=중복제거)\n",
        "N = set(N) \n",
        "\n",
        "# N의 길이 출력 = 서로 다른 나머지가 몇 개 있는지 출력\n",
        "print(len(N))"
      ],
      "metadata": {
        "colab": {
          "base_uri": "https://localhost:8080/",
          "height": 400
        },
        "id": "2NbVQejQPzUs",
        "outputId": "922e490e-be67-496b-ef22-9e3e8c676d9f"
      },
      "execution_count": null,
      "outputs": [
        {
          "output_type": "error",
          "ename": "KeyboardInterrupt",
          "evalue": "ignored",
          "traceback": [
            "\u001b[0;31m---------------------------------------------------------------------------\u001b[0m",
            "\u001b[0;31mKeyboardInterrupt\u001b[0m                         Traceback (most recent call last)",
            "\u001b[0;32m<ipython-input-54-0c292a107932>\u001b[0m in \u001b[0;36m<module>\u001b[0;34m\u001b[0m\n\u001b[1;32m      6\u001b[0m \u001b[0;31m# i를 입력받은 뒤 append를 이용해서 배열의 마지막에 원소를 추가한다\u001b[0m\u001b[0;34m\u001b[0m\u001b[0;34m\u001b[0m\u001b[0;34m\u001b[0m\u001b[0m\n\u001b[1;32m      7\u001b[0m \u001b[0;32mfor\u001b[0m \u001b[0mi\u001b[0m \u001b[0;32min\u001b[0m \u001b[0mrange\u001b[0m\u001b[0;34m(\u001b[0m\u001b[0;36m10\u001b[0m\u001b[0;34m)\u001b[0m\u001b[0;34m:\u001b[0m\u001b[0;34m\u001b[0m\u001b[0;34m\u001b[0m\u001b[0m\n\u001b[0;32m----> 8\u001b[0;31m   \u001b[0mi\u001b[0m \u001b[0;34m=\u001b[0m \u001b[0mint\u001b[0m\u001b[0;34m(\u001b[0m\u001b[0minput\u001b[0m\u001b[0;34m(\u001b[0m\u001b[0;34m)\u001b[0m\u001b[0;34m)\u001b[0m\u001b[0;34m\u001b[0m\u001b[0;34m\u001b[0m\u001b[0m\n\u001b[0m\u001b[1;32m      9\u001b[0m   \u001b[0mN\u001b[0m\u001b[0;34m.\u001b[0m\u001b[0mappend\u001b[0m\u001b[0;34m(\u001b[0m\u001b[0mi\u001b[0m \u001b[0;34m%\u001b[0m \u001b[0;36m42\u001b[0m\u001b[0;34m)\u001b[0m\u001b[0;34m\u001b[0m\u001b[0;34m\u001b[0m\u001b[0m\n\u001b[1;32m     10\u001b[0m \u001b[0;34m\u001b[0m\u001b[0m\n",
            "\u001b[0;32m/usr/local/lib/python3.8/dist-packages/ipykernel/kernelbase.py\u001b[0m in \u001b[0;36mraw_input\u001b[0;34m(self, prompt)\u001b[0m\n\u001b[1;32m    858\u001b[0m                 \u001b[0;34m\"raw_input was called, but this frontend does not support input requests.\"\u001b[0m\u001b[0;34m\u001b[0m\u001b[0;34m\u001b[0m\u001b[0m\n\u001b[1;32m    859\u001b[0m             )\n\u001b[0;32m--> 860\u001b[0;31m         return self._input_request(str(prompt),\n\u001b[0m\u001b[1;32m    861\u001b[0m             \u001b[0mself\u001b[0m\u001b[0;34m.\u001b[0m\u001b[0m_parent_ident\u001b[0m\u001b[0;34m,\u001b[0m\u001b[0;34m\u001b[0m\u001b[0;34m\u001b[0m\u001b[0m\n\u001b[1;32m    862\u001b[0m             \u001b[0mself\u001b[0m\u001b[0;34m.\u001b[0m\u001b[0m_parent_header\u001b[0m\u001b[0;34m,\u001b[0m\u001b[0;34m\u001b[0m\u001b[0;34m\u001b[0m\u001b[0m\n",
            "\u001b[0;32m/usr/local/lib/python3.8/dist-packages/ipykernel/kernelbase.py\u001b[0m in \u001b[0;36m_input_request\u001b[0;34m(self, prompt, ident, parent, password)\u001b[0m\n\u001b[1;32m    902\u001b[0m             \u001b[0;32mexcept\u001b[0m \u001b[0mKeyboardInterrupt\u001b[0m\u001b[0;34m:\u001b[0m\u001b[0;34m\u001b[0m\u001b[0;34m\u001b[0m\u001b[0m\n\u001b[1;32m    903\u001b[0m                 \u001b[0;31m# re-raise KeyboardInterrupt, to truncate traceback\u001b[0m\u001b[0;34m\u001b[0m\u001b[0;34m\u001b[0m\u001b[0;34m\u001b[0m\u001b[0m\n\u001b[0;32m--> 904\u001b[0;31m                 \u001b[0;32mraise\u001b[0m \u001b[0mKeyboardInterrupt\u001b[0m\u001b[0;34m(\u001b[0m\u001b[0;34m\"Interrupted by user\"\u001b[0m\u001b[0;34m)\u001b[0m \u001b[0;32mfrom\u001b[0m \u001b[0;32mNone\u001b[0m\u001b[0;34m\u001b[0m\u001b[0;34m\u001b[0m\u001b[0m\n\u001b[0m\u001b[1;32m    905\u001b[0m             \u001b[0;32mexcept\u001b[0m \u001b[0mException\u001b[0m \u001b[0;32mas\u001b[0m \u001b[0me\u001b[0m\u001b[0;34m:\u001b[0m\u001b[0;34m\u001b[0m\u001b[0;34m\u001b[0m\u001b[0m\n\u001b[1;32m    906\u001b[0m                 \u001b[0mself\u001b[0m\u001b[0;34m.\u001b[0m\u001b[0mlog\u001b[0m\u001b[0;34m.\u001b[0m\u001b[0mwarning\u001b[0m\u001b[0;34m(\u001b[0m\u001b[0;34m\"Invalid Message:\"\u001b[0m\u001b[0;34m,\u001b[0m \u001b[0mexc_info\u001b[0m\u001b[0;34m=\u001b[0m\u001b[0;32mTrue\u001b[0m\u001b[0;34m)\u001b[0m\u001b[0;34m\u001b[0m\u001b[0;34m\u001b[0m\u001b[0m\n",
            "\u001b[0;31mKeyboardInterrupt\u001b[0m: Interrupted by user"
          ]
        }
      ]
    },
    {
      "cell_type": "code",
      "source": [
        "# (복습필요)\n",
        "#10811 바구니 뒤집기\n",
        "\"\"\"\n",
        "hint : 1번부터 4번까지 뒤집는다고 하면 1번과 4번의 순서를 바꾸고, \n",
        "2번과 3번의 순서를 바꾸는 것과 같다.\n",
        "\"\"\"\n",
        "n, m = map(int, input().split()) # map함수를 활용하여 한 줄에 두 변수를 한꺼번에 받음\n",
        "order = [i for i in range(1, n+1)]\n",
        "\n",
        "for _ in range(m):\n",
        "    i, j = map(int, input().split())\n",
        "    r = j - i + 1\n",
        "    for _ in range(r//2): #  i부터 j까지의 개수(r)의 반만큼 반복문을 돌려\n",
        "      temp = order[i-1]\n",
        "      order[i-j] = order[j-1]\n",
        "      order[j-1] = temp\n",
        "\n",
        "for o in order:\n",
        "    print(o, end=' ')"
      ],
      "metadata": {
        "id": "y9mOZ3NBT_bI",
        "colab": {
          "base_uri": "https://localhost:8080/",
          "height": 410
        },
        "outputId": "4790a72c-8308-4399-af7e-69b80e58abbe"
      },
      "execution_count": null,
      "outputs": [
        {
          "output_type": "error",
          "ename": "KeyboardInterrupt",
          "evalue": "ignored",
          "traceback": [
            "\u001b[0;31m---------------------------------------------------------------------------\u001b[0m",
            "\u001b[0;31mKeyboardInterrupt\u001b[0m                         Traceback (most recent call last)",
            "\u001b[0;32m<ipython-input-2-f9bd3496a1af>\u001b[0m in \u001b[0;36m<module>\u001b[0;34m\u001b[0m\n\u001b[1;32m      5\u001b[0m \u001b[0;36m2\u001b[0m\u001b[0m번과\u001b[0m \u001b[0;36m3\u001b[0m\u001b[0m번의\u001b[0m \u001b[0m순서를\u001b[0m \u001b[0m바꾸는\u001b[0m \u001b[0m것과\u001b[0m \u001b[0m같다\u001b[0m\u001b[0;34m.\u001b[0m\u001b[0;34m\u001b[0m\u001b[0;34m\u001b[0m\u001b[0m\n\u001b[1;32m      6\u001b[0m \"\"\"\n\u001b[0;32m----> 7\u001b[0;31m \u001b[0mn\u001b[0m\u001b[0;34m,\u001b[0m \u001b[0mm\u001b[0m \u001b[0;34m=\u001b[0m \u001b[0mmap\u001b[0m\u001b[0;34m(\u001b[0m\u001b[0mint\u001b[0m\u001b[0;34m,\u001b[0m \u001b[0minput\u001b[0m\u001b[0;34m(\u001b[0m\u001b[0;34m)\u001b[0m\u001b[0;34m.\u001b[0m\u001b[0msplit\u001b[0m\u001b[0;34m(\u001b[0m\u001b[0;34m)\u001b[0m\u001b[0;34m)\u001b[0m \u001b[0;31m# map함수를 활용하여 한 줄에 두 변수를 한꺼번에 받음\u001b[0m\u001b[0;34m\u001b[0m\u001b[0;34m\u001b[0m\u001b[0m\n\u001b[0m\u001b[1;32m      8\u001b[0m \u001b[0morder\u001b[0m \u001b[0;34m=\u001b[0m \u001b[0;34m[\u001b[0m\u001b[0mi\u001b[0m \u001b[0;32mfor\u001b[0m \u001b[0mi\u001b[0m \u001b[0;32min\u001b[0m \u001b[0mrange\u001b[0m\u001b[0;34m(\u001b[0m\u001b[0;36m1\u001b[0m\u001b[0;34m,\u001b[0m \u001b[0mn\u001b[0m\u001b[0;34m+\u001b[0m\u001b[0;36m1\u001b[0m\u001b[0;34m)\u001b[0m\u001b[0;34m]\u001b[0m\u001b[0;34m\u001b[0m\u001b[0;34m\u001b[0m\u001b[0m\n\u001b[1;32m      9\u001b[0m \u001b[0;34m\u001b[0m\u001b[0m\n",
            "\u001b[0;32m/usr/local/lib/python3.8/dist-packages/ipykernel/kernelbase.py\u001b[0m in \u001b[0;36mraw_input\u001b[0;34m(self, prompt)\u001b[0m\n\u001b[1;32m    858\u001b[0m                 \u001b[0;34m\"raw_input was called, but this frontend does not support input requests.\"\u001b[0m\u001b[0;34m\u001b[0m\u001b[0;34m\u001b[0m\u001b[0m\n\u001b[1;32m    859\u001b[0m             )\n\u001b[0;32m--> 860\u001b[0;31m         return self._input_request(str(prompt),\n\u001b[0m\u001b[1;32m    861\u001b[0m             \u001b[0mself\u001b[0m\u001b[0;34m.\u001b[0m\u001b[0m_parent_ident\u001b[0m\u001b[0;34m,\u001b[0m\u001b[0;34m\u001b[0m\u001b[0;34m\u001b[0m\u001b[0m\n\u001b[1;32m    862\u001b[0m             \u001b[0mself\u001b[0m\u001b[0;34m.\u001b[0m\u001b[0m_parent_header\u001b[0m\u001b[0;34m,\u001b[0m\u001b[0;34m\u001b[0m\u001b[0;34m\u001b[0m\u001b[0m\n",
            "\u001b[0;32m/usr/local/lib/python3.8/dist-packages/ipykernel/kernelbase.py\u001b[0m in \u001b[0;36m_input_request\u001b[0;34m(self, prompt, ident, parent, password)\u001b[0m\n\u001b[1;32m    902\u001b[0m             \u001b[0;32mexcept\u001b[0m \u001b[0mKeyboardInterrupt\u001b[0m\u001b[0;34m:\u001b[0m\u001b[0;34m\u001b[0m\u001b[0;34m\u001b[0m\u001b[0m\n\u001b[1;32m    903\u001b[0m                 \u001b[0;31m# re-raise KeyboardInterrupt, to truncate traceback\u001b[0m\u001b[0;34m\u001b[0m\u001b[0;34m\u001b[0m\u001b[0;34m\u001b[0m\u001b[0m\n\u001b[0;32m--> 904\u001b[0;31m                 \u001b[0;32mraise\u001b[0m \u001b[0mKeyboardInterrupt\u001b[0m\u001b[0;34m(\u001b[0m\u001b[0;34m\"Interrupted by user\"\u001b[0m\u001b[0;34m)\u001b[0m \u001b[0;32mfrom\u001b[0m \u001b[0;32mNone\u001b[0m\u001b[0;34m\u001b[0m\u001b[0;34m\u001b[0m\u001b[0m\n\u001b[0m\u001b[1;32m    905\u001b[0m             \u001b[0;32mexcept\u001b[0m \u001b[0mException\u001b[0m \u001b[0;32mas\u001b[0m \u001b[0me\u001b[0m\u001b[0;34m:\u001b[0m\u001b[0;34m\u001b[0m\u001b[0;34m\u001b[0m\u001b[0m\n\u001b[1;32m    906\u001b[0m                 \u001b[0mself\u001b[0m\u001b[0;34m.\u001b[0m\u001b[0mlog\u001b[0m\u001b[0;34m.\u001b[0m\u001b[0mwarning\u001b[0m\u001b[0;34m(\u001b[0m\u001b[0;34m\"Invalid Message:\"\u001b[0m\u001b[0;34m,\u001b[0m \u001b[0mexc_info\u001b[0m\u001b[0;34m=\u001b[0m\u001b[0;32mTrue\u001b[0m\u001b[0;34m)\u001b[0m\u001b[0;34m\u001b[0m\u001b[0;34m\u001b[0m\u001b[0m\n",
            "\u001b[0;31mKeyboardInterrupt\u001b[0m: Interrupted by user"
          ]
        }
      ]
    },
    {
      "cell_type": "code",
      "source": [
        "#1546 평균\n",
        "\n",
        "# 시험 본 과목의 개수 N\n",
        "N = int(input())\n",
        "\n",
        "# 세준이의 현재 성적\n",
        "scores = list(map(int, input().split()))\n",
        "M = max(scores)\n",
        "\n",
        "new_scores = []\n",
        "for i in scores:\n",
        "  new_scores.append(i / M * 100)\n",
        "new_avg = sum(new_scores) / N\n",
        "\n",
        "# 새로운 평균을 출력\n",
        "print(new_avg)"
      ],
      "metadata": {
        "colab": {
          "base_uri": "https://localhost:8080/"
        },
        "id": "xYIxebxwRZjR",
        "outputId": "3927b6d4-4d9c-4064-956d-bda8c90182c5"
      },
      "execution_count": null,
      "outputs": [
        {
          "output_type": "stream",
          "name": "stdout",
          "text": [
            "3\n",
            "40 80 60\n",
            "75.0\n"
          ]
        }
      ]
    },
    {
      "cell_type": "markdown",
      "source": [
        "# 5. 문자열"
      ],
      "metadata": {
        "id": "Kmk28X9NVZjo"
      }
    },
    {
      "cell_type": "code",
      "source": [
        "# 11654 아스키 코드\n",
        "\n",
        "# ord() : 문자의 아스키 코드값을 리턴하는 함수\n",
        "# chr() : 아스키 코드값 입력으로 받아 그 코드에 해당하는 문자를 출력하는 함수\n",
        "\n",
        "\n",
        "a = input()\n",
        "print(ord(a))\n",
        "\n",
        "\n",
        "# # 다른방법\n",
        "# print(ord(input()))"
      ],
      "metadata": {
        "colab": {
          "base_uri": "https://localhost:8080/"
        },
        "id": "cpnzlhusVbQP",
        "outputId": "1431b1b9-18d1-4c73-96e2-a3c79df787e8"
      },
      "execution_count": null,
      "outputs": [
        {
          "output_type": "stream",
          "name": "stdout",
          "text": [
            "A\n",
            "65\n"
          ]
        }
      ]
    },
    {
      "cell_type": "code",
      "source": [
        "#2743 단어 길이 재기\n",
        "\n",
        "print(len(input()))"
      ],
      "metadata": {
        "colab": {
          "base_uri": "https://localhost:8080/"
        },
        "id": "CDvaPOV-WBHX",
        "outputId": "79c22ae5-b60d-4946-8b25-834066711605"
      },
      "execution_count": null,
      "outputs": [
        {
          "output_type": "stream",
          "name": "stdout",
          "text": [
            "pulljima\n",
            "8\n"
          ]
        }
      ]
    },
    {
      "cell_type": "code",
      "source": [
        "# 9086 문자열\n",
        "\n",
        "for _ in range(int(input())):\n",
        "  string = input()\n",
        "  print(string[0], string[-1], sep='')"
      ],
      "metadata": {
        "colab": {
          "base_uri": "https://localhost:8080/"
        },
        "id": "THhgQpu3WSeJ",
        "outputId": "3b0859b6-7672-49c1-9152-a5d1eca3b6e1"
      },
      "execution_count": null,
      "outputs": [
        {
          "output_type": "stream",
          "name": "stdout",
          "text": [
            "3\n",
            "ASDFSDFSE\n",
            "AE\n",
            "O\n",
            "OO\n",
            "AB\n",
            "AB\n"
          ]
        }
      ]
    },
    {
      "cell_type": "code",
      "source": [
        "# 11720 숫자의 합\n",
        "\n",
        "# 1) sum 함수 이용\n",
        "n = input()\n",
        "print(sum(map(int,input())))"
      ],
      "metadata": {
        "colab": {
          "base_uri": "https://localhost:8080/"
        },
        "id": "TN4KgrOdXSpB",
        "outputId": "f2bec280-f8b8-4afd-9917-e1aebadd8d9e"
      },
      "execution_count": null,
      "outputs": [
        {
          "output_type": "stream",
          "name": "stdout",
          "text": [
            "1\n",
            "1\n",
            "1\n"
          ]
        }
      ]
    },
    {
      "cell_type": "code",
      "source": [
        "# 2) for문 이용\n",
        "\n",
        "n = input()\n",
        "num = input()\n",
        "total = 0\n",
        "\n",
        "for i in num:\n",
        "   total += int(i)\n",
        "print(total)"
      ],
      "metadata": {
        "colab": {
          "base_uri": "https://localhost:8080/"
        },
        "id": "IyZEq8UzYWzz",
        "outputId": "52b544c0-5da3-439e-fd81-a20a2bfbb4d5"
      },
      "execution_count": null,
      "outputs": [
        {
          "output_type": "stream",
          "name": "stdout",
          "text": [
            "1\n",
            "1\n",
            "1\n"
          ]
        }
      ]
    },
    {
      "cell_type": "code",
      "source": [
        "# 10809 알파벳찾기\n",
        "\n",
        "# 1) for문 사용\n",
        "S = list(input())\n",
        "c = 'abcdefghijklmnopqrstuvwxyz'\n",
        "\n",
        "for i in c:\n",
        "    if i in S:\n",
        "        print(S.index(i), end =' ')\n",
        "    else:\n",
        "        print(-1, end=' ')"
      ],
      "metadata": {
        "id": "kI-ZlkiiZDCS",
        "colab": {
          "base_uri": "https://localhost:8080/"
        },
        "outputId": "8d87441b-a7f6-4f17-f78a-2ec5cc767434"
      },
      "execution_count": null,
      "outputs": [
        {
          "output_type": "stream",
          "name": "stdout",
          "text": [
            "beakjoon\n",
            "2 0 -1 -1 1 -1 -1 -1 -1 4 3 -1 -1 7 5 -1 -1 -1 -1 -1 -1 -1 -1 -1 -1 -1 "
          ]
        }
      ]
    },
    {
      "cell_type": "code",
      "source": [
        "# 10809 알파벳찾기\n",
        "\n",
        "# 2) find() 이용\n",
        "\"\"\"find 함수는 어떤 찾는 문자가 문자열 안에서 \n",
        "첫 번째에 위치한 순서를 숫자로 출력한다\n",
        "\"\"\"\n",
        "\n",
        "S = input()\n",
        "\n",
        "for x in 'abcdefghijklmnopqrstuvwxyz':\n",
        "    print(S.find(x), end = ' ')"
      ],
      "metadata": {
        "colab": {
          "base_uri": "https://localhost:8080/"
        },
        "id": "3HjF7-02YhDg",
        "outputId": "28348e36-777a-44ec-bdc6-444c6f7363c7"
      },
      "execution_count": null,
      "outputs": [
        {
          "output_type": "stream",
          "name": "stdout",
          "text": [
            "beakjoon\n",
            "2 0 -1 -1 1 -1 -1 -1 -1 4 3 -1 -1 7 5 -1 -1 -1 -1 -1 -1 -1 -1 -1 -1 -1 "
          ]
        }
      ]
    },
    {
      "cell_type": "code",
      "source": [
        "# 2675 문자열반복\n",
        "\n",
        "T = int(input()) # 테스트 케이스 개수 T 입력받기\n",
        "\n",
        "for i in range(T):        # T만큼 for문을 돌려준다\n",
        "  R, S = input().split()  # R, S를 입력받는다\n",
        "  text = ''\n",
        "  for i in S:\n",
        "    text += int(R) * i    # R(반복 횟수)와 문자열을 곱해주고 출력\n",
        "  print(text)"
      ],
      "metadata": {
        "colab": {
          "base_uri": "https://localhost:8080/",
          "height": 410
        },
        "id": "ya2UnG2zY43V",
        "outputId": "5bedf7be-a417-4066-e326-766eed38f116"
      },
      "execution_count": null,
      "outputs": [
        {
          "output_type": "error",
          "ename": "KeyboardInterrupt",
          "evalue": "ignored",
          "traceback": [
            "\u001b[0;31m---------------------------------------------------------------------------\u001b[0m",
            "\u001b[0;31mKeyboardInterrupt\u001b[0m                         Traceback (most recent call last)",
            "\u001b[0;32m<ipython-input-9-a4bdb1e892c7>\u001b[0m in \u001b[0;36m<module>\u001b[0;34m\u001b[0m\n\u001b[1;32m      1\u001b[0m \u001b[0;31m# 2675 문자열반복\u001b[0m\u001b[0;34m\u001b[0m\u001b[0;34m\u001b[0m\u001b[0;34m\u001b[0m\u001b[0m\n\u001b[1;32m      2\u001b[0m \u001b[0;34m\u001b[0m\u001b[0m\n\u001b[0;32m----> 3\u001b[0;31m \u001b[0mT\u001b[0m \u001b[0;34m=\u001b[0m \u001b[0mint\u001b[0m\u001b[0;34m(\u001b[0m\u001b[0minput\u001b[0m\u001b[0;34m(\u001b[0m\u001b[0;34m)\u001b[0m\u001b[0;34m)\u001b[0m \u001b[0;31m# 테스트 케이스 개수 T 입력받기\u001b[0m\u001b[0;34m\u001b[0m\u001b[0;34m\u001b[0m\u001b[0m\n\u001b[0m\u001b[1;32m      4\u001b[0m \u001b[0;34m\u001b[0m\u001b[0m\n\u001b[1;32m      5\u001b[0m \u001b[0;32mfor\u001b[0m \u001b[0mi\u001b[0m \u001b[0;32min\u001b[0m \u001b[0mrange\u001b[0m\u001b[0;34m(\u001b[0m\u001b[0mT\u001b[0m\u001b[0;34m)\u001b[0m\u001b[0;34m:\u001b[0m        \u001b[0;31m# T만큼 for문을 돌려준다\u001b[0m\u001b[0;34m\u001b[0m\u001b[0;34m\u001b[0m\u001b[0m\n",
            "\u001b[0;32m/usr/local/lib/python3.8/dist-packages/ipykernel/kernelbase.py\u001b[0m in \u001b[0;36mraw_input\u001b[0;34m(self, prompt)\u001b[0m\n\u001b[1;32m    858\u001b[0m                 \u001b[0;34m\"raw_input was called, but this frontend does not support input requests.\"\u001b[0m\u001b[0;34m\u001b[0m\u001b[0;34m\u001b[0m\u001b[0m\n\u001b[1;32m    859\u001b[0m             )\n\u001b[0;32m--> 860\u001b[0;31m         return self._input_request(str(prompt),\n\u001b[0m\u001b[1;32m    861\u001b[0m             \u001b[0mself\u001b[0m\u001b[0;34m.\u001b[0m\u001b[0m_parent_ident\u001b[0m\u001b[0;34m,\u001b[0m\u001b[0;34m\u001b[0m\u001b[0;34m\u001b[0m\u001b[0m\n\u001b[1;32m    862\u001b[0m             \u001b[0mself\u001b[0m\u001b[0;34m.\u001b[0m\u001b[0m_parent_header\u001b[0m\u001b[0;34m,\u001b[0m\u001b[0;34m\u001b[0m\u001b[0;34m\u001b[0m\u001b[0m\n",
            "\u001b[0;32m/usr/local/lib/python3.8/dist-packages/ipykernel/kernelbase.py\u001b[0m in \u001b[0;36m_input_request\u001b[0;34m(self, prompt, ident, parent, password)\u001b[0m\n\u001b[1;32m    902\u001b[0m             \u001b[0;32mexcept\u001b[0m \u001b[0mKeyboardInterrupt\u001b[0m\u001b[0;34m:\u001b[0m\u001b[0;34m\u001b[0m\u001b[0;34m\u001b[0m\u001b[0m\n\u001b[1;32m    903\u001b[0m                 \u001b[0;31m# re-raise KeyboardInterrupt, to truncate traceback\u001b[0m\u001b[0;34m\u001b[0m\u001b[0;34m\u001b[0m\u001b[0;34m\u001b[0m\u001b[0m\n\u001b[0;32m--> 904\u001b[0;31m                 \u001b[0;32mraise\u001b[0m \u001b[0mKeyboardInterrupt\u001b[0m\u001b[0;34m(\u001b[0m\u001b[0;34m\"Interrupted by user\"\u001b[0m\u001b[0;34m)\u001b[0m \u001b[0;32mfrom\u001b[0m \u001b[0;32mNone\u001b[0m\u001b[0;34m\u001b[0m\u001b[0;34m\u001b[0m\u001b[0m\n\u001b[0m\u001b[1;32m    905\u001b[0m             \u001b[0;32mexcept\u001b[0m \u001b[0mException\u001b[0m \u001b[0;32mas\u001b[0m \u001b[0me\u001b[0m\u001b[0;34m:\u001b[0m\u001b[0;34m\u001b[0m\u001b[0;34m\u001b[0m\u001b[0m\n\u001b[1;32m    906\u001b[0m                 \u001b[0mself\u001b[0m\u001b[0;34m.\u001b[0m\u001b[0mlog\u001b[0m\u001b[0;34m.\u001b[0m\u001b[0mwarning\u001b[0m\u001b[0;34m(\u001b[0m\u001b[0;34m\"Invalid Message:\"\u001b[0m\u001b[0;34m,\u001b[0m \u001b[0mexc_info\u001b[0m\u001b[0;34m=\u001b[0m\u001b[0;32mTrue\u001b[0m\u001b[0;34m)\u001b[0m\u001b[0;34m\u001b[0m\u001b[0;34m\u001b[0m\u001b[0m\n",
            "\u001b[0;31mKeyboardInterrupt\u001b[0m: Interrupted by user"
          ]
        }
      ]
    },
    {
      "cell_type": "code",
      "source": [
        "#1157 단어공부\n",
        "\n",
        "word = input().upper()      # upper 메소드로 전체 문자를 대문자로 변환\n",
        "word_list = list(set(word)) # 비교를 위해 set함수를 사용하여 중복 문자열 제거\n",
        "\n",
        "cnt = []\n",
        "for i in word_list:         # for문으로 알파벳이 사용된 횟수를 리스트에 저장\n",
        "  count = word.count\n",
        "  cnt.append(count(i))\n",
        "\n",
        "# 출력문을 작성하고, 알파벳이 사용된 갯수 중 1보다 크면 물음표를 출력\n",
        "if cnt.count(max(cnt)) > 1: \n",
        "  print(\"?\")\n",
        "else:\n",
        "  print(word_list[(cnt.index(max(cnt)))])"
      ],
      "metadata": {
        "colab": {
          "base_uri": "https://localhost:8080/"
        },
        "id": "A4Uc3pJ7ccDa",
        "outputId": "8d1b0312-1663-4814-a61e-6c37e48923d6"
      },
      "execution_count": null,
      "outputs": [
        {
          "output_type": "stream",
          "name": "stdout",
          "text": [
            "Mississipi\n",
            "?\n"
          ]
        }
      ]
    },
    {
      "cell_type": "code",
      "source": [
        "#1152 단어의 개수\n",
        "\n",
        "sentence = input().split()\n",
        "print(len(sentence))"
      ],
      "metadata": {
        "colab": {
          "base_uri": "https://localhost:8080/"
        },
        "id": "xP7H4zchfI-2",
        "outputId": "926225dc-2a39-4050-ea2f-63bb981e6fef"
      },
      "execution_count": null,
      "outputs": [
        {
          "output_type": "stream",
          "name": "stdout",
          "text": [
            "The first character is a blank\n",
            "6\n"
          ]
        }
      ]
    },
    {
      "cell_type": "code",
      "source": [
        "#2908 상수\n",
        "\n",
        "# 1) if - else 사용\n",
        "num1, num2 = input().split()\n",
        "num1 = int(num1[::-1]) # [::-1] : 역순\n",
        "num2 = int(num2[::-1]) # [::-1] : 역순\n",
        "\n",
        "if num1 > num2:\n",
        "  print(num1)\n",
        "else:\n",
        "  print(num2)"
      ],
      "metadata": {
        "colab": {
          "base_uri": "https://localhost:8080/"
        },
        "id": "jM76TFXLfisO",
        "outputId": "388c9c14-ea14-4043-c65e-99b6e3fc173b"
      },
      "execution_count": null,
      "outputs": [
        {
          "output_type": "stream",
          "name": "stdout",
          "text": [
            "734 893\n",
            "437\n"
          ]
        }
      ]
    },
    {
      "cell_type": "code",
      "source": [
        "#2908 상수\n",
        "\n",
        "# 2) 삼항 연산자 표현식 코드\n",
        "\n",
        "num1, num2 = input().split()\n",
        "num1 = int(num1[::-1])\n",
        "num2 = int(num2[::-1])\n",
        "\n",
        "print(num1) if num1 > num2 else print(num2)"
      ],
      "metadata": {
        "colab": {
          "base_uri": "https://localhost:8080/"
        },
        "id": "7r0HMj1chIby",
        "outputId": "ba664a5a-5b4b-41be-ded5-a40253d13994"
      },
      "execution_count": null,
      "outputs": [
        {
          "output_type": "stream",
          "name": "stdout",
          "text": [
            "734 893\n",
            "437\n"
          ]
        }
      ]
    },
    {
      "cell_type": "code",
      "source": [
        "#5622 다이얼\n",
        "\n",
        "dial = ['ABC',\n",
        "        'DEF',\n",
        "        'GHI',\n",
        "        'JKL',\n",
        "        'MNO',\n",
        "        'PQRS',\n",
        "        'TUV',\n",
        "        'WXYZ']\n",
        "\n",
        "word = input()\n",
        "\n",
        "time = 0\n",
        "for unit in dial:\n",
        "  for i in unit:   # dial에서 각 요소를 꺼내서 한 글자씩 분리\n",
        "    for x in word: # 입력받은 문자를 하나씩 분리\n",
        "      if i == x:     # 두 알파벳이 같으면\n",
        "        time += dial.index(unit) + 3  # time = time + index + 3\n",
        "print(time)"
      ],
      "metadata": {
        "colab": {
          "base_uri": "https://localhost:8080/"
        },
        "id": "76uPHDpuhafY",
        "outputId": "15132884-ec08-4499-8e25-69ef373e9790"
      },
      "execution_count": null,
      "outputs": [
        {
          "output_type": "stream",
          "name": "stdout",
          "text": [
            "UNUCIC\n",
            "36\n"
          ]
        }
      ]
    },
    {
      "cell_type": "code",
      "source": [
        "#11718 그대로 출력하기\n",
        "\n",
        "while True:\n",
        "  try:\n",
        "    print(input())   # 입력값이 계속 들어오면 그대로 프린트해주고\n",
        "  except EOFError:    # 입력값이 안들어온다면 = 즉 EOF(End Of File)상태라면 break를 건다\n",
        "    break"
      ],
      "metadata": {
        "colab": {
          "base_uri": "https://localhost:8080/",
          "height": 561
        },
        "id": "Ii74BEvOjLxo",
        "outputId": "919c0dd6-ddda-49e2-db7e-a52ac14e9d6c"
      },
      "execution_count": null,
      "outputs": [
        {
          "output_type": "stream",
          "name": "stdout",
          "text": [
            "1\n",
            "1\n",
            "2\n",
            "2\n",
            "\n",
            "\n",
            "\n",
            "\n"
          ]
        },
        {
          "output_type": "error",
          "ename": "KeyboardInterrupt",
          "evalue": "ignored",
          "traceback": [
            "\u001b[0;31m---------------------------------------------------------------------------\u001b[0m",
            "\u001b[0;31mKeyboardInterrupt\u001b[0m                         Traceback (most recent call last)",
            "\u001b[0;32m<ipython-input-26-d5d35cb00382>\u001b[0m in \u001b[0;36m<module>\u001b[0;34m\u001b[0m\n\u001b[1;32m      3\u001b[0m \u001b[0;32mwhile\u001b[0m \u001b[0;32mTrue\u001b[0m\u001b[0;34m:\u001b[0m\u001b[0;34m\u001b[0m\u001b[0;34m\u001b[0m\u001b[0m\n\u001b[1;32m      4\u001b[0m   \u001b[0;32mtry\u001b[0m\u001b[0;34m:\u001b[0m\u001b[0;34m\u001b[0m\u001b[0;34m\u001b[0m\u001b[0m\n\u001b[0;32m----> 5\u001b[0;31m     \u001b[0mprint\u001b[0m\u001b[0;34m(\u001b[0m\u001b[0minput\u001b[0m\u001b[0;34m(\u001b[0m\u001b[0;34m)\u001b[0m\u001b[0;34m)\u001b[0m   \u001b[0;31m# 입력값이 계속 들어오면 그대로 프린트해주고\u001b[0m\u001b[0;34m\u001b[0m\u001b[0;34m\u001b[0m\u001b[0m\n\u001b[0m\u001b[1;32m      6\u001b[0m   \u001b[0;32mexcept\u001b[0m \u001b[0mEOFError\u001b[0m\u001b[0;34m:\u001b[0m    \u001b[0;31m# 입력값이 안들어온다면 = 즉 EOF(End Of File)상태라면 break를 건다\u001b[0m\u001b[0;34m\u001b[0m\u001b[0;34m\u001b[0m\u001b[0m\n\u001b[1;32m      7\u001b[0m     \u001b[0;32mbreak\u001b[0m\u001b[0;34m\u001b[0m\u001b[0;34m\u001b[0m\u001b[0m\n",
            "\u001b[0;32m/usr/local/lib/python3.8/dist-packages/ipykernel/kernelbase.py\u001b[0m in \u001b[0;36mraw_input\u001b[0;34m(self, prompt)\u001b[0m\n\u001b[1;32m    858\u001b[0m                 \u001b[0;34m\"raw_input was called, but this frontend does not support input requests.\"\u001b[0m\u001b[0;34m\u001b[0m\u001b[0;34m\u001b[0m\u001b[0m\n\u001b[1;32m    859\u001b[0m             )\n\u001b[0;32m--> 860\u001b[0;31m         return self._input_request(str(prompt),\n\u001b[0m\u001b[1;32m    861\u001b[0m             \u001b[0mself\u001b[0m\u001b[0;34m.\u001b[0m\u001b[0m_parent_ident\u001b[0m\u001b[0;34m,\u001b[0m\u001b[0;34m\u001b[0m\u001b[0;34m\u001b[0m\u001b[0m\n\u001b[1;32m    862\u001b[0m             \u001b[0mself\u001b[0m\u001b[0;34m.\u001b[0m\u001b[0m_parent_header\u001b[0m\u001b[0;34m,\u001b[0m\u001b[0;34m\u001b[0m\u001b[0;34m\u001b[0m\u001b[0m\n",
            "\u001b[0;32m/usr/local/lib/python3.8/dist-packages/ipykernel/kernelbase.py\u001b[0m in \u001b[0;36m_input_request\u001b[0;34m(self, prompt, ident, parent, password)\u001b[0m\n\u001b[1;32m    902\u001b[0m             \u001b[0;32mexcept\u001b[0m \u001b[0mKeyboardInterrupt\u001b[0m\u001b[0;34m:\u001b[0m\u001b[0;34m\u001b[0m\u001b[0;34m\u001b[0m\u001b[0m\n\u001b[1;32m    903\u001b[0m                 \u001b[0;31m# re-raise KeyboardInterrupt, to truncate traceback\u001b[0m\u001b[0;34m\u001b[0m\u001b[0;34m\u001b[0m\u001b[0;34m\u001b[0m\u001b[0m\n\u001b[0;32m--> 904\u001b[0;31m                 \u001b[0;32mraise\u001b[0m \u001b[0mKeyboardInterrupt\u001b[0m\u001b[0;34m(\u001b[0m\u001b[0;34m\"Interrupted by user\"\u001b[0m\u001b[0;34m)\u001b[0m \u001b[0;32mfrom\u001b[0m \u001b[0;32mNone\u001b[0m\u001b[0;34m\u001b[0m\u001b[0;34m\u001b[0m\u001b[0m\n\u001b[0m\u001b[1;32m    905\u001b[0m             \u001b[0;32mexcept\u001b[0m \u001b[0mException\u001b[0m \u001b[0;32mas\u001b[0m \u001b[0me\u001b[0m\u001b[0;34m:\u001b[0m\u001b[0;34m\u001b[0m\u001b[0;34m\u001b[0m\u001b[0m\n\u001b[1;32m    906\u001b[0m                 \u001b[0mself\u001b[0m\u001b[0;34m.\u001b[0m\u001b[0mlog\u001b[0m\u001b[0;34m.\u001b[0m\u001b[0mwarning\u001b[0m\u001b[0;34m(\u001b[0m\u001b[0;34m\"Invalid Message:\"\u001b[0m\u001b[0;34m,\u001b[0m \u001b[0mexc_info\u001b[0m\u001b[0;34m=\u001b[0m\u001b[0;32mTrue\u001b[0m\u001b[0;34m)\u001b[0m\u001b[0;34m\u001b[0m\u001b[0;34m\u001b[0m\u001b[0m\n",
            "\u001b[0;31mKeyboardInterrupt\u001b[0m: Interrupted by user"
          ]
        }
      ]
    },
    {
      "cell_type": "markdown",
      "source": [
        "# 6. 심화 1"
      ],
      "metadata": {
        "id": "ByRg1PYWkoim"
      }
    },
    {
      "cell_type": "code",
      "source": [
        "# 25083 새싹\n",
        "\n",
        "print(\"         ,r'\\\"7\")\n",
        "print(\"r`-_   ,'  ,/\")\n",
        "print(\" \\\\. \\\". L_r'\")\n",
        "print(\"   `~\\\\/\")\n",
        "print(\"      |\")\n",
        "print(\"      |\")"
      ],
      "metadata": {
        "id": "fx1R42N0kmhk",
        "colab": {
          "base_uri": "https://localhost:8080/"
        },
        "outputId": "ef09b186-cf26-40ec-8af7-eab65872b415"
      },
      "execution_count": 8,
      "outputs": [
        {
          "output_type": "stream",
          "name": "stdout",
          "text": [
            "         ,r'\"7\n",
            "r`-_   ,'  ,/\n",
            " \\. \". L_r'\n",
            "   `~\\/\n",
            "      |\n",
            "      |\n"
          ]
        }
      ]
    },
    {
      "cell_type": "code",
      "source": [
        "# 3003 킹, 퀸, 룩, 비숍, 나이트, 폰\n",
        "\n",
        "# [1, 1, 2, 2, 2, 8] 이라는 원본 체스의 배열과 입력받은 배열의 차를 출력하면 된다.\n",
        "chess = [1, 1, 2, 2, 2, 8]  # 정해진 말의 수\n",
        " \n",
        "a = list(map(int, input().split()))\n",
        " \n",
        "for i in range(6):\n",
        "    print(chess[i] - a[i], end=' ')"
      ],
      "metadata": {
        "colab": {
          "base_uri": "https://localhost:8080/"
        },
        "id": "ykt6jicqFsU4",
        "outputId": "b7660e55-ea2c-4180-e11d-e9bb2a337fb5"
      },
      "execution_count": 9,
      "outputs": [
        {
          "output_type": "stream",
          "name": "stdout",
          "text": [
            "0 1 2 2 2 7\n",
            "1 0 0 0 0 1 "
          ]
        }
      ]
    },
    {
      "cell_type": "code",
      "source": [
        "# 2444 별찍기 7\n",
        "# 예제 출력을 드래그해서 뒤에 공백이 없다는 것을 확인\n",
        "\n",
        "# 첫째 줄부터 2×N-1번째 줄까지 차례대로 별을 출력한다.\n",
        "n = int(input())\n",
        "for i in range(1, n+1):\n",
        "    print(' '*(n-i)+'*'*(2*i-1))\n",
        "for i in range(n-1, 0, -1):\n",
        "    print(' '*(n-i)+'*'*(2*i-1))"
      ],
      "metadata": {
        "colab": {
          "base_uri": "https://localhost:8080/"
        },
        "id": "YCBbRwusG1_W",
        "outputId": "de01452d-2e84-4647-f6b8-3403ce39dda9"
      },
      "execution_count": 13,
      "outputs": [
        {
          "output_type": "stream",
          "name": "stdout",
          "text": [
            "    *\n",
            "   ***\n",
            "  *****\n",
            " *******\n",
            "*********\n",
            " *******\n",
            "  *****\n",
            "   ***\n",
            "    *\n"
          ]
        }
      ]
    },
    {
      "cell_type": "code",
      "source": [
        "# 10812 바구니 순서 바꾸기\n",
        "\n",
        "\n",
        "\n",
        "ㅁㅣ쳐따\n",
        "\n"
      ],
      "metadata": {
        "id": "-lbNcoz-L54G"
      },
      "execution_count": null,
      "outputs": []
    },
    {
      "cell_type": "code",
      "source": [
        "# 10988 팰린드롬인지 확인하기\n",
        "# 팰린드롬 : 앞으로 읽을 때와 거꾸로 읽을 때 똑같은 단어\n",
        "# 예 : level, noon\n",
        "\n",
        "word = list(str(input()))\n",
        "if list(reversed(word)) == word:\n",
        "    print(1)\n",
        "else:\n",
        "    print(0)"
      ],
      "metadata": {
        "colab": {
          "base_uri": "https://localhost:8080/"
        },
        "id": "rErIeK0CMCTK",
        "outputId": "6704d67f-95ca-414d-8757-117f839bc879"
      },
      "execution_count": 14,
      "outputs": [
        {
          "output_type": "stream",
          "name": "stdout",
          "text": [
            "level\n",
            "1\n"
          ]
        }
      ]
    },
    {
      "cell_type": "code",
      "source": [
        "# 4344 평균은 넘겠지 (어려움)\n",
        "\n",
        "C = int(input()) # 테스트 케이스 개수 입력받기\n",
        "\n",
        "for i in range(C):\n",
        "    A = list(map(int,input().split()))\n",
        "    count = 0\n",
        "    avg = sum(A[1:])/A[0]\n",
        "    \n",
        "    for j in range(1,len(A)):\n",
        "        if (A[j] > avg):\n",
        "            count +=1\n",
        "    prob = format((count/A[0])*100,\".3f\")\n",
        "    print(str(prob)+\"%\")"
      ],
      "metadata": {
        "id": "kib1LbJuNXsv"
      },
      "execution_count": null,
      "outputs": []
    },
    {
      "cell_type": "code",
      "source": [
        "# 2941 크로아티아 알파벳\n",
        "\n"
      ],
      "metadata": {
        "id": "wFMOFw8xPRlI"
      },
      "execution_count": null,
      "outputs": []
    },
    {
      "cell_type": "code",
      "source": [
        "# 1316 그룹 단어 체커\n"
      ],
      "metadata": {
        "id": "i8YjNMu8PavP"
      },
      "execution_count": 17,
      "outputs": []
    },
    {
      "cell_type": "code",
      "source": [
        "# 25206 너의 평점은\n",
        "# 전공평점 = 전공과목별(학점*과목평점) / 총합"
      ],
      "metadata": {
        "id": "UyqmXdUuPcY-"
      },
      "execution_count": null,
      "outputs": []
    }
  ]
}
