{
 "cells": [
  {
   "cell_type": "markdown",
   "id": "2737323e",
   "metadata": {},
   "source": [
    "# MODULE"
   ]
  },
  {
   "cell_type": "code",
   "execution_count": 14,
   "id": "5bbcc8c7",
   "metadata": {},
   "outputs": [
    {
     "name": "stdout",
     "output_type": "stream",
     "text": [
      "Nice to meet yousoyeon\n",
      "Hong Gil dong\n"
     ]
    }
   ],
   "source": [
    "import mymodule1\n",
    "\n",
    "mymodule1.hello(\"soyeon\")\n",
    "print(mymodule1.myname)"
   ]
  },
  {
   "cell_type": "code",
   "execution_count": 13,
   "id": "3a26594d",
   "metadata": {},
   "outputs": [
    {
     "name": "stdout",
     "output_type": "stream",
     "text": [
      "Hong\n",
      "33\n",
      "95\n"
     ]
    }
   ],
   "source": [
    "import mymodule1\n",
    "\n",
    "print(mymodule1.student[\"name\"])\n",
    "print(mymodule1.student[\"age\"])\n",
    "print(mymodule1.student[\"grade\"])"
   ]
  },
  {
   "cell_type": "code",
   "execution_count": 9,
   "id": "058b3503",
   "metadata": {},
   "outputs": [
    {
     "name": "stdout",
     "output_type": "stream",
     "text": [
      "Nice to meet youKim\n",
      "Hong\n",
      "33\n",
      "95\n"
     ]
    }
   ],
   "source": [
    "# Re-naming a Module (가명 만들기)\n",
    "\n",
    "import mymodule1 as mx\n",
    "\n",
    "mx.hello(\"Kim\")\n",
    "print(mx.student[\"name\"])\n",
    "print(mx.student[\"age\"])\n",
    "print(mx.student[\"grade\"])"
   ]
  },
  {
   "cell_type": "code",
   "execution_count": 10,
   "id": "3e39baeb",
   "metadata": {},
   "outputs": [
    {
     "name": "stdout",
     "output_type": "stream",
     "text": [
      "Hong\n",
      "33\n",
      "95\n"
     ]
    }
   ],
   "source": [
    "# 메모리 절약\n",
    "from mymodule1 import student\n",
    "\n",
    "\n",
    "print(mx.student[\"name\"])\n",
    "print(mx.student[\"age\"])\n",
    "print(mx.student[\"grade\"])"
   ]
  },
  {
   "cell_type": "code",
   "execution_count": 11,
   "id": "d11b840b",
   "metadata": {},
   "outputs": [
    {
     "name": "stdout",
     "output_type": "stream",
     "text": [
      "Nice to meet youKim\n"
     ]
    }
   ],
   "source": [
    "from mymodule1 import hello\n",
    "\n",
    "hello(\"Kim\")"
   ]
  },
  {
   "cell_type": "code",
   "execution_count": 16,
   "id": "bdeae55d",
   "metadata": {},
   "outputs": [
    {
     "name": "stdout",
     "output_type": "stream",
     "text": [
      "Hong\n",
      "33\n",
      "95\n"
     ]
    }
   ],
   "source": [
    "# * : mymodule1에 있는 모든 변수, 함수를 사용하겠다는 의미\n",
    "# 바로 변수명, 함수명 사용 가능\n",
    "\n",
    "from mymodule1 import *\n",
    "\n",
    "print(student[\"name\"])\n",
    "print(student[\"age\"])\n",
    "print(student[\"grade\"])"
   ]
  },
  {
   "cell_type": "code",
   "execution_count": 18,
   "id": "7a8dfbf1",
   "metadata": {},
   "outputs": [
    {
     "name": "stdout",
     "output_type": "stream",
     "text": [
      "\n",
      "Please wait a moment while I gather a list of all available modules...\n",
      "\n",
      "Cython              concurrent          multipledispatch    soupsieve\n",
      "IPython             conda               multiprocessing     sphinx\n",
      "OpenSSL             conda_build         munkres             sphinxcontrib\n",
      "PIL                 conda_content_trust mymodule1           sphinxify\n",
      "PyQt5               conda_env           mypy_extensions     sphinxthread\n",
      "TBB                 conda_pack          nacl                spyder\n",
      "__future__          conda_package_handling navigator_updater   spyder_kernels\n",
      "_abc                conda_token         nbclassic           sqlalchemy\n",
      "_aix_support        conda_verify        nbclient            sqlite3\n",
      "_ast                conf                nbconvert           sre_compile\n",
      "_asyncio            configparser        nbformat            sre_constants\n",
      "_bisect             contextlib          nest_asyncio        sre_parse\n",
      "_black_version      contextlib2         netbios             ssl\n",
      "_blake2             contextvars         netrc               sspi\n",
      "_bootlocale         cookiecutter        networkx            sspicon\n",
      "_bootsubprocess     copy                nltk                stat\n",
      "_bz2                copyreg             nntplib             statistics\n",
      "_cffi_backend       crypt               nose                statsmodels\n",
      "_codecs             cryptography        notebook            storemagic\n",
      "_codecs_cn          csv                 nt                  string\n",
      "_codecs_hk          ctypes              ntpath              stringprep\n",
      "_codecs_iso2022     curl                ntsecuritycon       struct\n",
      "_codecs_jp          curses              nturl2path          subprocess\n",
      "_codecs_kr          cv2                 numba               sunau\n",
      "_codecs_tw          cwp                 numbers             symbol\n",
      "_collections        cycler              numexpr             sympy\n",
      "_collections_abc    cython              numpy               sympyprinting\n",
      "_compat_pickle      cythonmagic         numpydoc            symtable\n",
      "_compression        cytoolz             oauthlib            sys\n",
      "_contextvars        daal4py             odbc                sysconfig\n",
      "_csv                dask                olefile             tables\n",
      "_ctypes             dataclasses         onedal              tabnanny\n",
      "_ctypes_test        datetime            opcode              tarfile\n",
      "_daal4py            dateutil            openpyxl            tbb\n",
      "_datetime           dbi                 operator            tblib\n",
      "_decimal            dbm                 opt_einsum          telnetlib\n",
      "_distutils_hack     dde                 optparse            tempfile\n",
      "_elementtree        debugpy             os                  tensorboard\n",
      "_functools          decimal             packaging           tensorboard_data_server\n",
      "_hashlib            decorator           pandas              tensorboard_plugin_wit\n",
      "_heapq              defusedxml          pandocfilters       tensorflow\n",
      "_imp                diff_match_patch    paramiko            tensorflow_estimator\n",
      "_io                 difflib             parser              tensorflow_io_gcs_filesystem\n",
      "_json               dis                 parso               termcolor\n",
      "_locale             distributed         partd               terminado\n",
      "_lsprof             distutils           past                test\n",
      "_lzma               doctest             pasta               test_data\n",
      "_markupbase         docutils            path                test_pycosat\n",
      "_md5                email               pathlib             testpath\n",
      "_msi                encodings           pathlib2            tests\n",
      "_multibytecodec     ensurepip           pathspec            text_unidecode\n",
      "_multiprocessing    entrypoints         patsy               textdistance\n",
      "_nsis               enum                pdb                 textwrap\n",
      "_onedal4py_host     erfa                pep8                this\n",
      "_opcode             errno               perfmon             threading\n",
      "_operator           et_xmlfile          pexpect             threadpoolctl\n",
      "_osx_support        fastcache           pickle              three_merge\n",
      "_overlapped         faulthandler        pickleshare         tifffile\n",
      "_peg_parser         filecmp             pickletools         time\n",
      "_pickle             fileinput           pip                 timeit\n",
      "_py_abc             filelock            pipes               timer\n",
      "_pydecimal          flake8              pkg_resources       tinycss\n",
      "_pyio               flask               pkginfo             tkinter\n",
      "_pyrsistent_version flatbuffers         pkgutil             tlz\n",
      "_pytest             fnmatch             platform            token\n",
      "_queue              fontTools           plistlib            tokenize\n",
      "_random             formatter           pluggy              toml\n",
      "_sha1               fractions           ply                 toolz\n",
      "_sha256             fsspec              poplib              tornado\n",
      "_sha3               ftplib              posixpath           tqdm\n",
      "_sha512             functools           poyo                trace\n",
      "_signal             future              pprint              traceback\n",
      "_sitebuiltins       gast                profile             tracemalloc\n",
      "_socket             gc                  prometheus_client   traitlets\n",
      "_sqlite3            genericpath         prompt_toolkit      tty\n",
      "_sre                getopt              proto               turtle\n",
      "_ssl                getpass             pstats              turtledemo\n",
      "_stat               gettext             psutil              typed_ast\n",
      "_statistics         gevent              pty                 types\n",
      "_string             glob                ptyprocess          typing\n",
      "_strptime           glob2               pvectorc            typing_extensions\n",
      "_struct             google_auth_oauthlib py                  typing_inspect\n",
      "_symtable           google_crc32c       py_compile          ujson\n",
      "_system_path        graphlib            pyasn1              unicodecsv\n",
      "_testbuffer         greenlet            pyasn1_modules      unicodedata\n",
      "_testcapi           grpc                pyautogui           unidecode\n",
      "_testconsole        grpc_status         pyclbr              unittest\n",
      "_testimportmultiple gzip                pycodestyle         urllib\n",
      "_testinternalcapi   h5py                pycosat             urllib3\n",
      "_testmultiphase     hashlib             pycparser           uu\n",
      "_thread             heapdict            pycurl              uuid\n",
      "_threading_local    heapq               pydoc               venv\n",
      "_tkinter            hmac                pydoc_data          warnings\n",
      "_tracemalloc        html                pydocstyle          watchdog\n",
      "_uuid               html5lib            pydub               wave\n",
      "_warnings           http                pyexpat             wcwidth\n",
      "_weakref            idlelib             pyflakes            weakref\n",
      "_weakrefset         idna                pygetwindow         webbrowser\n",
      "_win32sysloader     imagecodecs         pygments            webencodings\n",
      "_winapi             imageio             pylab               werkzeug\n",
      "_winxptheme         imagesize           pylint              wheel\n",
      "_xxsubinterpreters  imaplib             pyls_spyder         whichcraft\n",
      "_yaml               imghdr              pylsp               widgetsnbextension\n",
      "_zoneinfo           imp                 pylsp_black         win2kras\n",
      "abc                 importlib           pylsp_jsonrpc       win32api\n",
      "absl                importlib_metadata  pymsgbox            win32clipboard\n",
      "adodbapi            inflection          pyodbc              win32com\n",
      "afxres              iniconfig           pyparsing           win32con\n",
      "aifc                inspect             pyperclip           win32console\n",
      "alabaster           intervaltree        pyreadline          win32cred\n",
      "anaconda_navigator  io                  pyrect              win32crypt\n",
      "anaconda_project    ipaddress           pyrsistent          win32cryptcon\n",
      "antigravity         ipykernel           pyscreeze           win32ctypes\n",
      "anyio               ipykernel_launcher  pytest              win32event\n",
      "appdirs             ipython_genutils    pythoncom           win32evtlog\n",
      "argh                ipywidgets          pytweening          win32evtlogutil\n",
      "argon2              isapi               pytz                win32file\n",
      "argparse            isort               pywin               win32gui\n",
      "array               isympy              pywin32_bootstrap   win32gui_struct\n",
      "arrow               itertools           pywin32_testutil    win32help\n",
      "asn1crypto          itsdangerous        pywintypes          win32inet\n",
      "ast                 jdcal               pywt                win32inetcon\n",
      "astroid             jedi                pyximport           win32job\n",
      "astropy             jinja2              qdarkstyle          win32lz\n",
      "astunparse          jinja2_time         qstylizer           win32net\n",
      "async_generator     joblib              qtawesome           win32netcon\n",
      "asynchat            json                qtconsole           win32pdh\n",
      "asyncio             json5               qtpy                win32pdhquery\n",
      "asyncore            jsonschema          queue               win32pdhutil\n",
      "atexit              jupyter             quopri              win32pipe\n",
      "atomicwrites        jupyter_client      random              win32print\n",
      "attr                jupyter_console     rasutil             win32process\n",
      "audioop             jupyter_core        re                  win32profile\n",
      "autopep8            jupyter_server      readline            win32ras\n",
      "autoreload          jupyterlab          regcheck            win32rcparser\n",
      "babel               jupyterlab_pygments regex               win32security\n",
      "backcall            jupyterlab_server   regutil             win32service\n",
      "backports           jupyterlab_widgets  repo_cli            win32serviceutil\n",
      "base64              jwt                 reprlib             win32timezone\n",
      "bcrypt              keras               requests            win32trace\n",
      "bdb                 keras_preprocessing requests_oauthlib   win32traceutil\n",
      "binaryornot         keyboard            rlcompleter         win32transaction\n",
      "binascii            keyring             rmagic              win32ts\n",
      "binhex              keyword             rope                win32ui\n",
      "binstar_client      kiwisolver          rsa                 win32uiole\n",
      "bisect              lazy_object_proxy   rtree               win32verstamp\n",
      "bitarray            lib2to3             ruamel_yaml         win32wnet\n",
      "bkcharts            libarchive          run                 win_inet_pton\n",
      "black               libcst              runpy               win_unicode_console\n",
      "blackd              libfuturize         sched               wincertstore\n",
      "bleach              libpasteurize       scipy               winerror\n",
      "blib2to3            lief                scripts             winioctlcon\n",
      "bokeh               linecache           seaborn             winnt\n",
      "boto                llvmlite            secrets             winperf\n",
      "bottleneck          locale              select              winpty\n",
      "brotli              locket              selectors           winreg\n",
      "bs4                 logging             send2trash          winsound\n",
      "builtins            lxml                servicemanager      winxpgui\n",
      "bz2                 lzma                setuptools          winxptheme\n",
      "cProfile            mailbox             shelve              wrapt\n",
      "cached_property     mailcap             shlex               wsgiref\n",
      "cachetools          markdown            shutil              xdrlib\n",
      "calendar            markupsafe          signal              xlrd\n",
      "certifi             marshal             simplegeneric       xlsxwriter\n",
      "cffi                math                singledispatch      xlwings\n",
      "cgi                 matplotlib          sip                 xlwt\n",
      "cgitb               matplotlib_inline   sipconfig           xml\n",
      "chardet             mccabe              sipdistutils        xmlrpc\n",
      "charset_normalizer  menuinst            site                xmltodict\n",
      "chunk               mimetypes           six                 xxsubtype\n",
      "clang               mistune             skimage             yaml\n",
      "click               mkl                 sklearn             yapf\n",
      "cloudpickle         mkl_fft             sklearnex           yapftests\n",
      "clyent              mkl_random          slugify             zict\n",
      "cmath               mmap                smtpd               zipapp\n",
      "cmd                 mmapfile            smtplib             zipfile\n",
      "code                mmsystem            sndhdr              zipimport\n",
      "codecs              mock                sniffio             zipp\n",
      "codeop              modulefinder        snowballstemmer     zlib\n",
      "collections         more_itertools      socket              zmq\n",
      "colorama            mouseinfo           socketserver        zoneinfo\n",
      "colorsys            mpmath              socks               zope\n",
      "commctrl            msgpack             sockshandler        \n",
      "compileall          msilib              sortedcollections   \n",
      "comtypes            msvcrt              sortedcontainers    \n",
      "\n",
      "Enter any module name to get more help.  Or, type \"modules spam\" to search\n",
      "for modules whose name or summary contain the string \"spam\".\n",
      "\n"
     ]
    }
   ],
   "source": [
    "# built-in Modules (파이썬 내장모듈)\n",
    "\n",
    "help('modules')"
   ]
  },
  {
   "cell_type": "code",
   "execution_count": 19,
   "id": "36069390",
   "metadata": {},
   "outputs": [
    {
     "data": {
      "text/plain": [
       "'C:\\\\Users\\\\sienna\\\\202207_datacamp'"
      ]
     },
     "execution_count": 19,
     "metadata": {},
     "output_type": "execute_result"
    }
   ],
   "source": [
    "import os\n",
    "os.getcwd() #current working directory"
   ]
  },
  {
   "cell_type": "code",
   "execution_count": 20,
   "id": "13486057",
   "metadata": {},
   "outputs": [
    {
     "data": {
      "text/plain": [
       "['.ipynb_checkpoints',\n",
       " 'DAY 2. 변수선언, 기본 자료형, 복합 자료형-2.ipynb',\n",
       " 'DAY 2. 변수선언, 기본 자료형, 복합 자료형-3.ipynb',\n",
       " 'DAY 3. 제어문과 함수-1-1(note).ipynb',\n",
       " 'DAY 3. 제어문과 함수-1.ipynb',\n",
       " 'day4_module.ipynb',\n",
       " 'mymodule1.py',\n",
       " '__pycache__']"
      ]
     },
     "execution_count": 20,
     "metadata": {},
     "output_type": "execute_result"
    }
   ],
   "source": [
    "# 현재 디렉토리 내용을 보여준다\n",
    "\n",
    "import os \n",
    "\n",
    "os.listdir()"
   ]
  },
  {
   "cell_type": "code",
   "execution_count": 21,
   "id": "583f0e31",
   "metadata": {},
   "outputs": [
    {
     "name": "stdout",
     "output_type": "stream",
     "text": [
      " C 드라이브의 볼륨에는 이름이 없습니다.\n",
      " 볼륨 일련 번호: 9035-60C3\n",
      "\n",
      " C:\\Users\\sienna\\202207_datacamp 디렉터리\n",
      "\n",
      "2022-07-14  오전 12:16    <DIR>          .\n",
      "2022-07-14  오전 12:16    <DIR>          ..\n",
      "2022-07-13  오후 11:46    <DIR>          .ipynb_checkpoints\n",
      "2022-07-13  오전 02:46            31,941 DAY 2. 변수선언, 기본 자료형, 복합 자료형-2.ipynb\n",
      "2022-06-29  오후 08:02            27,935 DAY 2. 변수선언, 기본 자료형, 복합 자료형-3.ipynb\n",
      "2022-07-13  오후 09:42            27,402 DAY 3. 제어문과 함수-1-1(note).ipynb\n",
      "2022-07-13  오후 07:23            25,545 DAY 3. 제어문과 함수-1.ipynb\n",
      "2022-07-14  오전 12:16            19,235 day4_module.ipynb\n",
      "2022-07-13  오후 11:58               153 mymodule1.py\n",
      "2022-07-13  오후 11:51    <DIR>          __pycache__\n",
      "               6개 파일             132,211 바이트\n",
      "               4개 디렉터리  60,800,827,392 바이트 남음\n"
     ]
    }
   ],
   "source": [
    "#모듈말고 주피터노트북에서 제공하는 기능으로 디렉토리 목록을 볼 수 있다\n",
    "\n",
    "!dir"
   ]
  },
  {
   "cell_type": "code",
   "execution_count": 22,
   "id": "4fe1f02c",
   "metadata": {},
   "outputs": [
    {
     "data": {
      "text/plain": [
       "['.ipynb_checkpoints',\n",
       " 'DAY 2. 변수선언, 기본 자료형, 복합 자료형-2.ipynb',\n",
       " 'DAY 2. 변수선언, 기본 자료형, 복합 자료형-3.ipynb',\n",
       " 'DAY 3. 제어문과 함수-1-1(note).ipynb',\n",
       " 'DAY 3. 제어문과 함수-1.ipynb',\n",
       " 'day4_module.ipynb',\n",
       " 'foo',\n",
       " 'mymodule1.py',\n",
       " '__pycache__']"
      ]
     },
     "execution_count": 22,
     "metadata": {},
     "output_type": "execute_result"
    }
   ],
   "source": [
    "# 새로운 디렉토리를 생성한다\n",
    "\n",
    "import os\n",
    "os.mkdir(\"foo\")\n",
    "os.listdir()"
   ]
  },
  {
   "cell_type": "code",
   "execution_count": 30,
   "id": "6c2f004c",
   "metadata": {},
   "outputs": [
    {
     "name": "stdout",
     "output_type": "stream",
     "text": [
      "C:\\Users\\sienna\\202207_datacamp\n",
      "C:\\Users\\sienna\\202207_datacamp\n",
      "C:\\Users\\sienna\\202207_datacamp\n"
     ]
    }
   ],
   "source": [
    "import os\n",
    "\n",
    "mydir = os.getcwd()\n",
    "print(mydir)\n",
    "\n",
    "# chdir(경로명) : 경로명으로 현재 디렉토리를 바꾼다\n",
    "# 리눅스와 윈도우 차이에서 오는 오류 : \\를 두개 씩 써준다 \n",
    "os.chdir('C:\\\\Users\\\\sienna\\\\202207_datacamp')\n",
    "curdir = os.getcwd()\n",
    "print(curdir)\n",
    "\n",
    "os.chdir(mydir)\n",
    "curdir = os.getcwd()\n",
    "print(curdir)"
   ]
  },
  {
   "cell_type": "code",
   "execution_count": 31,
   "id": "3ab9398f",
   "metadata": {},
   "outputs": [
    {
     "name": "stdout",
     "output_type": "stream",
     "text": [
      "os.stat_result(st_mode=33206, st_ino=27584547717807631, st_dev=2419417283, st_nlink=1, st_uid=0, st_gid=0, st_size=153, st_atime=1657724298, st_mtime=1657724298, st_ctime=1657723828)\n"
     ]
    }
   ],
   "source": [
    "# stat : 파일의 속성을 보여준다\n",
    "\n",
    "import os\n",
    "\n",
    "statinfo = os.stat('mymodule1.py')\n",
    "print(statinfo)"
   ]
  },
  {
   "cell_type": "markdown",
   "id": "765b75b4",
   "metadata": {},
   "source": [
    "→ 파일의 상태는 시스템에 등록된 정보를 나타낸다. 맨 마지막 time 세가지는 access타임, 수정한 시간, 생성한 시간이다. 그 외 소유자 정보를 나타내는 user id, group id 등의 정보를 담고 있다."
   ]
  },
  {
   "cell_type": "code",
   "execution_count": 34,
   "id": "ee96f3c1",
   "metadata": {},
   "outputs": [
    {
     "name": "stdout",
     "output_type": "stream",
     "text": [
      "2424\n",
      "sienna\n"
     ]
    }
   ],
   "source": [
    "# 프로세스 id와 유저 출력\n",
    "\n",
    "import os\n",
    "\n",
    "print(os.getpid())\n",
    "print(os.getlogin())"
   ]
  },
  {
   "cell_type": "markdown",
   "id": "a69b1257",
   "metadata": {},
   "source": [
    "- os 모듈에는 프로세스 관리, 파일 관리를 포함한 다양한 기능이 포함되어 있음\n",
    "- 윈도우에서는 제한적인 기능만 사용할 수 있음"
   ]
  },
  {
   "cell_type": "code",
   "execution_count": 36,
   "id": "a5320a64",
   "metadata": {},
   "outputs": [
    {
     "name": "stdout",
     "output_type": "stream",
     "text": [
      "3.9.7 (default, Sep 16 2021, 16:59:28) [MSC v.1916 64 bit (AMD64)]\n",
      "['C:\\\\Users\\\\sienna\\\\anaconda3\\\\lib\\\\site-packages\\\\spyder\\\\plugins\\\\help\\\\utils', 'C:\\\\Users\\\\sienna', 'C:\\\\Users\\\\sienna\\\\202207_datacamp', 'C:\\\\Users\\\\sienna\\\\anaconda3\\\\python39.zip', 'C:\\\\Users\\\\sienna\\\\anaconda3\\\\DLLs', 'C:\\\\Users\\\\sienna\\\\anaconda3\\\\lib', 'C:\\\\Users\\\\sienna\\\\anaconda3', '', 'C:\\\\Users\\\\sienna\\\\anaconda3\\\\lib\\\\site-packages', 'C:\\\\Users\\\\sienna\\\\anaconda3\\\\lib\\\\site-packages\\\\locket-0.2.1-py3.9.egg', 'C:\\\\Users\\\\sienna\\\\anaconda3\\\\lib\\\\site-packages\\\\win32', 'C:\\\\Users\\\\sienna\\\\anaconda3\\\\lib\\\\site-packages\\\\win32\\\\lib', 'C:\\\\Users\\\\sienna\\\\anaconda3\\\\lib\\\\site-packages\\\\Pythonwin', 'C:\\\\Users\\\\sienna\\\\anaconda3\\\\lib\\\\site-packages\\\\IPython\\\\extensions', 'C:\\\\Users\\\\sienna\\\\.ipython']\n"
     ]
    }
   ],
   "source": [
    "# sys 모듈 : 파이썬의 런타임 환경에 대한 함수, 변수를 제공\n",
    "\n",
    "import sys\n",
    "\n",
    "print(sys.version)\n",
    "print(sys.path)"
   ]
  },
  {
   "cell_type": "code",
   "execution_count": 37,
   "id": "c46e71d0",
   "metadata": {},
   "outputs": [
    {
     "name": "stdout",
     "output_type": "stream",
     "text": [
      "win32\n"
     ]
    }
   ],
   "source": [
    "# platform : 내가 사용하는 플랫폼이 뭔지 궁금하면은~~\n",
    "\n",
    "import sys\n",
    "\n",
    "print(sys.platform)"
   ]
  },
  {
   "cell_type": "code",
   "execution_count": 40,
   "id": "69237840",
   "metadata": {},
   "outputs": [
    {
     "name": "stdout",
     "output_type": "stream",
     "text": [
      "3.141592653589793\n",
      "2.718281828459045\n",
      "0.1411200080598672\n"
     ]
    }
   ],
   "source": [
    "# math 모듈\n",
    "\n",
    "import math\n",
    "\n",
    "print(math.pi)    # 파이값\n",
    "print(math.e)     # 자연상수\n",
    "print(math.sin(3))# 사인함수"
   ]
  },
  {
   "cell_type": "code",
   "execution_count": 42,
   "id": "2bf13582",
   "metadata": {},
   "outputs": [
    {
     "name": "stdout",
     "output_type": "stream",
     "text": [
      "5.5\n",
      "5.5\n",
      "5\n",
      "2.886751345948129\n"
     ]
    }
   ],
   "source": [
    "# statistices module\n",
    "\n",
    "import statistics as st\n",
    "\n",
    "print(st.mean([2,5,6,9]))     # 평균값\n",
    "print(st.median([2,5,6,9]))   # 중간값\n",
    "print(st.mode([2,5,6,5,5,9])) # 최빈값\n",
    "print(st.stdev([2,5,6,9]))    # 표준편차"
   ]
  },
  {
   "cell_type": "code",
   "execution_count": 44,
   "id": "e8db1f6c",
   "metadata": {},
   "outputs": [
    {
     "data": {
      "text/plain": [
       "0.7687322237557489"
      ]
     },
     "execution_count": 44,
     "metadata": {},
     "output_type": "execute_result"
    }
   ],
   "source": [
    "# Random module\n",
    "\n",
    "import random\n",
    "random.random()    # 0.0 ~ 1.0 사이의 무작위 값 반환"
   ]
  },
  {
   "cell_type": "code",
   "execution_count": 48,
   "id": "1d0005b8",
   "metadata": {},
   "outputs": [
    {
     "name": "stdout",
     "output_type": "stream",
     "text": [
      "84\n",
      "7\n",
      "7\n",
      "t\n"
     ]
    }
   ],
   "source": [
    "import random\n",
    "# 주어진 범위에서 반환\n",
    "print(random.randint(1, 100))\n",
    "print(random.randrange(1, 10))    # 범위\n",
    "print(random.randrange(1, 10, 2)) # 범위와 간격\n",
    "print(random.choice('computer'))  # 문자열 중에서 랜덤하게 꺼내 출력"
   ]
  },
  {
   "cell_type": "markdown",
   "id": "a6e6b6c8",
   "metadata": {},
   "source": [
    "## random을 활용한 야구게임 예제\n",
    "\n",
    "### 프로그래밍 규칙\n",
    "- 시도 횟수(count)를 1로 초기화\n",
    "- 랜덤 함수를 1에서 100 사이의 정수(random_number)를 생성한다.\n",
    "- 1에서 100사이의 정수를 입력받아서 number에 저장한다.\n",
    "- 입력 정수값이\n",
    "> random_number 보다 크면 BIG 그렇지 않으면 SMALL 출력  \n",
    "> random_number 값과 일치하면 Success 문자열 출력 및 count 출력하고 종료함\n",
    "- count를 증가한다"
   ]
  },
  {
   "cell_type": "code",
   "execution_count": null,
   "id": "b2f7b8eb",
   "metadata": {},
   "outputs": [],
   "source": [
    "import random as rd\n",
    "count = 1\n",
    "random_number = rd.randrange(1, 100)\n",
    "\n",
    "\n",
    "\n",
    "while True:\n",
    "    number = int(input(\"Input number(1~100) : \"))\n",
    "    \n",
    "    if number > random_number:\n",
    "        print(\"BIG\")\n",
    "    elif number < random_number:\n",
    "        print(\"SMALL\")\n",
    "    elif my_number == random_number:\n",
    "        print(f\"Success! count:{count}\")\n",
    "        break\n",
    "        \n",
    "# 입력값과 random_number와 비교 부분\n",
    "    count += 1"
   ]
  },
  {
   "cell_type": "code",
   "execution_count": 51,
   "id": "95b562a2",
   "metadata": {},
   "outputs": [
    {
     "name": "stdout",
     "output_type": "stream",
     "text": [
      "Requirement already satisfied: pyautogui in c:\\users\\sienna\\anaconda3\\lib\\site-packages (0.9.53)\n",
      "Requirement already satisfied: pyscreeze>=0.1.21 in c:\\users\\sienna\\anaconda3\\lib\\site-packages (from pyautogui) (0.1.28)\n",
      "Requirement already satisfied: mouseinfo in c:\\users\\sienna\\anaconda3\\lib\\site-packages (from pyautogui) (0.1.3)\n",
      "Requirement already satisfied: PyTweening>=1.0.1 in c:\\users\\sienna\\anaconda3\\lib\\site-packages (from pyautogui) (1.0.4)\n",
      "Requirement already satisfied: pygetwindow>=0.0.5 in c:\\users\\sienna\\anaconda3\\lib\\site-packages (from pyautogui) (0.0.9)\n",
      "Requirement already satisfied: pymsgbox in c:\\users\\sienna\\anaconda3\\lib\\site-packages (from pyautogui) (1.0.9)\n",
      "Requirement already satisfied: pyrect in c:\\users\\sienna\\anaconda3\\lib\\site-packages (from pygetwindow>=0.0.5->pyautogui) (0.2.0)\n",
      "Requirement already satisfied: pyperclip in c:\\users\\sienna\\anaconda3\\lib\\site-packages (from mouseinfo->pyautogui) (1.8.2)\n"
     ]
    }
   ],
   "source": [
    "!pip install pyautogui"
   ]
  },
  {
   "cell_type": "code",
   "execution_count": 50,
   "id": "72bdd3ac",
   "metadata": {},
   "outputs": [
    {
     "name": "stdout",
     "output_type": "stream",
     "text": [
      "Point(x=1243, y=189)\n",
      "Point(x=1239, y=732)\n",
      "Point(x=1041, y=672)\n",
      "Point(x=1309, y=966)\n",
      "Point(x=1090, y=713)\n",
      "Point(x=1425, y=868)\n",
      "Point(x=1441, y=829)\n",
      "Point(x=1438, y=846)\n",
      "Point(x=1319, y=205)\n",
      "Point(x=1174, y=772)\n",
      "Point(x=1324, y=148)\n"
     ]
    },
    {
     "ename": "KeyboardInterrupt",
     "evalue": "",
     "output_type": "error",
     "traceback": [
      "\u001b[1;31m---------------------------------------------------------------------------\u001b[0m",
      "\u001b[1;31mKeyboardInterrupt\u001b[0m                         Traceback (most recent call last)",
      "\u001b[1;32m~\\AppData\\Local\\Temp/ipykernel_2424/3617555832.py\u001b[0m in \u001b[0;36m<module>\u001b[1;34m\u001b[0m\n\u001b[0;32m      8\u001b[0m \u001b[1;32mwhile\u001b[0m \u001b[1;32mTrue\u001b[0m\u001b[1;33m:\u001b[0m\u001b[1;33m\u001b[0m\u001b[1;33m\u001b[0m\u001b[0m\n\u001b[0;32m      9\u001b[0m     \u001b[0mprint\u001b[0m\u001b[1;33m(\u001b[0m\u001b[0mpyautogui\u001b[0m\u001b[1;33m.\u001b[0m\u001b[0mposition\u001b[0m\u001b[1;33m(\u001b[0m\u001b[1;33m)\u001b[0m\u001b[1;33m)\u001b[0m\u001b[1;33m\u001b[0m\u001b[1;33m\u001b[0m\u001b[0m\n\u001b[1;32m---> 10\u001b[1;33m     \u001b[0mtime\u001b[0m\u001b[1;33m.\u001b[0m\u001b[0msleep\u001b[0m\u001b[1;33m(\u001b[0m\u001b[1;36m1\u001b[0m\u001b[1;33m)\u001b[0m \u001b[1;31m# 1초동안 잠\u001b[0m\u001b[1;33m\u001b[0m\u001b[1;33m\u001b[0m\u001b[0m\n\u001b[0m\u001b[0;32m     11\u001b[0m \u001b[1;33m\u001b[0m\u001b[0m\n",
      "\u001b[1;31mKeyboardInterrupt\u001b[0m: "
     ]
    }
   ],
   "source": [
    "# Automation using PyAutoGUI : GUI 화면을 자동화 해 줌. 마우스 움직임과 클릭을 자동화함\n",
    "\n",
    "\n",
    "#마우스 좌표 읽기\n",
    "import pyautogui\n",
    "import time\n",
    "\n",
    "while True:\n",
    "    print(pyautogui.position())\n",
    "    time.sleep(1) # 1초마다 마우스 위치를 출력해준다\n",
    "\n"
   ]
  },
  {
   "cell_type": "code",
   "execution_count": 1,
   "id": "ac8050df",
   "metadata": {},
   "outputs": [
    {
     "name": "stdout",
     "output_type": "stream",
     "text": [
      "Point(x=1411, y=173)\n",
      "Point(x=1419, y=166)\n",
      "Point(x=1419, y=166)\n",
      "Point(x=1419, y=166)\n",
      "Point(x=1419, y=166)\n"
     ]
    },
    {
     "ename": "KeyboardInterrupt",
     "evalue": "",
     "output_type": "error",
     "traceback": [
      "\u001b[1;31m---------------------------------------------------------------------------\u001b[0m",
      "\u001b[1;31mKeyboardInterrupt\u001b[0m                         Traceback (most recent call last)",
      "\u001b[1;32m~\\AppData\\Local\\Temp/ipykernel_19616/3011770708.py\u001b[0m in \u001b[0;36m<module>\u001b[1;34m\u001b[0m\n\u001b[0;32m      7\u001b[0m \u001b[1;32mwhile\u001b[0m \u001b[1;32mTrue\u001b[0m\u001b[1;33m:\u001b[0m\u001b[1;33m\u001b[0m\u001b[1;33m\u001b[0m\u001b[0m\n\u001b[0;32m      8\u001b[0m     \u001b[0mprint\u001b[0m\u001b[1;33m(\u001b[0m\u001b[0mpyautogui\u001b[0m\u001b[1;33m.\u001b[0m\u001b[0mposition\u001b[0m\u001b[1;33m(\u001b[0m\u001b[1;33m)\u001b[0m\u001b[1;33m)\u001b[0m\u001b[1;33m\u001b[0m\u001b[1;33m\u001b[0m\u001b[0m\n\u001b[1;32m----> 9\u001b[1;33m     \u001b[0mtime\u001b[0m\u001b[1;33m.\u001b[0m\u001b[0msleep\u001b[0m\u001b[1;33m(\u001b[0m\u001b[1;36m1\u001b[0m\u001b[1;33m)\u001b[0m \u001b[1;31m# 1초마다 마우스 위치를 출력해준다\u001b[0m\u001b[1;33m\u001b[0m\u001b[1;33m\u001b[0m\u001b[0m\n\u001b[0m",
      "\u001b[1;31mKeyboardInterrupt\u001b[0m: "
     ]
    }
   ],
   "source": [
    "# jupyter 노트북의 Help 메뉴에 자동진입하기\n",
    "\n",
    "#마우스 좌표 얻는 방법1\n",
    "import pyautogui\n",
    "import time\n",
    "\n",
    "while True:\n",
    "    print(pyautogui.position())\n",
    "    time.sleep(1) # 1초마다 마우스 위치를 출력해준다"
   ]
  },
  {
   "cell_type": "code",
   "execution_count": 8,
   "id": "ec5dbec5",
   "metadata": {},
   "outputs": [],
   "source": [
    "# 마우스 좌표를 얻는 방법2\n",
    "import pyautogui\n",
    "\n",
    "pyautogui.mouseInfo()"
   ]
  },
  {
   "cell_type": "code",
   "execution_count": 4,
   "id": "58aaf9d8",
   "metadata": {},
   "outputs": [],
   "source": [
    "import pyautogui\n",
    "import time\n",
    "\n",
    "# 실행하면 2초 쉬고, 해당 좌표로 이동해 클릭한다\n",
    "time.sleep(2)\n",
    "pyautogui.moveTo(1419, 166)\n",
    "pyautogui.click(1419, 166, duration=1)"
   ]
  },
  {
   "cell_type": "code",
   "execution_count": 6,
   "id": "5f3efe10",
   "metadata": {},
   "outputs": [],
   "source": [
    "# 특정좌표를 입력하고 글 입력하기\n",
    "\n",
    "import pyautogui\n",
    "import time\n",
    "\n",
    "# 실행하면 2초 쉬고, 해당 좌표로 이동해 클릭한다\n",
    "time.sleep(2)\n",
    "pyautogui.moveTo(1143, 949)\n",
    "pyautogui.click(1143, 949, duration=1)\n",
    "pyautogui.write(\"!dir\")"
   ]
  },
  {
   "cell_type": "code",
   "execution_count": null,
   "id": "8fcb4c98",
   "metadata": {},
   "outputs": [],
   "source": [
    "!dir"
   ]
  },
  {
   "cell_type": "code",
   "execution_count": null,
   "id": "dc725bfc",
   "metadata": {},
   "outputs": [],
   "source": [
    "# 키 입력\n",
    "\n",
    "with pyautogui.hold('shift'):\n",
    "    pyautogui.press(['left', 'left', 'left'])\n",
    "\n",
    "# 키가 눌러지는 것임\n",
    "pyautogui.keyDown('ctrl')\n",
    "pyautogui.keyDown('shift')\n",
    "pyautogui.keyDown('esc')\n",
    "pyautogui.keyUp('esc')\n",
    "pyautogui.keyUp('shift')\n",
    "pyautogui.keyUp('ctrl')"
   ]
  },
  {
   "cell_type": "code",
   "execution_count": 13,
   "id": "ace59fe6",
   "metadata": {},
   "outputs": [],
   "source": [
    "# 키 입력 예제\n",
    "\n",
    "import pyautogui\n",
    "import time\n",
    "time.sleep(2)\n",
    "pyautogui.moveTo(1161, 899)\n",
    "pyautogui.click(1161, 899, duration=1)\n",
    "pyautogui.write(\"!dir\")\n",
    "\n",
    "# 방법1\n",
    "# pyautogui.keyDown('ctrl')\n",
    "# pyautogui.press('enter')\n",
    "# pyautogui.keyUp('ctrl')\n",
    "\n",
    "# 방법2\n",
    "pyautogui.hotkey(\"ctrl\", \"enter\")"
   ]
  },
  {
   "cell_type": "raw",
   "id": "9072b018",
   "metadata": {},
   "source": [
    "!dir"
   ]
  },
  {
   "cell_type": "markdown",
   "id": "0f7f1712",
   "metadata": {},
   "source": [
    "# CLASS"
   ]
  },
  {
   "cell_type": "markdown",
   "id": "3e59dba6",
   "metadata": {},
   "source": [
    "- 클래스- 빵틀\n",
    "- 객체 - 빵, 실제로 메모리에 올려서 구현하는 것"
   ]
  },
  {
   "cell_type": "code",
   "execution_count": 6,
   "id": "a7ec9879",
   "metadata": {
    "scrolled": true
   },
   "outputs": [
    {
     "name": "stdout",
     "output_type": "stream",
     "text": [
      "Kim\n",
      "50\n"
     ]
    }
   ],
   "source": [
    "class Student:\n",
    "    name = \"Kim\"\n",
    "    grade = 50\n",
    "    \n",
    "s = Student()\n",
    "print(s.name)\n",
    "print(s.grade)"
   ]
  },
  {
   "cell_type": "code",
   "execution_count": 7,
   "id": "30bc8498",
   "metadata": {},
   "outputs": [
    {
     "name": "stdout",
     "output_type": "stream",
     "text": [
      "Kang Gam Chan\n",
      "80\n",
      "99\n"
     ]
    }
   ],
   "source": [
    "# 여기부터\n",
    "class Student:\n",
    "    # 클래스의 속성\n",
    "    name = \"Kim\" \n",
    "    grade = 50\n",
    "    age = 20\n",
    "    \n",
    "    # 클래스의 function을 만든다\n",
    "    def __init__(self, name, grade, age): # 초기값을 지정해주는 init평션을 지정한다\n",
    "        self.name = name\n",
    "        self.grade = grade\n",
    "        self.age = age\n",
    "    def printName(self):\n",
    "        print(self.name)\n",
    "    def printAge(self):\n",
    "        print(self.age)\n",
    "    def printGrade(self):\n",
    "        print(self.grade)\n",
    "\n",
    "# 여기까지 클래스임\n",
    "\n",
    "\n",
    "# 클래스를 객체화 해주는 것임 (s라는 객체를 만들어줌)\n",
    "s = Student(\"Kang Gam Chan\", 99, 80)\n",
    "\n",
    "# 객체에 있는 메소드들을 호출해 주는 것임\n",
    "s.printName()\n",
    "s.printAge()\n",
    "s.printGrade()"
   ]
  },
  {
   "cell_type": "markdown",
   "id": "9c0dfec4",
   "metadata": {},
   "source": [
    "→ 클래스 __init__() 함수\n",
    "- 모든 클래스는 클래스가 시작될 때 실행이 되는 __init__() 함수가 존재한다.\n",
    "- __init__() 함수를 사용하여 객체 속성에 값을 할당하거나 객체가 생성될 때 수행해야 하는 기타 작업을 수행한다."
   ]
  },
  {
   "cell_type": "markdown",
   "id": "fce14062",
   "metadata": {},
   "source": [
    "## self의 의미는?\n",
    "\n",
    "- self 매개변수는 클래스의 현재 인스턴스에 대한 참조\n",
    "- 클래스에 속한 변수를 액세스 하는 데 사용\n",
    "- 이름을 self로 지정할 필요는 없으며 원하는 대로 호출 가능\n",
    "- 다만, 클래스 함수의 첫 번째 매개변수로 지정한다."
   ]
  },
  {
   "cell_type": "code",
   "execution_count": 9,
   "id": "193a88fe",
   "metadata": {},
   "outputs": [
    {
     "name": "stdout",
     "output_type": "stream",
     "text": [
      "['__class__', '__delattr__', '__dict__', '__dir__', '__doc__', '__eq__', '__format__', '__ge__', '__getattribute__', '__gt__', '__hash__', '__init__', '__init_subclass__', '__le__', '__lt__', '__module__', '__ne__', '__new__', '__reduce__', '__reduce_ex__', '__repr__', '__setattr__', '__sizeof__', '__str__', '__subclasshook__', '__weakref__', 'age', 'grade', 'name', 'printAge', 'printGrade', 'printName']\n"
     ]
    }
   ],
   "source": [
    "# 클래스 내부 정보 확인\n",
    "# dir(객체)를 통하여 클래스 내부의 변수명과 함수명 등을 확인할 수 있다\n",
    "\n",
    "class Student:\n",
    "    # 클래스의 속성\n",
    "    name = \"Kim\" \n",
    "    grade = 50\n",
    "    age = 20\n",
    "    \n",
    "    def printName(self):\n",
    "        print(self.name)\n",
    "    def printAge(self):\n",
    "        print(self.age)\n",
    "    def printGrade(self):\n",
    "        print(self.grade)\n",
    "\n",
    "s = Student()\n",
    "print( dir(s) )"
   ]
  },
  {
   "cell_type": "markdown",
   "id": "ee848f5a",
   "metadata": {},
   "source": [
    "→ self 말고 다른 이름를 써도 되지만, 가독성을 위해 self 사용. 자체 클래스를 참조하겠다는 의미"
   ]
  },
  {
   "cell_type": "code",
   "execution_count": 10,
   "id": "cea803ac",
   "metadata": {},
   "outputs": [
    {
     "name": "stdout",
     "output_type": "stream",
     "text": [
      "32\n"
     ]
    }
   ],
   "source": [
    "print(s.__sizeof__())"
   ]
  },
  {
   "cell_type": "markdown",
   "id": "39837adf",
   "metadata": {},
   "source": [
    "→ 이 클래스는 32바이트의 데이터가 있다. 객체의 크기가 32"
   ]
  },
  {
   "cell_type": "code",
   "execution_count": 11,
   "id": "181048ec",
   "metadata": {},
   "outputs": [
    {
     "name": "stdout",
     "output_type": "stream",
     "text": [
      "['__class__', '__delattr__', '__dict__', '__dir__', '__doc__', '__eq__', '__format__', '__ge__', '__getattribute__', '__gt__', '__hash__', '__init__', '__init_subclass__', '__le__', '__lt__', '__module__', '__ne__', '__new__', '__reduce__', '__reduce_ex__', '__repr__', '__setattr__', '__sizeof__', '__str__', '__subclasshook__', '__weakref__']\n"
     ]
    }
   ],
   "source": [
    "# pass를 사용한 빈 클래스 만들기\n",
    "# 함수나 변수가 없는 클래스를 선언하고자 할 때, pass문을 입력한다\n",
    "\n",
    "\n",
    "class Animal :\n",
    "    pass\n",
    "\n",
    "a = Animal()\n",
    "print(dir(a))"
   ]
  },
  {
   "cell_type": "code",
   "execution_count": null,
   "id": "91b41930",
   "metadata": {},
   "outputs": [],
   "source": []
  }
 ],
 "metadata": {
  "kernelspec": {
   "display_name": "Python 3 (ipykernel)",
   "language": "python",
   "name": "python3"
  },
  "language_info": {
   "codemirror_mode": {
    "name": "ipython",
    "version": 3
   },
   "file_extension": ".py",
   "mimetype": "text/x-python",
   "name": "python",
   "nbconvert_exporter": "python",
   "pygments_lexer": "ipython3",
   "version": "3.9.7"
  }
 },
 "nbformat": 4,
 "nbformat_minor": 5
}
