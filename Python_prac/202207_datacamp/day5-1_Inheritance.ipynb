{
 "cells": [
  {
   "cell_type": "markdown",
   "id": "65025609",
   "metadata": {},
   "source": [
    "# Python Inheritance 클래스의 상속\n",
    "\n",
    "- 자식 클래스는 상속을 통해서 부모 클래스의 모든 메소드와 속성을 가져올 수 있다.\n",
    "- 객체 지향 프로그래밍의 대표적인 특징이다.\n",
    "- 상속을 통하여 코드의 재사용성을 높일 수 있다."
   ]
  },
  {
   "cell_type": "code",
   "execution_count": 3,
   "id": "25bea640",
   "metadata": {},
   "outputs": [
    {
     "name": "stdout",
     "output_type": "stream",
     "text": [
      "apple\n",
      "95\n"
     ]
    }
   ],
   "source": [
    "# 클래스를 만들기\n",
    "\n",
    "class Person:\n",
    "    def __init__(self, name, age):\n",
    "        self.name = name\n",
    "        self.age = age\n",
    "        \n",
    "    def PrintName(self):\n",
    "        print(self.name)\n",
    "        \n",
    "    def PrintAge(self):\n",
    "        print(self.age)\n",
    "    \n",
    "    \n",
    "s = Person(\"apple\", 95)\n",
    "\n",
    "s.PrintName()\n",
    "s.PrintAge()"
   ]
  },
  {
   "cell_type": "markdown",
   "id": "cc7fb914",
   "metadata": {},
   "source": [
    "## 자식 클래스\n",
    "- Person 클래스를 상속하여 Student 클래스를 만든다\n",
    "- Student 클래스는 studentID와 grade를 속성으로 갖는다\n",
    "- printStudentID()와 printGrade() 함수를 갖는다"
   ]
  },
  {
   "cell_type": "code",
   "execution_count": 5,
   "id": "9f665fc3",
   "metadata": {},
   "outputs": [
    {
     "name": "stdout",
     "output_type": "stream",
     "text": [
      "Lee\n",
      "40\n",
      "20221234\n",
      "88\n"
     ]
    }
   ],
   "source": [
    "# 의미상 Student 클래스의 속성 및 함수\n",
    "\n",
    "class Student(Person):\n",
    "    def __init__(self, name, age, studentID, grade):\n",
    "        self.name = name\n",
    "        self.age = age\n",
    "        self.studentID = studentID\n",
    "        self.grade = grade\n",
    "        \n",
    "    def PrintName(self):\n",
    "        print(self.name)\n",
    "        \n",
    "    def PrintAge(self):\n",
    "        print(self.age)\n",
    "    \n",
    "    def PrintStudentID(self):\n",
    "        print(self.studentID)\n",
    "        \n",
    "    def PrintGrade(self):\n",
    "        print(self.grade)\n",
    "    \n",
    "    \n",
    "s = Student(\"Lee\", 40, 20221234, 88)\n",
    "\n",
    "s.PrintName()\n",
    "s.PrintAge()\n",
    "s.PrintStudentID()\n",
    "s.PrintGrade()"
   ]
  },
  {
   "cell_type": "code",
   "execution_count": null,
   "id": "a6e9ae01",
   "metadata": {},
   "outputs": [],
   "source": [
    "# 자식 클래스 만들기\n",
    "# 다른 클래스의 기능을 상속하는 클래스를 만드려면 자식 클래스를 만들 때 부모 클래스를 매개 변수로 넣는다.\n",
    "\n",
    "class BaseClass:\n",
    "    Body of base class\n",
    "    \n",
    "class DerivedClass(BaseClass):\n",
    "    Body of derived class"
   ]
  },
  {
   "cell_type": "code",
   "execution_count": 6,
   "id": "f90e45b4",
   "metadata": {},
   "outputs": [
    {
     "name": "stdout",
     "output_type": "stream",
     "text": [
      "Lee\n",
      "40\n",
      "20221234\n",
      "88\n"
     ]
    }
   ],
   "source": [
    "#부모를 찾아주는 super() function\n",
    "\n",
    "class Student(Person):\n",
    "    def __init__(self, name, age, studentID, grade):\n",
    "        super().__init__(name,age)    # 부모가 가지고 있는 init이라는 펑션을 가지고 옴. self 넣을 필요 없음\n",
    "        self.studentID = studentID\n",
    "        self.grade = grade\n",
    "    \n",
    "    def PrintStudentID(self):\n",
    "        print(self.studentID)\n",
    "    def PrintGrade(self):\n",
    "        print(self.grade)\n",
    "        \n",
    "s = Student(\"Lee\", 40, 20221234, 88)\n",
    "\n",
    "s.PrintName()\n",
    "s.PrintAge()\n",
    "s.PrintStudentID()\n",
    "s.PrintGrade()"
   ]
  },
  {
   "cell_type": "markdown",
   "id": "fe02ddbb",
   "metadata": {},
   "source": [
    "### 메소드 오버라이딩 (overriding)\n",
    "- 부모 클래스와 동일한 이름의 메소드를 자식 클래스에서 사용할 때 메소드 오버라이딩이라고 한다"
   ]
  },
  {
   "cell_type": "code",
   "execution_count": 9,
   "id": "ee8ae96e",
   "metadata": {},
   "outputs": [
    {
     "name": "stdout",
     "output_type": "stream",
     "text": [
      "Hello Child\n"
     ]
    }
   ],
   "source": [
    "# 부모클래스를 상속받아 자식 클래스를 만들면 display라는 동일한 이름의 함수를 갖게 된다.\n",
    "# 기본적으로 자식클래스를 수행을 해서 function을 호출하면 자식에 있는 게 먼저 수행되고 끝난다.\n",
    "\n",
    "class parent:\n",
    "    def display(self):\n",
    "        print(\"Hello Parent\")\n",
    "class child(parent):\n",
    "    def display(self):\n",
    "        print(\"Hello Child\")\n",
    "        \n",
    "test = child()\n",
    "test.display()"
   ]
  },
  {
   "cell_type": "code",
   "execution_count": 10,
   "id": "2b287427",
   "metadata": {},
   "outputs": [
    {
     "name": "stdout",
     "output_type": "stream",
     "text": [
      "Hello Parent\n",
      "Hello Child\n"
     ]
    }
   ],
   "source": [
    "# 메소드 오버라이딩에서 부모 클래스 메소드 호출\n",
    "# 부모클래스의 함수를 먼저 수행하고, 자식 클래스의 함수를 수행하고 싶다면?\n",
    "\n",
    "class parent:\n",
    "    def display(self):\n",
    "        print(\"Hello Parent\")\n",
    "class child(parent):\n",
    "    def display(self):\n",
    "        super().display()\n",
    "        print(\"Hello Child\")\n",
    "        \n",
    "test = child()\n",
    "test.display()"
   ]
  },
  {
   "cell_type": "markdown",
   "id": "0c273a20",
   "metadata": {},
   "source": [
    "### 다중상속\n",
    "- 둘 이상의 기본 클래스에서 상속을 하는 것을 다중상속이라고 한다.\n",
    "- 다중 상속에서 모든 부모 클래스의 기능이 자식 클래스로 상속된다."
   ]
  },
  {
   "cell_type": "code",
   "execution_count": 11,
   "id": "f97fac7e",
   "metadata": {},
   "outputs": [],
   "source": [
    "# pass : 클래스만 만들고, 실제로 의미있는 일을 한 것은 아니다.\n",
    "# 두 개의 클래스를 상속받아 자식 클래스를 만든다\n",
    "\n",
    "\n",
    "class Base1:\n",
    "    pass\n",
    "\n",
    "class Base2:\n",
    "    pass\n",
    "\n",
    "class MultiDerived(Base1, Base2):\n",
    "    pass"
   ]
  },
  {
   "cell_type": "code",
   "execution_count": 13,
   "id": "51f5918a",
   "metadata": {},
   "outputs": [
    {
     "name": "stdout",
     "output_type": "stream",
     "text": [
      "Hello Parent1\n",
      "Hello Parent2\n",
      "Hello Parent3\n",
      "Hello Child\n"
     ]
    }
   ],
   "source": [
    "# 다중상속 예제\n",
    "\n",
    "class parent1:\n",
    "    def func1(self):\n",
    "        print(\"Hello Parent1\")\n",
    "class parent2:\n",
    "    def func2(self):\n",
    "        print(\"Hello Parent2\")\n",
    "class parent3:\n",
    "    def func3(self):\n",
    "        print(\"Hello Parent3\")\n",
    "        \n",
    "class child(parent1, parent2, parent3):\n",
    "    def func4(self):\n",
    "        print(\"Hello Child\")\n",
    "        \n",
    "        \n",
    "test = child()\n",
    "test.func1()\n",
    "test.func2()\n",
    "test.func3()\n",
    "test.func4()"
   ]
  },
  {
   "cell_type": "markdown",
   "id": "20442c26",
   "metadata": {},
   "source": [
    "# tkinter 모듈 = Python interface to Tcl/Tk\n",
    "- tkinter 패키지 (\"Tk인터페이스\")는 Tcl/Tk GUI 툴킷에 대한 표준 파이썬 인터페이스\n",
    "- 위젯 : tkinter를 이용해서 윈도우창을 생성할 때, 텍스트 입력창이나 버튼 등을 위젯이라고 한다"
   ]
  },
  {
   "cell_type": "code",
   "execution_count": 24,
   "id": "ab6968ea",
   "metadata": {},
   "outputs": [],
   "source": [
    "# 윈도우 타이틀, 크기\n",
    "\n",
    "from tkinter import*\n",
    "#from tkinter.filedialog import*\n",
    "\n",
    "window = Tk()           # GUI 윈도우 기본 객체가 리턴이 되서 window에 저장된다.\n",
    "window.title(\"메모장\")  # 만들고 싶은 이름 입력\n",
    "window.geometry(\"400x400+500+300\") # (가로 * 세로) 의 윈도우 크기 + 화면의 제일 왼쪽상단 기준으로 800만큼 떨어진 곳에 가서 위에서 아래로 300만큼 떨어진 곳에 가서 창을 띄워주겠다는 의미^^ 마이너스는 오른쪽에서부터\n",
    "window.resizable(False, False)   # 윈도우 창 크기 고정\n",
    "# 여기까지만 하면 메모리상에만 만든 것이고 \n",
    "\n",
    "window.mainloop() # 화면에 구동시키려면 mainloop() 해줘야함"
   ]
  },
  {
   "cell_type": "code",
   "execution_count": 25,
   "id": "afa38dc9",
   "metadata": {},
   "outputs": [],
   "source": [
    "# 텍스트 라벨\n",
    "\n",
    "from tkinter import*\n",
    "\n",
    "window = Tk()\n",
    "window.title(\"메모장\")\n",
    "window.geometry(\"400x400+500+300\")\n",
    "window.resizable(False, False)\n",
    "\n",
    "# 윈도우를 첫번째 argument에 써주는 이유: 약속임\n",
    "# 윈도우에 라벨을 붙여주겠다는 의미\n",
    "lb1 = Label(window, text=\"hello world\", bg='gray19', fg='gray60')\n",
    "lb1.place(x=10, y=10)\n",
    "\n",
    "window.mainloop()"
   ]
  },
  {
   "cell_type": "code",
   "execution_count": 26,
   "id": "aa0f02c7",
   "metadata": {},
   "outputs": [],
   "source": [
    "# 텍스트 창 삽입하기\n",
    "\n",
    "from tkinter import*\n",
    "\n",
    "window = Tk()\n",
    "window.title(\"메모장\")\n",
    "window.geometry(\"400x400+500+300\")\n",
    "window.resizable(False, False)\n",
    "\n",
    "lb1 = Label(window, text=\"hello world\", bg='gray19', fg='gray60')\n",
    "lb1.place(x=10, y=10)\n",
    "\n",
    "entry = Entry(fg=\"gray19\", bg=\"snow\", width=20) # 20개의 문자열이 들어갈 수 있다\n",
    "entry.place(x=10, y=40) #창 안에서 x축으로 10픽셀, y축으로 40픽셀 떨어진 곳에 생성\n",
    "\n",
    "window.mainloop()"
   ]
  },
  {
   "cell_type": "code",
   "execution_count": 29,
   "id": "fec34a7e",
   "metadata": {},
   "outputs": [],
   "source": [
    "# 텍스트 창 안에 자동으로 텍스트 입력하기\n",
    "\n",
    "from tkinter import*\n",
    "\n",
    "window = Tk()\n",
    "window.title(\"메모장\")\n",
    "window.geometry(\"400x400+500+300\")\n",
    "window.resizable(False, False)\n",
    "\n",
    "lb1 = Label(window, text=\"hello world\", bg='gray19', fg='gray60')\n",
    "lb1.place(x=10, y=10)\n",
    "\n",
    "entry = Entry(fg=\"gray19\", bg=\"snow\", width=20)\n",
    "entry.place(x=10, y=40)\n",
    "\n",
    "blog = \"데이터 청년 캠퍼스\"\n",
    "entry.insert(0, blog) #0번째, 즉 제일 처음부터 blog 변수에 있는 내용을 삽입하라는 의미\n",
    "\n",
    "window.mainloop()"
   ]
  },
  {
   "cell_type": "code",
   "execution_count": 31,
   "id": "9416fe73",
   "metadata": {},
   "outputs": [],
   "source": [
    "# 메모장 윈도우 (버튼 생성)\n",
    "\n",
    "from tkinter import*\n",
    "\n",
    "window = Tk()\n",
    "\n",
    "widget = Button(window, text=\"테스트\")\n",
    "widget.pack()\n",
    "\n",
    "window.mainloop()"
   ]
  },
  {
   "cell_type": "markdown",
   "id": "2b6b4901",
   "metadata": {},
   "source": [
    "# 5장 : 파일 및 시각화\n",
    "\n",
    "## file 입출력\n",
    "- python의 내장 함수 input() 및 print()는 표준 IO 스트림으로 읽기/쓰기 작업을 수행\n",
    "- input() 함수는 sys.stdin으로 정의된 키보드에서 메모리 변수로 텍스트를 읽어옴\n",
    "- print() 함수는 sys.stdout으로 장치로 데이터 출력 (모니터)\n",
    "- 표준 출력 장치 대신 컴퓨터 파일에 데이터를 저장하면 나중에 사용할 수 있음\n",
    "- 파일은 디스크와 같은 컴퓨터의 비휘발성 저장 장치에 저장됨"
   ]
  },
  {
   "cell_type": "code",
   "execution_count": 39,
   "id": "dc3c5ee7",
   "metadata": {},
   "outputs": [
    {
     "name": "stdout",
     "output_type": "stream",
     "text": [
      "Hey Jude, don't make it bad\n",
      "Take a sad song and make it better\n",
      "Remember to let her into your heart\n",
      "Then you can start to make it better\n",
      "Hey Jude, don't be afraid\n",
      "You were made to go out and get her\n",
      "The minute you let her under your skin\n",
      "Then you begin to make it better\n"
     ]
    }
   ],
   "source": [
    "## 파일 read() 함수 예제\n",
    "\n",
    "f = open(\"myfile.txt\",\"r\")\n",
    "print(f.read()) # 하나의 연속된 string으로 불러온다"
   ]
  },
  {
   "cell_type": "code",
   "execution_count": 40,
   "id": "8cb285fb",
   "metadata": {},
   "outputs": [
    {
     "name": "stdout",
     "output_type": "stream",
     "text": [
      "Hey Jude, don't make it bad\n",
      "Take a sad song and ma\n"
     ]
    }
   ],
   "source": [
    "# read함수에 읽어올 바이트 수를 지정할 수 있음\n",
    "\n",
    "f = open(\"myfile.txt\",\"r\")\n",
    "print(f.read(50))"
   ]
  },
  {
   "cell_type": "code",
   "execution_count": 42,
   "id": "a45fda82",
   "metadata": {},
   "outputs": [
    {
     "name": "stdout",
     "output_type": "stream",
     "text": [
      "Hey Jude, don't make it bad\n",
      "\n",
      "Take a sad song and make it better\n",
      "\n"
     ]
    }
   ],
   "source": [
    "# readline() 함수 : 개행문자를 만나면 리턴해준다. 즉, 한 개 라인을 읽어오는 함수이다.\n",
    "\n",
    "\n",
    "f = open(\"myfile.txt\",\"r\")\n",
    "print(f.readline())\n",
    "print(f.readline()) # 다음문장이 출력된다"
   ]
  },
  {
   "cell_type": "code",
   "execution_count": 43,
   "id": "3a139982",
   "metadata": {},
   "outputs": [
    {
     "name": "stdout",
     "output_type": "stream",
     "text": [
      "['Remember to let her into your heart\\n', 'Then you can start to make it better\\n', \"Hey Jude, don't be afraid\\n\", 'You were made to go out and get her\\n', 'The minute you let her under your skin\\n', 'Then you begin to make it better']\n"
     ]
    }
   ],
   "source": [
    "print(f.readlines()) # 한꺼번에 다 읽어온다. 리스트로 불러온다."
   ]
  },
  {
   "cell_type": "code",
   "execution_count": 44,
   "id": "3f5dc1ce",
   "metadata": {},
   "outputs": [
    {
     "name": "stdout",
     "output_type": "stream",
     "text": [
      "Hey Jude, don't make it bad\n",
      "\n",
      "Take a sad song and make it better\n",
      "\n",
      "Remember to let her into your heart\n",
      "\n",
      "Then you can start to make it better\n",
      "\n",
      "Hey Jude, don't be afraid\n",
      "\n",
      "You were made to go out and get her\n",
      "\n",
      "The minute you let her under your skin\n",
      "\n",
      "Then you begin to make it better\n"
     ]
    }
   ],
   "source": [
    "f = open(\"myfile.txt\", \"r\")\n",
    "\n",
    "for x in f:\n",
    "    print(x)"
   ]
  },
  {
   "cell_type": "code",
   "execution_count": 45,
   "id": "dab4c203",
   "metadata": {},
   "outputs": [
    {
     "name": "stdout",
     "output_type": "stream",
     "text": [
      "['_CHUNK_SIZE', '__class__', '__del__', '__delattr__', '__dict__', '__dir__', '__doc__', '__enter__', '__eq__', '__exit__', '__format__', '__ge__', '__getattribute__', '__gt__', '__hash__', '__init__', '__init_subclass__', '__iter__', '__le__', '__lt__', '__ne__', '__new__', '__next__', '__reduce__', '__reduce_ex__', '__repr__', '__setattr__', '__sizeof__', '__str__', '__subclasshook__', '_checkClosed', '_checkReadable', '_checkSeekable', '_checkWritable', '_finalizing', 'buffer', 'close', 'closed', 'detach', 'encoding', 'errors', 'fileno', 'flush', 'isatty', 'line_buffering', 'mode', 'name', 'newlines', 'read', 'readable', 'readline', 'readlines', 'reconfigure', 'seek', 'seekable', 'tell', 'truncate', 'writable', 'write', 'write_through', 'writelines']\n"
     ]
    }
   ],
   "source": [
    "# 파일 객체의 정보 확인\n",
    "\n",
    "f = open(\"myfile.txt\", \"r\")\n",
    "print(dir(f))"
   ]
  },
  {
   "cell_type": "code",
   "execution_count": 48,
   "id": "93feb4c9",
   "metadata": {},
   "outputs": [
    {
     "name": "stdout",
     "output_type": "stream",
     "text": [
      "True\n",
      "False\n",
      "True\n",
      "192\n",
      "4\n"
     ]
    }
   ],
   "source": [
    "f = open(\"myfile.txt\", \"r\")\n",
    "\n",
    "print(f.readable())\n",
    "print(f.writable())   # 'r'로 open했기 때문에\n",
    "print(f.seekable())\n",
    "print(f.__sizeof__()) # 192byte\n",
    "print(f.fileno())     # 파일을 open할 때 마다 넘버를 할당 받는다"
   ]
  },
  {
   "cell_type": "code",
   "execution_count": 49,
   "id": "79d196db",
   "metadata": {},
   "outputs": [],
   "source": [
    "# 파일 생성\n",
    "\n",
    "f = open(\"demofile1.txt\", \"a\")\n",
    "f.write(\"hello world, python\")\n",
    "f.close()"
   ]
  },
  {
   "cell_type": "code",
   "execution_count": 50,
   "id": "46372452",
   "metadata": {},
   "outputs": [
    {
     "data": {
      "text/plain": [
       "['.ipynb_checkpoints',\n",
       " 'DAY 2. 변수선언, 기본 자료형, 복합 자료형-2.ipynb',\n",
       " 'DAY 2. 변수선언, 기본 자료형, 복합 자료형-3.ipynb',\n",
       " 'DAY 3. 제어문과 함수-1-1(note).ipynb',\n",
       " 'DAY 3. 제어문과 함수-1.ipynb',\n",
       " 'day4_module_class.ipynb',\n",
       " 'day5_.ipynb',\n",
       " 'demofile1.txt',\n",
       " 'foo',\n",
       " 'myfile.txt',\n",
       " 'mymodule1.py',\n",
       " '__pycache__']"
      ]
     },
     "execution_count": 50,
     "metadata": {},
     "output_type": "execute_result"
    }
   ],
   "source": [
    "import os\n",
    "os.listdir()"
   ]
  },
  {
   "cell_type": "code",
   "execution_count": 54,
   "id": "2d963562",
   "metadata": {},
   "outputs": [
    {
     "name": "stdout",
     "output_type": "stream",
     "text": [
      "hello, nice to meet you!!!!hello, nice to meet you!!!!hello, nice to meet you!!!!\n"
     ]
    }
   ],
   "source": [
    "import os \n",
    "\n",
    "f = open(\"demofile1.txt\", \"a\")           # 실행할 수록 아래 문구가 덧붙여진다. \n",
    "#f = open(\"demofile1.txt\", \"w\")          # 덮어쓰기 된다\n",
    "f.write(\"hello, nice to meet you!!!!\\n\") # \\n은 개행문자\n",
    "f.close()\n",
    "\n",
    "f = open(\"demofile1.txt\", \"r\")\n",
    "print(f.read())"
   ]
  },
  {
   "cell_type": "code",
   "execution_count": 55,
   "id": "57b1a148",
   "metadata": {},
   "outputs": [
    {
     "name": "stdout",
     "output_type": "stream",
     "text": [
      "The file does not exist\n"
     ]
    }
   ],
   "source": [
    "# 파일이 존재하는 지 체크\n",
    "\n",
    "import os\n",
    "if os.path.exists(\"demofile.txt\"):\n",
    "    os.remove(\"demofile.txt\")   # 참이면 파일 제거\n",
    "else:\n",
    "    print(\"The file does not exist\")"
   ]
  },
  {
   "cell_type": "code",
   "execution_count": null,
   "id": "5a19e44f",
   "metadata": {},
   "outputs": [],
   "source": []
  }
 ],
 "metadata": {
  "kernelspec": {
   "display_name": "Python 3 (ipykernel)",
   "language": "python",
   "name": "python3"
  },
  "language_info": {
   "codemirror_mode": {
    "name": "ipython",
    "version": 3
   },
   "file_extension": ".py",
   "mimetype": "text/x-python",
   "name": "python",
   "nbconvert_exporter": "python",
   "pygments_lexer": "ipython3",
   "version": "3.9.7"
  }
 },
 "nbformat": 4,
 "nbformat_minor": 5
}
