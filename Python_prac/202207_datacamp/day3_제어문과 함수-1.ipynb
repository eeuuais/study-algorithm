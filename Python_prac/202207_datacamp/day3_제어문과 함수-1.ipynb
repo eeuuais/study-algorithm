{
 "cells": [
  {
   "cell_type": "markdown",
   "id": "a7f022a1",
   "metadata": {},
   "source": [
    "# Day 03. 제어문과 함수\n",
    "\n",
    "## 조건문\n",
    "> ### 1. 조건에 따른 값을 표시하는 if문, if ~ else문, if ~ elif ~else문\n",
    "> ### 2. and, or 조건\n",
    "\n",
    "## 반복문\n",
    "> ### 1. for문\n",
    "> ### 2. while문\n",
    "> ### 3. continue와 break\n",
    "\n",
    "## 함수\n",
    "> ### 1. 함수의 기본구조\n",
    "> ### 2. 매개변수와 인수\n",
    "> ### 3. 결과값에 따른 함수의 형태\n",
    "> * 일반적인 형태\n",
    "> * 입력값이 없는 경우\n",
    "> * 결과 값이 없는 경우\n",
    "> * 입력값, 결과값 모두 없는 경우\n",
    "\n",
    "---"
   ]
  },
  {
   "cell_type": "markdown",
   "id": "44886c66",
   "metadata": {},
   "source": [
    "## 01 조건문\n",
    "### 1. 조건이 하나 일때 if문\n",
    "* 들여쓰기(indent) 주의한다. 보통 tab키나 공백 4개를 설정하면 된다. \n",
    "* 논리 연산자\n",
    "> 조건식 작성시 사용하며 조건의 결과에 따라 참(True) 또는 거짓(False)가 반환된다. \n",
    "```\n",
    "> : 크다\n",
    "< : 작다\n",
    ">= : 크거나 같다. 이상\n",
    "<= : 작거나 같다. 이하\n",
    "== : 같다.\n",
    "!= : 같지 않다. ~제외\n",
    "```\n",
    "\n",
    "```\n",
    "기본형식\n",
    "if 조건:\n",
    "    조건이 True일때 수행문\n",
    "else:\n",
    "    조건이 False일때 수행문\n",
    "```\n",
    "    "
   ]
  },
  {
   "cell_type": "code",
   "execution_count": 12,
   "id": "06339d6d",
   "metadata": {},
   "outputs": [
    {
     "name": "stdout",
     "output_type": "stream",
     "text": [
      "합격입니다.\n"
     ]
    }
   ],
   "source": [
    "# if문\n",
    "# 점수가 60이상이면 합격, 그렇지 않으면 불합격으로 처리\n",
    "score = 70\n",
    "if score>=60:\n",
    "    print(\"합격입니다.\")\n",
    "else:\n",
    "    print(\"불합격입니다.\")\n"
   ]
  },
  {
   "cell_type": "markdown",
   "id": "3b3f2aa0",
   "metadata": {},
   "source": [
    "## 조건이 두 개 이상일때 \n",
    "첫 조건을 검사하고 값이 True이면 결과를 반환하고 조건이 맞지 않으면 다음 조건으로 넘어가는 형태가 된다. \n",
    "```\n",
    "기본형식\n",
    "if 조건식1:\n",
    "    조건1이 True일때 수행문\n",
    "elif 조건식2:\n",
    "    조건2가 True일때 수행문\n",
    "elif 조건식3 : \n",
    "    조건3가 True일때 수행문\n",
    "    ....\n",
    "else:\n",
    "    그외의 수행문\n",
    "   ```"
   ]
  },
  {
   "cell_type": "code",
   "execution_count": 13,
   "id": "5b804cf1",
   "metadata": {},
   "outputs": [
    {
     "name": "stdout",
     "output_type": "stream",
     "text": [
      "B\n"
     ]
    }
   ],
   "source": [
    "# 점수가 90이상이면 A, 70이상이면 B, 그외에는 C로 등급을 처리\n",
    "if score>=90:\n",
    "    print('A')\n",
    "elif score>=70:\n",
    "    print('B')\n",
    "else:\n",
    "    score('C')"
   ]
  },
  {
   "cell_type": "markdown",
   "id": "a076de11",
   "metadata": {},
   "source": [
    "## and조건과 or 조건\n",
    "### and 조건\n",
    "* 두 개 이상의 조건이 있을때 모든 조건이 True이면 True를 반환 그외에는 false를 반환\n",
    "\n",
    "### or 조건\n",
    "* 두 개 이상의 조건이 있을때 그 중 하나만 True이어도 True를 반환한다. "
   ]
  },
  {
   "cell_type": "code",
   "execution_count": 14,
   "id": "83f71eac",
   "metadata": {},
   "outputs": [
    {
     "name": "stdout",
     "output_type": "stream",
     "text": [
      "합격\n"
     ]
    }
   ],
   "source": [
    "# and 조건 : ss와 db가 40이상이고 두 과목의 평균이 60이상이면 합격, 그렇지 않으면 불합격으로 표시\n",
    "ss = 60\n",
    "db = 70\n",
    "\n",
    "if ss>=40 and db>=70 and (ss+db)/2 >=60:\n",
    "    print('합격')\n",
    "else:\n",
    "    print('불합격')"
   ]
  },
  {
   "cell_type": "code",
   "execution_count": 15,
   "id": "8d403c60",
   "metadata": {
    "scrolled": true
   },
   "outputs": [
    {
     "name": "stdout",
     "output_type": "stream",
     "text": [
      "합격\n"
     ]
    }
   ],
   "source": [
    "# or 조건 : ss와 db 둘 중 하나만 70이상이면 합격, 그렇지 않으면 불합격으로 표시\n",
    "if ss>=70 or db>=70:\n",
    "    print('합격')\n",
    "else:\n",
    "    print(' 불합격')"
   ]
  },
  {
   "cell_type": "code",
   "execution_count": 6,
   "id": "ab8cb684",
   "metadata": {},
   "outputs": [
    {
     "name": "stdout",
     "output_type": "stream",
     "text": [
      "윤년인지 평년인지 판별할 연도를 입력하세요 :2022\n",
      "2022년은 평년입니다.\n"
     ]
    }
   ],
   "source": [
    "# <실습>\n",
    "# 연도를 입력받아 해당 연도가 윤년인지, 평년인지 판별하기\n",
    "# 연도가 4로 나눠떨어지면서 100으로 나눠 떨어지지 않거나, 400으로 나눠 떨어지면 윤년, 아니면 평년으로 판별할 것\n",
    "\n",
    "year=int(input('윤년인지 평년인지 판별할 연도를 입력하세요 :'))\n",
    "\n",
    "if year%4==0 and year%100!=100 or year%400==0:\n",
    "    print(f\"{year}년은 윤년입니다.\")\n",
    "else:\n",
    "    print(f\"{year}년은 평년입니다.\")\n",
    "    "
   ]
  },
  {
   "cell_type": "markdown",
   "id": "c2fb5f97",
   "metadata": {},
   "source": [
    "## 삼항 연산자\n",
    "> 어떤 조건을 주고 조건이 참일 때의 결과와 거짓일때의 결과를 출력한다. 이렇게 보면 if문과 같은 결과이지만 형식이 조금 더 단순하다고 보면 된다.  \n",
    "```\n",
    "<기본형식>\n",
    "참일때 if 조건식 else 거짓일때 결과\n",
    "```"
   ]
  },
  {
   "cell_type": "code",
   "execution_count": 10,
   "id": "587a9a8a",
   "metadata": {},
   "outputs": [
    {
     "name": "stdout",
     "output_type": "stream",
     "text": [
      "홀수인지 짝수인지 판별할 숫자를 입력하세요:10\n",
      "짝수입니다.\n"
     ]
    }
   ],
   "source": [
    "# 삼항연산자의 예시\n",
    "# 숫자를 입력받아 입력받은 숫자를 2로 나눈 나머지가 0이면 짝수, 그외에는 짝수로 출력하기\n",
    "\n",
    "num=int(input('홀수인지 짝수인지 판별할 숫자를 입력하세요:'))\n",
    "\n",
    "print(\"짝수입니다.\" if num%2==0 else \"홀수입니다.\")"
   ]
  },
  {
   "cell_type": "code",
   "execution_count": 21,
   "id": "3c22434c",
   "metadata": {},
   "outputs": [
    {
     "name": "stdout",
     "output_type": "stream",
     "text": [
      "유년인지 평년인지 판별할 연도를 입력하세요:2004\n",
      "윤년입니다.\n"
     ]
    }
   ],
   "source": [
    "# <실습>\n",
    "# 삼항 연산자를 이용해 윤년, 평년을 판별해보세요. \n",
    "# 연도를 입력받아 연도가 4로 나눠떨어지면서 100으로 나눠 떨어지지 않거나, 400으로 나눠 떨어지면 윤년, 아니면 평년으로 판별할 것\n",
    "\n",
    "leap_year=int(input('유년인지 평년인지 판별할 연도를 입력하세요:'))\n",
    "\n",
    "print(\"윤년입니다.\" if leap_year%4==0 and leap_year%100!=0 or leap_year%400==0 else \"평년입니다.\")\n"
   ]
  },
  {
   "cell_type": "markdown",
   "id": "811166b9",
   "metadata": {},
   "source": [
    "# 02 반복문\n",
    "## for 문\n",
    "조건이 만족하는 동안 수행문을 반복한다.\n",
    "```\n",
    "기본 형식\n",
    "for 조건문:\n",
    "    처리할 수행문\n",
    "```"
   ]
  },
  {
   "cell_type": "code",
   "execution_count": 4,
   "id": "5c9d22c4",
   "metadata": {},
   "outputs": [
    {
     "name": "stdout",
     "output_type": "stream",
     "text": [
      "[0, 1, 2, 3, 4, 5, 6, 7, 8, 9]\n",
      "[1, 3, 5, 7, 9]\n"
     ]
    }
   ],
   "source": [
    "# range함수 : range(초기값, 종료값, 증가값)\n",
    "print(list(range(10)))\n",
    "print(list(range(1,10,2)))"
   ]
  },
  {
   "cell_type": "code",
   "execution_count": 14,
   "id": "045d8c39",
   "metadata": {},
   "outputs": [
    {
     "name": "stdout",
     "output_type": "stream",
     "text": [
      "True\n",
      "False\n",
      "True\n"
     ]
    }
   ],
   "source": [
    "# in 연산자 : 리스트나 튜플 또는 어떤 범위에서 값이 있으면 True, 없으면 False 를 돌려준다.\n",
    "li=['a', 'b','c']\n",
    "tu=('d','e','f')\n",
    "print('a' in li)\n",
    "print('g' in tu)\n",
    "print(10 in range(11))\n",
    "\n"
   ]
  },
  {
   "cell_type": "code",
   "execution_count": 17,
   "id": "01d55229",
   "metadata": {},
   "outputs": [
    {
     "name": "stdout",
     "output_type": "stream",
     "text": [
      "for문을 1번 공부했습니다.\n",
      "for문을 3번 공부했습니다.\n",
      "for문을 5번 공부했습니다.\n",
      "for문을 7번 공부했습니다.\n",
      "for문을 9번 공부했습니다.\n"
     ]
    }
   ],
   "source": [
    "# for문 형식1 : range함수 사용\n",
    "#참고 : range함수 \n",
    "#range(시작, 종료값, 간격)\n",
    "for i in range(1,10,2):\n",
    "    print(f\"for문을 {i}번 공부했습니다.\")"
   ]
  },
  {
   "cell_type": "code",
   "execution_count": 18,
   "id": "4be81359",
   "metadata": {},
   "outputs": [
    {
     "name": "stdout",
     "output_type": "stream",
     "text": [
      "파이썬을 공부했습니다.\n",
      "빅데이터을 공부했습니다.\n",
      "머신러닝을 공부했습니다.\n",
      "딥러닝을 공부했습니다.\n"
     ]
    }
   ],
   "source": [
    "# for문 형식2 : 리스트 사용\n",
    "li=['파이썬','빅데이터','머신러닝','딥러닝']\n",
    "for i in li:\n",
    "    print(\"{}을 공부했습니다.\".format(i))"
   ]
  },
  {
   "cell_type": "code",
   "execution_count": 15,
   "id": "1846b5e2",
   "metadata": {},
   "outputs": [
    {
     "name": "stdout",
     "output_type": "stream",
     "text": [
      "1번 학생은 60점이고 합격입니다.\n",
      "2번 학생은 50점이고 불합격입니다.\n",
      "3번 학생은 70점이고 합격입니다.\n",
      "4번 학생은 80점이고 합격입니다.\n",
      "5번 학생은 0점이고 불합격입니다.\n",
      "6번 학생은 90점이고 합격입니다.\n"
     ]
    }
   ],
   "source": [
    "# <실습> \n",
    "# 학생들의 점수가 입력된 Scores리스트에서 점수가 60이상이면 합격, 그렇지 않으면 불합격으로 처리하기\n",
    "# 예) 1번 학생은 합격입니다. 2번 학생은 불합격입니다.\n",
    "scores=[60,50,70,80,0,90]\n",
    "no=0\n",
    "\n",
    "for temp in scores:\n",
    "    no+=1      # 번호 1증가. no=no+1이라고 입력해도 된다. 이 부분을 if문 아래에 입력하게 되면 0부터 시작된다.\n",
    "    if temp >=60:\n",
    "        print(\"%d번 학생은 %d점이고 합격입니다.\"%(no,temp))\n",
    "    else:\n",
    "        print(\"%d번 학생은 %d점이고 불합격입니다.\"%(no,temp))\n",
    "   \n"
   ]
  },
  {
   "cell_type": "markdown",
   "id": "5a76cbe2",
   "metadata": {},
   "source": [
    "### <참고> 증감, 할당 연산자\n",
    "왼쪽 변수에서 오른쪽의 값을 대입하기 위해 사용한다.\n",
    "```\n",
    "= : 왼쪽 변수에 오른쪽 값을 할당\n",
    "+= : 왼쪽 변수에 오른쪽 값을 더한 후 그 결과를 왼쪽 변수에 할당\n",
    "-= : 왼쪽 변수에 오른쪽 값을 뺀 후 그 결과를 왼쪽 변수에 할당\n",
    "*= : 왼쪽 변수에 오른쪽 값을 곱한 후 그 결과를 왼쪽 변수에 할당\n",
    "/= : 왼쪽 변수에서 오른쪽 값을 나눈 후 그 결과를 왼쪽 변수에 할당\n",
    "%= : 왼쪽 변수에서 오른쪽 값을 나눈 후 그 나머지의 결과를 왼쪽 변수에 할당\n",
    "```"
   ]
  },
  {
   "cell_type": "code",
   "execution_count": 6,
   "id": "537c642e",
   "metadata": {},
   "outputs": [
    {
     "name": "stdout",
     "output_type": "stream",
     "text": [
      "130\n"
     ]
    }
   ],
   "source": [
    "# 증감 연산자 사용해보기 : += \n",
    "num1 = 100\n",
    "num2 = 30\n",
    "num1 += num2\n",
    "\n",
    "print(num1)"
   ]
  },
  {
   "cell_type": "code",
   "execution_count": 7,
   "id": "ca5cc8ca",
   "metadata": {},
   "outputs": [
    {
     "name": "stdout",
     "output_type": "stream",
     "text": [
      "70\n"
     ]
    }
   ],
   "source": [
    "# 증감 연산자 사용해보기 : -= \n",
    "num1 = 100\n",
    "num2 = 30\n",
    "num1 -= num2\n",
    "\n",
    "print(num1)"
   ]
  },
  {
   "cell_type": "code",
   "execution_count": 7,
   "id": "9faca1a5",
   "metadata": {},
   "outputs": [
    {
     "name": "stdout",
     "output_type": "stream",
     "text": [
      "200\n",
      "1200\n",
      "3000\n"
     ]
    }
   ],
   "source": [
    "# 다양한 형태의 for문\n",
    "a=[(10,20),(30,40),(50,60)]\n",
    "\n",
    "for (i,j) in a:\n",
    "    print(i*j)"
   ]
  },
  {
   "cell_type": "code",
   "execution_count": 25,
   "id": "0756183d",
   "metadata": {},
   "outputs": [
    {
     "name": "stdout",
     "output_type": "stream",
     "text": [
      "2 * 1 =  2  2 * 2 =  4  2 * 3 =  6  2 * 4 =  8  2 * 5 = 10  2 * 6 = 12  2 * 7 = 14  2 * 8 = 16  2 * 9 = 18   \n",
      "3 * 1 =  3  3 * 2 =  6  3 * 3 =  9  3 * 4 = 12  3 * 5 = 15  3 * 6 = 18  3 * 7 = 21  3 * 8 = 24  3 * 9 = 27   \n",
      "4 * 1 =  4  4 * 2 =  8  4 * 3 = 12  4 * 4 = 16  4 * 5 = 20  4 * 6 = 24  4 * 7 = 28  4 * 8 = 32  4 * 9 = 36   \n",
      "5 * 1 =  5  5 * 2 = 10  5 * 3 = 15  5 * 4 = 20  5 * 5 = 25  5 * 6 = 30  5 * 7 = 35  5 * 8 = 40  5 * 9 = 45   \n",
      "6 * 1 =  6  6 * 2 = 12  6 * 3 = 18  6 * 4 = 24  6 * 5 = 30  6 * 6 = 36  6 * 7 = 42  6 * 8 = 48  6 * 9 = 54   \n",
      "7 * 1 =  7  7 * 2 = 14  7 * 3 = 21  7 * 4 = 28  7 * 5 = 35  7 * 6 = 42  7 * 7 = 49  7 * 8 = 56  7 * 9 = 63   \n",
      "8 * 1 =  8  8 * 2 = 16  8 * 3 = 24  8 * 4 = 32  8 * 5 = 40  8 * 6 = 48  8 * 7 = 56  8 * 8 = 64  8 * 9 = 72   \n",
      "9 * 1 =  9  9 * 2 = 18  9 * 3 = 27  9 * 4 = 36  9 * 5 = 45  9 * 6 = 54  9 * 7 = 63  9 * 8 = 72  9 * 9 = 81   \n"
     ]
    }
   ],
   "source": [
    "# for문 형식3 : for문 안에 for 문 사용\n",
    "for i in range(2,10):\n",
    "    for j in range(1,10):\n",
    "        print(\"%d * %d = %2d \"%(i,j,i*j),end=' ') \n",
    "        \n",
    "        #if j%9==0: # 단별로 줄 바꿈을 하고 싶다면 j를 9로 나눈 나머지가 0일때 print문을 사용하거나\n",
    "    print(\" \")      # 두번째 for문 j에 해당하는 for문이 끝나는 지점에서 print문을 사용하면 된다."
   ]
  },
  {
   "cell_type": "markdown",
   "id": "fa8a841c",
   "metadata": {},
   "source": [
    "## <참고> for문이 너무 헷갈리는데요\n",
    "### for문을 여러 개 사용하는 경우 각각의 첨자들이 가지는 값이 어떤식으로 변하는지 헷갈린다면 파이썬 튜터 사이트에 코드를 붙여넣고 실행해보세요.   \n",
    "### 구글 등에서 '파이썬 튜터'라고 검색하면 나타납니다.   \n",
    "> https://pythontutor.com/visualize.html#mode=edit  \n"
   ]
  },
  {
   "cell_type": "code",
   "execution_count": 20,
   "id": "2599e36f",
   "metadata": {},
   "outputs": [
    {
     "name": "stdout",
     "output_type": "stream",
     "text": [
      "[1, 4, 9, 16, 25]\n"
     ]
    }
   ],
   "source": [
    "# 리스트 내포 사용하기1 : result에 a의의 제곱 구하기\n",
    "a=[1,2,3,4,5]\n",
    "result=[]\n",
    "for i in a:\n",
    "    result.append(i*i)\n",
    "print(result)"
   ]
  },
  {
   "cell_type": "code",
   "execution_count": 21,
   "id": "219ebc63",
   "metadata": {},
   "outputs": [
    {
     "name": "stdout",
     "output_type": "stream",
     "text": [
      "[1, 4, 9, 16, 25]\n"
     ]
    }
   ],
   "source": [
    "# 리스트 내포 사용하기2 : result에 a의의 제곱 구하기\n",
    "a=[1,2,3,4,5]\n",
    "result=[i*i for i in a]\n",
    "print(result)"
   ]
  },
  {
   "cell_type": "markdown",
   "id": "e36216ea",
   "metadata": {},
   "source": [
    "## 2. while문\n",
    "### 조건이 참인 동안 수행문을 반복하여 실행한다. 무한루프에 빠지지 않도록 주의한다. \n",
    "\n",
    "```\n",
    "기본형식\n",
    "while 조건문:\n",
    "    조건이 참인동안 수행만 실행문\n",
    "    ```\n",
    "    \n",
    "### continue와 break \n",
    "* continue는 조건이 True이면 아래 수행문을 실행하지 않고 반복문으로 돌아간다.  \n",
    "* break는 조건이 True가 되면 아래 수행문을 실행하지 않고 반복문을 빠져나간다. "
   ]
  },
  {
   "cell_type": "code",
   "execution_count": 16,
   "id": "0eecd24b",
   "metadata": {},
   "outputs": [
    {
     "name": "stdout",
     "output_type": "stream",
     "text": [
      "파이썬을 1번 공부했습니다.\n",
      "파이썬을 2번 공부했습니다.\n",
      "파이썬을 3번 공부했습니다.\n",
      "파이썬을 4번 공부했습니다.\n",
      "파이썬을 5번 공부했습니다.\n",
      "파이썬을 6번 공부했습니다.\n",
      "파이썬을 7번 공부했습니다.\n",
      "파이썬을 8번 공부했습니다.\n",
      "파이썬을 9번 공부했습니다.\n",
      "파이썬을 10번 공부했습니다.\n"
     ]
    }
   ],
   "source": [
    "n=0\n",
    "while n<10:\n",
    "    n+=1\n",
    "    print(f\"파이썬을 {n}번 공부했습니다.\")"
   ]
  },
  {
   "cell_type": "code",
   "execution_count": 5,
   "id": "c5e3f296",
   "metadata": {},
   "outputs": [
    {
     "name": "stdout",
     "output_type": "stream",
     "text": [
      "1\n",
      "2\n",
      "3\n",
      "4\n",
      "5\n",
      "6\n",
      "7\n",
      "8\n",
      "9\n",
      "10\n",
      "11\n",
      "12\n",
      "13\n",
      "14\n",
      "15\n",
      "16\n",
      "17\n",
      "18\n",
      "19\n",
      "20\n",
      "21\n",
      "22\n",
      "23\n",
      "24\n",
      "25\n",
      "26\n",
      "27\n",
      "28\n",
      "29\n",
      "30\n",
      "31\n",
      "32\n",
      "33\n",
      "34\n",
      "35\n",
      "36\n",
      "37\n",
      "38\n",
      "39\n",
      "40\n",
      "41\n",
      "42\n",
      "43\n",
      "44\n",
      "45\n",
      "46\n",
      "47\n",
      "48\n",
      "49\n",
      "50\n",
      "51\n",
      "52\n",
      "53\n",
      "54\n",
      "55\n",
      "56\n",
      "57\n",
      "58\n",
      "59\n",
      "60\n",
      "61\n",
      "62\n",
      "63\n",
      "64\n",
      "65\n",
      "66\n",
      "67\n",
      "68\n",
      "69\n",
      "70\n",
      "71\n",
      "72\n",
      "73\n",
      "74\n",
      "75\n",
      "76\n",
      "77\n",
      "78\n",
      "79\n",
      "80\n",
      "81\n",
      "82\n",
      "83\n",
      "84\n",
      "85\n",
      "86\n",
      "87\n",
      "88\n",
      "89\n",
      "90\n",
      "91\n",
      "92\n",
      "93\n",
      "94\n",
      "95\n",
      "96\n",
      "97\n",
      "98\n",
      "99\n",
      "100\n"
     ]
    }
   ],
   "source": [
    "#1부터 100까지 홀수 구하기\n",
    "a=0\n",
    "while a<100:\n",
    "    a += 1\n",
    "    #if a%2 == 0:  # 홀수만 출력하고 싶다면\n",
    "    #    continue  # 주석 처리한 위의 줄과 현재 줄을 입력하면 된다.  \n",
    "    print(a)"
   ]
  },
  {
   "cell_type": "code",
   "execution_count": 28,
   "id": "01f299fe",
   "metadata": {},
   "outputs": [
    {
     "name": "stdout",
     "output_type": "stream",
     "text": [
      "2\n",
      "4\n",
      "6\n",
      "8\n",
      "10\n",
      "12\n",
      "14\n",
      "16\n",
      "18\n",
      "20\n",
      "22\n",
      "24\n",
      "26\n",
      "28\n",
      "30\n",
      "32\n",
      "34\n",
      "36\n",
      "38\n",
      "40\n",
      "42\n",
      "44\n",
      "46\n",
      "48\n",
      "50\n",
      "52\n",
      "54\n",
      "56\n",
      "58\n",
      "60\n",
      "62\n",
      "64\n",
      "66\n",
      "68\n",
      "70\n",
      "72\n",
      "74\n",
      "76\n",
      "78\n",
      "80\n",
      "82\n",
      "84\n",
      "86\n",
      "88\n",
      "90\n",
      "92\n",
      "94\n",
      "96\n",
      "98\n",
      "100\n"
     ]
    }
   ],
   "source": [
    "# 1부터 100까지 짝수 구하기\n",
    "b=0\n",
    "\n",
    "while True:\n",
    "    b +=1\n",
    "    if b%2==0:\n",
    "        print(b)\n",
    "    if b>100:\n",
    "        break\n"
   ]
  },
  {
   "cell_type": "markdown",
   "id": "9387427c",
   "metadata": {},
   "source": [
    "## 03 함수\n",
    "> ### 1. 함수의 기본구조\n",
    "* 반복적으로 사용하는 계산 등의 작업을 함수로 만들어두고 사용하면 편리하다.\n",
    "* 함수는 매개변수를 입력받아 결과값을 반환하는 형태로 작성하면 된다. \n",
    "* 물론 매개변수가 없는 경우, 반환값이 없는 경우, 둘 다 없는 경우도 존재한다.\n",
    "```\n",
    "기본형식  \n",
    "def 함수명(매개변수, 매개변수,..):  \n",
    "    return 반환값  \n",
    "    ```\n",
    "    \n",
    "> ### 2. 매개변수와 인수\n",
    "* 매개변수 : 함수에 입력으로 전달된 값을 받는 변수\n",
    "* 인수 : 함수 호출시 입력값\n",
    "\n",
    "> ### 3. 결과값에 따른 함수의 형태\n",
    "> * 일반적인 형태 : 인자와 리턴값이 모두 있는 경우\n",
    "> * 입력값이 없는 경우\n",
    "> * 결과 값이 없는 경우\n",
    "> * 입력값, 결과값 모두 없는 경우\n",
    "\n",
    "### <참고> 내장함수는 무엇인가요?\n",
    "* 지금까지 사용한 print, input, len, format, int등이 여기에 해당합니다. \n",
    "* 별다른 모듈이나 패키지를 import하지 않고 사용할 수 있는 함수를 보통은 내장함수 또는 내부함수라고 부릅니다. \n",
    "* 파이썬 내장함수 종류는 공식 문서를 참고하시기 바랍니다.  \n",
    "* https://docs.python.org/ko/3/library/functions.html"
   ]
  },
  {
   "cell_type": "code",
   "execution_count": 1,
   "id": "72bc20f0",
   "metadata": {},
   "outputs": [],
   "source": [
    "# 1. 함수의 기본구조\n",
    "def add(a,b): # a, b는 매개변수\n",
    "    return a+b    "
   ]
  },
  {
   "cell_type": "code",
   "execution_count": 3,
   "id": "88c5dc48",
   "metadata": {},
   "outputs": [
    {
     "name": "stdout",
     "output_type": "stream",
     "text": [
      "7\n"
     ]
    }
   ],
   "source": [
    "# 2. 함수의 사용\n",
    "c=add(5,2) # 5, 2는 인수\n",
    "print(c)"
   ]
  },
  {
   "cell_type": "code",
   "execution_count": 5,
   "id": "f362987a",
   "metadata": {},
   "outputs": [
    {
     "name": "stdout",
     "output_type": "stream",
     "text": [
      "20\n"
     ]
    }
   ],
   "source": [
    "# 3.결과값에 따른 함수의 형태\n",
    "# 일반적인 형태 : 입력값 결과값이 모두 있는 경우 \n",
    "def pro(a,b):\n",
    "    return a*b\n",
    "d=pro(5,4)\n",
    "print(d)"
   ]
  },
  {
   "cell_type": "code",
   "execution_count": 6,
   "id": "8e99b761",
   "metadata": {},
   "outputs": [
    {
     "name": "stdout",
     "output_type": "stream",
     "text": [
      "Hello\n"
     ]
    }
   ],
   "source": [
    "# 3.결과값에 따른 함수의 형태\n",
    "# 입력값이 없는 경우\n",
    "def greeting():\n",
    "    return \"Hello\"\n",
    "\n",
    "text=greeting()\n",
    "print(text)"
   ]
  },
  {
   "cell_type": "code",
   "execution_count": 8,
   "id": "c244f541",
   "metadata": {},
   "outputs": [
    {
     "name": "stdout",
     "output_type": "stream",
     "text": [
      "은주님 반갑습니다.\n",
      "학생님 반갑습니다.\n",
      "None\n"
     ]
    }
   ],
   "source": [
    "# 3. 결과값에 따른 함수의 형태\n",
    "# 반환값이 없는 경우\n",
    "\n",
    "def hi(name):\n",
    "    print(f\"{name}님 반갑습니다.\")\n",
    "    \n",
    "hi('은주')\n",
    "\n",
    "a=hi('학생')\n",
    "print(a) # return이 없기때문에 None이라고 표시된다. "
   ]
  },
  {
   "cell_type": "code",
   "execution_count": 11,
   "id": "e28af4e5",
   "metadata": {
    "scrolled": true
   },
   "outputs": [
    {
     "name": "stdout",
     "output_type": "stream",
     "text": [
      "Hello\n",
      "Hello\n",
      "None\n"
     ]
    }
   ],
   "source": [
    "# 3. 결과값에 따른 함수의 형태\n",
    "# 입력값과 반환값이 모두 없는 경우\n",
    "def say():\n",
    "    print('Hello')\n",
    "    \n",
    "say()\n",
    "print(say())"
   ]
  }
 ],
 "metadata": {
  "kernelspec": {
   "display_name": "Python 3 (ipykernel)",
   "language": "python",
   "name": "python3"
  },
  "language_info": {
   "codemirror_mode": {
    "name": "ipython",
    "version": 3
   },
   "file_extension": ".py",
   "mimetype": "text/x-python",
   "name": "python",
   "nbconvert_exporter": "python",
   "pygments_lexer": "ipython3",
   "version": "3.9.7"
  }
 },
 "nbformat": 4,
 "nbformat_minor": 5
}
