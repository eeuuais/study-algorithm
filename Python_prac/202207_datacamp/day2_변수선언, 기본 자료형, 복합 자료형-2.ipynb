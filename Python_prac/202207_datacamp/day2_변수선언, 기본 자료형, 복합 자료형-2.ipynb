{
 "cells": [
  {
   "cell_type": "markdown",
   "id": "bf1c40fb",
   "metadata": {},
   "source": [
    "# 2일차. 변수 선언 / 기본 자료형 / 복합자료형\n"
   ]
  },
  {
   "cell_type": "markdown",
   "id": "706e2c6d",
   "metadata": {},
   "source": [
    "# 변수  \n",
    "변수란 저장된 값(원소, 데이터)들의 이름이며, 저장된 값들이 어떤 그릇의 내용이라면 그 그릇의 이름은 변수라고 한다.  \n",
    "변수에 값을 저장하는 것을 할당(assign) 또는 선언이라고 하는데, 변수에 이미 할당되고 난 값을 객체라고 한다.  \n",
    "또한, 변수는 일반적인 자료형 외에 클래스를 정의할 수도 있다.  \n",
    "\n",
    "---\n",
    "\n",
    "### 변수 이름을 정하는 규칙\n",
    "* 영문자, 숫자 사용가능, 대소문자 구분  \n",
    "* 밑줄(_) 사용가능  \n",
    "* 공백 사용 불가  \n",
    "* 숫자로 시작할 수 없음  \n",
    "* 특수문자( +, -, *, /, $) 사용 불가  \n",
    "* 파이썬 예약어 사용 불가  \n",
    "\n",
    "---\n"
   ]
  },
  {
   "cell_type": "code",
   "execution_count": 1,
   "id": "c77792b0",
   "metadata": {},
   "outputs": [
    {
     "name": "stdout",
     "output_type": "stream",
     "text": [
      "['False', 'None', 'True', 'and', 'as', 'assert', 'async', 'await', 'break', 'class', 'continue', 'def', 'del', 'elif', 'else', 'except', 'finally', 'for', 'from', 'global', 'if', 'import', 'in', 'is', 'lambda', 'nonlocal', 'not', 'or', 'pass', 'raise', 'return', 'try', 'while', 'with', 'yield']\n"
     ]
    }
   ],
   "source": [
    "# 파이썬 예약어\n",
    "import keyword\n",
    "print(keyword.kwlist)"
   ]
  },
  {
   "cell_type": "code",
   "execution_count": 1,
   "id": "60ace6bb",
   "metadata": {},
   "outputs": [
    {
     "name": "stdout",
     "output_type": "stream",
     "text": [
      "나이를 입력하세요:20\n",
      "21\n"
     ]
    }
   ],
   "source": [
    "age = int(input('나이를 입력하세요:'))\n",
    "print(age+1)"
   ]
  },
  {
   "cell_type": "markdown",
   "id": "48eb0be2",
   "metadata": {},
   "source": [
    "# 기본 자료형\n",
    "\n",
    "## 숫자형\n",
    "| 항목 | 사용예 |\n",
    "|:---|---|\n",
    "| `정수` | 123,-456,0   \n",
    "| `실수` | 123.45, -123.45   \n",
    "| `8진수` | 0o34, 0o12   \n",
    "| `16진수` | 0x2F, 0xFC  \n",
    "\n",
    "## 연산자\n",
    "\n",
    "```\n",
    "\n",
    "  + : 더하기\n",
    "  - : 빼기\n",
    "  * : 곱하기\n",
    "  / : 나누기\n",
    "  ** : 거듭제곱\n",
    "  // : 나눗셈의 몫\n",
    "  % : 나머지\n",
    "```"
   ]
  },
  {
   "cell_type": "code",
   "execution_count": 3,
   "id": "4a2c12b6",
   "metadata": {},
   "outputs": [
    {
     "name": "stdout",
     "output_type": "stream",
     "text": [
      "a+b: 223\n",
      "a-b: 23\n",
      "a*b: 12300\n",
      "a/b: 1.23\n",
      "a//b: 1\n",
      "a%b: 23\n",
      "a**2: 15129\n"
     ]
    }
   ],
   "source": [
    "a=123\n",
    "b=100\n",
    "print(\"a+b:\",a+b)\n",
    "print(\"a-b:\",a-b )\n",
    "print(\"a*b:\",a*b )\n",
    "print(\"a/b:\",a/b )\n",
    "print(\"a//b:\",a//b )\n",
    "print(\"a%b:\",a%b )\n",
    "print(\"a**2:\",a**2)"
   ]
  },
  {
   "cell_type": "markdown",
   "id": "8ca76519",
   "metadata": {},
   "source": [
    "## 문자열 자료형\n",
    "\n",
    "문자는 문자, 단어등으로 구성된 문자열의 집합을 의미한다. 큰 따옴표\"\" 또는 작은 따옴표''로 양 옆을 묶어서 표시한다.\n",
    "\n",
    "### 이스케이프 코드  \n",
    "\n",
    "| 항목 | 설명 |\n",
    "|:---|---|\n",
    "| `\\n` | 문자열 안에서 줄을 바꿀 때   \n",
    "| `\\t` | 탭 간격 설정   \n",
    "| `\\'` | 작은 따옴표 표시\n",
    "| `\\\"` | 큰 따옴표 표시\n",
    "| `\\\\` | 문자\\ 그대로 표시"
   ]
  },
  {
   "cell_type": "code",
   "execution_count": 6,
   "id": "7f9fbfb8",
   "metadata": {
    "scrolled": false
   },
   "outputs": [
    {
     "name": "stdout",
     "output_type": "stream",
     "text": [
      "Python\n",
      "나는 'Python'을 배웁니다.\n",
      "\n",
      "나는 파이썬을\n",
      "공부합니다. \n",
      "매일 복습을 합니다.\n",
      "\n"
     ]
    }
   ],
   "source": [
    "subject='Python'\n",
    "exp='나는 \\'Python\\'을 배웁니다.'\n",
    "multi='''\n",
    "나는 파이썬을\n",
    "공부합니다. \n",
    "매일 복습을 합니다.\n",
    "'''\n",
    "\n",
    "print(subject)\n",
    "print(exp)\n",
    "print(multi)"
   ]
  },
  {
   "cell_type": "markdown",
   "id": "b644214f",
   "metadata": {},
   "source": [
    "### 문자열 연산\n",
    "```\n",
    "+ : 문자열을 연결하여 표시함\n",
    "* : 횟수만큼 반복하여 표시함\n",
    "```"
   ]
  },
  {
   "cell_type": "code",
   "execution_count": 3,
   "id": "5b74a0bc",
   "metadata": {},
   "outputs": [
    {
     "name": "stdout",
     "output_type": "stream",
     "text": [
      "Python Jupyter Notebooke\n",
      "PythonPython\n"
     ]
    }
   ],
   "source": [
    "c=\"Python\"\n",
    "d=\" Jupyter Notebooke\"\n",
    "print(c+d)\n",
    "print(c*2)"
   ]
  },
  {
   "cell_type": "markdown",
   "id": "909025ce",
   "metadata": {},
   "source": [
    "## 문자열의 인덱싱과 슬라이싱\n",
    "인덱싱은 무엇인가를 '가리킨다'는 의미이고  슬라이싱은 잘라내는 것을 의미한다.\n",
    "* 첫 글자는 0부터 시작하고 공백도 글자수에 넣어야 한다.  \n",
    "* 마지막 글자는 -1부터 시작이다.  \n",
    "* 대괄호[]를 이용해 [시작위치:끝위치:간격] 형태로 설정할 수 있다.\n",
    "> 시작위치, 끝위치, 간격 등은 생략가능한데 시작위치를 생략하면 0부터 시작되고, 끝위치는 생략하면 마지막까지 설정되며, 간격은 생략하면 1씩 설정된다.\n",
    "\n",
    "<table style=\"border: 2px solid red; margin-left: 0;\">\n",
    "<tr>\n",
    "    <td>P</td><td>y</td><td>t</td><td>h</td><td>o</td><td>n</td>\n",
    "</tr>\n",
    "<tr>   \n",
    " <td>0</td><td>1</td><td>2</td><td>3</td><td>4</td><td>5</td>\n",
    "</tr>    \n",
    "<tr>    \n",
    "<td>-6</td><td>-5</td><td>-4</td><td>-3</td><td>-2</td><td>-1</td>\n",
    "    </tr>\n",
    "    </table>"
   ]
  },
  {
   "cell_type": "code",
   "execution_count": 8,
   "id": "ee4f305b",
   "metadata": {},
   "outputs": [
    {
     "name": "stdout",
     "output_type": "stream",
     "text": [
      "p\n",
      "pyt\n",
      "hon is fun!\n",
      "pto\n"
     ]
    }
   ],
   "source": [
    "text1=\"python is fun!\" # 띄어쓰기도 글자수에 포함한다\n",
    "print(text1[0])\n",
    "print(text1[:3])\n",
    "print(text1[3:])\n",
    "print(text1[0:5:2])"
   ]
  },
  {
   "cell_type": "markdown",
   "id": "8b9c2eb3",
   "metadata": {},
   "source": [
    "## 문자열 관련 함수\n",
    "* len : 문자열의 길이를 설정한다.\n",
    "* join : 각각의 문자 사이에 특정 문자를 삽입한다. \n",
    "* find : 문자열 사이에 특정 문자열의 위치를 찾는다.\n",
    "* count : 특정 문자가 몇 개가 포함되어 있는지 찾는다. \n",
    "* strip : 문자열 앞,뒤의 공백을 제거한다. \n",
    "* lstrip : 문자열 왼쪽 공백을 제거한다. \n",
    "* rstrip : 문자열 오른쪽 공백을 제거한다.\n",
    "* split : 문자열을 특정 문자열 기준으로 나눈다.\n",
    "* upper : 문자를 대문자로 변경한다.\n",
    "* lower : 문자를 소문자로 변경한다. "
   ]
  },
  {
   "cell_type": "code",
   "execution_count": 4,
   "id": "fb83abce",
   "metadata": {},
   "outputs": [
    {
     "name": "stdout",
     "output_type": "stream",
     "text": [
      "27\n",
      " .P.y.t.h.o.n. .I.s. .T.h.e. .B.e.s.t. .C.h.o.i.c.e. \n",
      "23\n",
      "1\n",
      " Python Is The Best Choice\n",
      "Python Is The Best Choice \n",
      "Python Is The Best Choice\n",
      "['p', 'y', 't', 'h', 'o', 'n']\n",
      "['', 'Python', 'Is', 'The', 'Best', 'Choice', '']\n",
      " PYTHON IS THE BEST CHOICE \n",
      " python is the best choice \n"
     ]
    }
   ],
   "source": [
    "text2 =\" Python Is The Best Choice \"\n",
    "text3 =\"p:y:t:h:o:n\"\n",
    "print(len(text2))\n",
    "print(\".\".join(text2))\n",
    "print(text2.find('i')) #맨 먼저 나오는 i의 인덱스의 위치를 찾는다.\n",
    "print(text2.count('i'))\n",
    "print(text2.rstrip())\n",
    "print(text2.lstrip())\n",
    "print(text2.strip()) # 앞 뒤 공백 제거\n",
    "print(text3.split(':')) # 리스트 자료형으로 반환됨\n",
    "print(text2.split(' '))\n",
    "print(text2.upper())\n",
    "print(text2.lower())"
   ]
  },
  {
   "cell_type": "markdown",
   "id": "83c1f129",
   "metadata": {},
   "source": [
    "## 문자열 포맷팅\n",
    "### 방법1. %와 서식 문자 사용\n",
    "* %s : 문자열(string)\n",
    "* %c : 문자 1개\n",
    "* %d : 정수1개\n",
    "* %f : 부동소수점\n",
    "\n",
    "### 방법2. f-String 사용\n",
    "* f-string은 f'표시할 문자{변수명}'형태로 입력하면 됩니다.\n",
    "\n",
    "### 방법3. format함수 사용\n",
    "* format함수는 \"{}표시할문자\". format(변수명, 문자 등) 형태로 표시하면 됩니다."
   ]
  },
  {
   "cell_type": "code",
   "execution_count": 6,
   "id": "26a0d991",
   "metadata": {},
   "outputs": [
    {
     "name": "stdout",
     "output_type": "stream",
     "text": [
      "  100\n",
      "100\n",
      "100\n",
      "0.15\n"
     ]
    }
   ],
   "source": [
    "a = 100\n",
    "b = 0.14567\n",
    "\n",
    "print(\"%5d\"%a)\n",
    "print(\"%d\"%a)\n",
    "print(\"%-d\"%a)\n",
    "print(\"%.2f\"%b) #반올림된다"
   ]
  },
  {
   "cell_type": "code",
   "execution_count": 34,
   "id": "d3c86da4",
   "metadata": {
    "scrolled": true
   },
   "outputs": [
    {
     "name": "stdout",
     "output_type": "stream",
     "text": [
      "내 이름은 홍길동입니다.\n",
      "내 나이는 20입니다.\n",
      "이름은 홍길동 이고 나이는 20.00 입니다.\n",
      "내 이름은 홍길동이고 나이는 20세 입니다.\n",
      "내 이름은 홍길동이고 나이는 20세 입니다. 사는 곳은 양주시입니다.\n"
     ]
    }
   ],
   "source": [
    "name =\"홍길동\"\n",
    "age = 20\n",
    "# %와 서식문자 사용하기\n",
    "print(\"내 이름은 %s입니다.\"%name)\n",
    "print(\"내 나이는 %d입니다.\"%age)\n",
    "print(\"이름은 %s 이고 나이는 %.2f 입니다.\"%(name,age))\n",
    "\n",
    "#f-string 사용하기\n",
    "print(f\"내 이름은 {name}이고 나이는 {age}세 입니다.\")\n",
    "\n",
    "#format함수 사용하기\n",
    "print(\"내 이름은 {}이고 나이는 {}세 입니다. 사는 곳은 {}입니다.\".format(name,age,\"양주시\"))"
   ]
  },
  {
   "cell_type": "markdown",
   "id": "57644d99",
   "metadata": {},
   "source": [
    "## 참고 : 변수에 데이터를 할당할때 한꺼번에 여러개를 할당하는 복수할당이 가능하다."
   ]
  },
  {
   "cell_type": "code",
   "execution_count": 15,
   "id": "3ae391b9",
   "metadata": {},
   "outputs": [
    {
     "name": "stdout",
     "output_type": "stream",
     "text": [
      "10 20 30 40 40\n"
     ]
    }
   ],
   "source": [
    "a=10\n",
    "b=20\n",
    "\n",
    "# 복수할당\n",
    "c,d,e=30,40,40\n",
    "\n",
    "print(a,b,c,d,e)"
   ]
  },
  {
   "cell_type": "markdown",
   "id": "6fe9488c",
   "metadata": {},
   "source": [
    "## map 함수  \n",
    "> 여러 데이터에 같은 함수나 데이터형을 적용할 때 사용하는 함수입니다.  \n",
    "> 사용자가 입력한 데이터를 한꺼번에 데이터형 등을 변경해 사용하는 경우가 많기 때문에 input과 함께 사용하는 경우가 많습니다.  \n",
    "> 기본형식 : map(함수,데이터)"
   ]
  },
  {
   "cell_type": "code",
   "execution_count": 11,
   "id": "b0b18d43",
   "metadata": {},
   "outputs": [
    {
     "name": "stdout",
     "output_type": "stream",
     "text": [
      "숫자 세 개를 입력하세요.10 20 30\n",
      "102030\n",
      "숫자 세 개를 입력하세요.10 20 30\n",
      "60\n"
     ]
    }
   ],
   "source": [
    "# 여러 개의 변수를 한꺼번에 받기 때문에 input 함수 앞에 int함수를 사용하면 오류가 발생하게 된다.\n",
    "a, b, c=input('숫자 세 개를 입력하세요.').split() # input으로 입력받은 데이터는 문자형입니다.\n",
    "print(a+b+c) #문자형이기때문에 단순하게 붙여서 표시됩니다."
   ]
  },
  {
   "cell_type": "code",
   "execution_count": 18,
   "id": "91802a7d",
   "metadata": {},
   "outputs": [
    {
     "name": "stdout",
     "output_type": "stream",
     "text": [
      "숫자 세 개를 입력하세요.10 20 30\n",
      "60\n",
      "<class 'int'>\n"
     ]
    }
   ],
   "source": [
    "# map을 사용한 경우 : int로 변환됨\n",
    "num1, num2, num3=map(int,input('숫자 세 개를 입력하세요.').split())\n",
    "print(num1+num2+num3)\n",
    "\n",
    "# type함수를 사용하여 데이터 타입을 확인하자\n",
    "print(type(num1))"
   ]
  },
  {
   "cell_type": "code",
   "execution_count": 17,
   "id": "259c0442",
   "metadata": {},
   "outputs": [
    {
     "name": "stdout",
     "output_type": "stream",
     "text": [
      "숫자 세 개를 입력하세요.10 20 30\n",
      "[10, 20, 30]\n",
      "<class 'list'>\n"
     ]
    }
   ],
   "source": [
    "# map을 사용한 경우 : list로 변환\n",
    "num4=list(map(int,input('숫자 세 개를 입력하세요.').split()))\n",
    "print(num4)\n",
    "\n",
    "# type함수를 사용하여 데이터 타입을 확인하자\n",
    "print(type(num4))"
   ]
  },
  {
   "cell_type": "markdown",
   "id": "b7964425",
   "metadata": {},
   "source": [
    "# 복합자료형\n",
    "## 리스트\n",
    "* 리스트를 만들때는 대괄호[]로 데이터를 묶고 각각의 원소를 쉼표(,)로 구분하면 된다.\n",
    "* 리스트는 변경 및 추가/수정/삭제 모두 가능하다. \n",
    "* 문자 자료형처럼 인덱싱과 슬라이싱 가능하다. \n",
    "* 관련 함수 : append, sort, reverse, index, insert, remove, pop, len\n",
    "\n",
    "## 튜플\n",
    "* 튜플은 ()로 묶는다. \n",
    "* 괄호()로 묶거나 괄호()를 묶지 않아도 튜플을 만들수 있다. \n",
    "* 튜플은 값을 변경할 수 없다. \n",
    "* 삭제나 변경은 불가능하지만 리스트처럼 인덱싱과 슬라이싱은 가능하다.\n",
    "\n",
    "## 딕셔너리\n",
    "* 딕셔너리는 중괄호 {}로 묶어서 생성하고 키와 값이 한쌍이다.\n",
    "* {키:값, 키:값,...} 형태로 생성하면 된다. \n",
    "* 딕셔너리는 key를 통해 value를 얻는다. \n",
    "* 딕셔너리의 key는 중복되지 않아야 하며 변경할 수 없다. \n",
    "* 딕셔너리의 key는 리스트 자료형으로 설정불가능하다. \n",
    "* 관련함수 : keys, values, items, clear, get\n",
    "\n",
    "## 집합자료형(set)\n",
    "* 파이썬 2.3부터 지원. 집합을 표현하기 위해 사용한다. \n",
    "* 중괄호{}로 묶어서 표시한다.\n",
    "* 중복을 허용하지 않는다.\n",
    "* 순서가 없다. \n",
    "* 교집합(&), 합집합(|), 차집합(-)\n",
    "* 관련함수 : add, update, remove"
   ]
  },
  {
   "cell_type": "markdown",
   "id": "ab1149f3",
   "metadata": {},
   "source": [
    "## 1. 리스트형\n",
    "* 1. 리스트만들기\n",
    "* 2. 리스트의 인덱싱과 슬라이싱\n",
    "* 3. 리스트 관련 함수"
   ]
  },
  {
   "cell_type": "code",
   "execution_count": 7,
   "id": "38d00dcb",
   "metadata": {},
   "outputs": [
    {
     "name": "stdout",
     "output_type": "stream",
     "text": [
      "[]\n",
      "[1, 2, 3, 3]\n",
      "[4, 5, 6]\n",
      "['홍길동', '01012345678', '서울시']\n",
      "[1, 2, 3, [100, 200, 300]]\n",
      "===================================\n",
      "['홍길동', '01012345678']\n",
      "홍길동\n",
      "['서울시']\n",
      "===================================\n",
      "['이순신', '01012345678', '부산시']\n"
     ]
    }
   ],
   "source": [
    "# 리스트만들기\n",
    "emp_list=[]\n",
    "li1=[1,2,3,3]\n",
    "li2=[4,5,6]\n",
    "li3=['홍길동','01012345678','서울시']\n",
    "li4=[1,2,3,[100,200,300]]\n",
    "\n",
    "print(emp_list)\n",
    "print(li1)\n",
    "print(li2)\n",
    "print(li3)\n",
    "print(li4)\n",
    "print(\"===================================\")\n",
    "\n",
    "# 문자 자료형처럼 인덱싱과 슬라이싱 가능하다.\n",
    "# [시작:끝:간격]\n",
    "print(li3[:2])\n",
    "print(li3[0])\n",
    "print(li3[2:])\n",
    "print(\"===================================\")\n",
    "\n",
    "# 리스트의 값 변경\n",
    "li3[0]='이순신'\n",
    "li3[2]='부산시'\n",
    "print(li3)"
   ]
  },
  {
   "cell_type": "markdown",
   "id": "eb8818e0",
   "metadata": {},
   "source": [
    "# 관련 함수 : append, sort, reverse, index, insert, remove, pop\n",
    "\n",
    "리스트명.append(추가할값)  \n",
    "리스트명.sort() : reverse=True로 설정하면 내림차순  \n",
    "리스트명.reverse() : 리스트 뒤집기  \n",
    "리스트명.index(값) : 리스트에서 해당 값이 있는 인덱스 반환  \n",
    "리스트명.insert(인덱스,값) : 지정한 인덱스에 값 추가  \n",
    "리스트명.remove(값) : 설정한 값 제거. 같은 값이 여러개이면 해당 값의 첫 번째 값 제거  \n",
    "리스트명.pop(인덱스) : 인덱스를 설정하지 않으면 마지막 값을 돌려주고 요소는 삭제, 인덱스를 설정하면 인덱스에 해당하는 값 반환후 제거"
   ]
  },
  {
   "cell_type": "code",
   "execution_count": 20,
   "id": "1cac3d1d",
   "metadata": {},
   "outputs": [
    {
     "name": "stdout",
     "output_type": "stream",
     "text": [
      "9\n"
     ]
    },
    {
     "data": {
      "text/plain": [
       "[1, 2, 3, 4, 4, 5, 6, 7, 8, 9]"
      ]
     },
     "execution_count": 20,
     "metadata": {},
     "output_type": "execute_result"
    }
   ],
   "source": [
    "# <연습하기>\n",
    "# 리스트 관련 함수를 사용할 test리스트를 만듭니다.\n",
    "test1=[10,9,7,8,1,2,3,5,4,6]\n",
    "test3=[100,100,100,200,100,300]\n",
    "\n",
    "# len(리스트명) : 리스트의 길이 구하기\n",
    "\n",
    "# 리스트.append :  리스트에 값 추가\n",
    "test1.append(4)\n",
    "test1\n",
    "\n",
    "# 리스트.sort : 정렬. 기본 오름차순 정렬이지만 reverse=True로 설정하면 내림차순 정렬됨.\n",
    "test1.sort(reverse=True)\n",
    "test1\n",
    "\n",
    "# 리스트명.reverse() : 리스트 뒤집기\n",
    "test1.reverse()\n",
    "test1\n",
    "\n",
    "# 리스트.index(값) : 해당값이 있는 인덱스 반환\n",
    "print(test1.index(9))\n",
    "test1\n",
    "\n",
    "# 리스트.insert(인덱스,값) : 설정한 인덱스에 값 추가됨\n",
    "test1.insert(3,7)\n",
    "test1\n",
    "\n",
    "# 리스트.remove(값) : 설정한 값 제거. 같은 값이 여러개이면 해당값의 첫 번째 값 제거\n",
    "test1.remove(7)\n",
    "\n",
    "# 리스트.pop([인덱스]) : 인덱스를 설정하지 않으면 마지막 값을 돌려주고 삭제, \n",
    "# 인덱스를 설정하면 인덱스에 해당하는 값 반환후 제거\n",
    "# 괄호 안에 인덱스를 설정하면 설정한 값을 반환하고 삭제한다.\n",
    "test1.pop()\n",
    "test1"
   ]
  },
  {
   "cell_type": "code",
   "execution_count": 22,
   "id": "28f155cc",
   "metadata": {
    "scrolled": true
   },
   "outputs": [
    {
     "data": {
      "text/plain": [
       "[10, 9, 8, 7, 1, 2, 3, 5, 4]"
      ]
     },
     "execution_count": 22,
     "metadata": {},
     "output_type": "execute_result"
    }
   ],
   "source": [
    "# <연습하기2>\n",
    "test2 = [10, 9, 8, 7, 1, 2, 3, 5, 4, 6]\n",
    "test3 = [100,100,100,200,100,300]\n",
    "\n",
    "# pop을 변수에 넣어주면 그 값이 저장된다. (remove는 단순히 삭제)\n",
    "temp = test2.pop()\n",
    "temp\n",
    "test2"
   ]
  },
  {
   "cell_type": "code",
   "execution_count": 25,
   "id": "4b149885",
   "metadata": {},
   "outputs": [
    {
     "name": "stdout",
     "output_type": "stream",
     "text": [
      "6\n",
      "[10, 9, 8, 7, 1, 2, 3, 5, 4, 6, 7]\n",
      "3\n",
      "[100, 400, 100, 100, 200, 100, 300]\n",
      "[10, 8, 7, 1, 2, 3, 5, 4, 6, 7]\n",
      "300\n"
     ]
    }
   ],
   "source": [
    "# <연습하기2>\n",
    "test2 = [10, 9, 8, 7, 1, 2, 3, 5, 4, 6]\n",
    "test3 = [100,100,100,200,100,300]\n",
    "\n",
    "# len : 리스트의 길이를 구하기 : test3의 길이 구하기\n",
    "print(len(test3))\n",
    "\n",
    "# test2 리스트의 맨 끝에 7이라는 값을 추가하기\n",
    "test2.append(7)\n",
    "print(test2)\n",
    "\n",
    "# test3의 200이 있는 위치의 인덱스를 구하기\n",
    "print(test3.index(200))\n",
    "\n",
    "# test3의 1번째 위치에 400 추가\n",
    "test3.insert(1, 400)\n",
    "print(test3)\n",
    "\n",
    "# test2에서 9를 제거\n",
    "test2.remove(9)\n",
    "print(test2)\n",
    "\n",
    "# test3의 마지막 값을 반환하기\n",
    "print(test3.pop())"
   ]
  },
  {
   "cell_type": "markdown",
   "id": "39130d35",
   "metadata": {},
   "source": [
    "## 2. 튜플\n",
    "* 1. 튜플 만들기(튜플은 값을 변경할 수 없다)\n",
    "* 2. 튜플의 인덱싱과 슬라이싱\n",
    "* 3. 튜플 더하기, 튜플을 횟수만큼 반복해서 표시하기\n",
    "\n"
   ]
  },
  {
   "cell_type": "code",
   "execution_count": 67,
   "id": "a1e4c876",
   "metadata": {},
   "outputs": [
    {
     "data": {
      "text/plain": [
       "(1, 2)"
      ]
     },
     "execution_count": 67,
     "metadata": {},
     "output_type": "execute_result"
    }
   ],
   "source": [
    "# 튜플은 값을 변경할 수 없지만 인덱싱과 슬라이싱은 가능하고 더하기, 곱하기와 같은 튜플 연산은 가능하다. \n",
    "t1=()\n",
    "t2=(1,2,3)\n",
    "t3=(1,2,(1,2,3)) # 튜플이 튜플의 원소가 될 수 있다\n",
    "t4=(4, 5, 6, 7, 8, 9, 10, 11, 12,13)\n",
    "\n",
    "#튜플의 인덱싱과 슬라이싱\n",
    "t2[1]\n",
    "t3[1:]\n",
    "t2[:2]"
   ]
  },
  {
   "cell_type": "code",
   "execution_count": 66,
   "id": "f5508907",
   "metadata": {},
   "outputs": [
    {
     "data": {
      "text/plain": [
       "(1, 2, 3, 4, 5, 6, 7, 8, 9, 10, 11, 12, 13)"
      ]
     },
     "execution_count": 66,
     "metadata": {},
     "output_type": "execute_result"
    }
   ],
   "source": [
    "# 튜플 더하기\n",
    "t2+t4"
   ]
  },
  {
   "cell_type": "code",
   "execution_count": 65,
   "id": "8005e846",
   "metadata": {},
   "outputs": [
    {
     "data": {
      "text/plain": [
       "(1, 2, 3, 1, 2, 3, 1, 2, 3)"
      ]
     },
     "execution_count": 65,
     "metadata": {},
     "output_type": "execute_result"
    }
   ],
   "source": [
    "# 튜플 곱하기 : 반복하여 반환한다\n",
    "t2*3"
   ]
  },
  {
   "cell_type": "markdown",
   "id": "3b702ad7",
   "metadata": {},
   "source": [
    "## 3. 딕셔너리형\n",
    "* 1. 딕셔너리의 생성\n",
    "* 2. 딕셔너리에 값 추가 \n",
    "* 3. 딕셔너리에 값 삭제\n",
    "* 4. 키 값에 따른 value값 가져오기\n",
    "* 5. 딕셔너리 관련 함수 : keys, values, clear, get"
   ]
  },
  {
   "cell_type": "code",
   "execution_count": 2,
   "id": "c2d494ed",
   "metadata": {},
   "outputs": [
    {
     "name": "stdout",
     "output_type": "stream",
     "text": [
      "{'name': '장길산', 'birth': '1997-12-11', 'phone': '01056784567', 'home': '서울시'}\n",
      "===============================\n",
      "{'name': '장길산', 'birth': '1997-12-11', 'phone': '01056784567'}\n",
      "===============================\n"
     ]
    },
    {
     "data": {
      "text/plain": [
       "'1999-10-11'"
      ]
     },
     "execution_count": 2,
     "metadata": {},
     "output_type": "execute_result"
    }
   ],
   "source": [
    "# 딕셔너리 생성\n",
    "\n",
    "d1={'name':'홍길동','birth':'1999-10-11','phone':'01012345678'}\n",
    "d2={'name':'장길산','birth':'1997-12-11','phone':'01056784567'}\n",
    "d3={'name':'이순신','birth':'1995-03-12','phone':'01012341234'}\n",
    "\n",
    "#d2에 값 추가 : 딕셔너리명['키값']='value'\n",
    "d2['home']='서울시'\n",
    "print(d2)\n",
    "print(\"===============================\")\n",
    "\n",
    "#d2에 값 제거 : del 딕셔너리명['키값']\n",
    "del d2['home']\n",
    "print(d2)\n",
    "print(\"===============================\")\n",
    "\n",
    "#d1의 값 얻어오기 : 딕셔너리명['키값']\n",
    "d1['birth']"
   ]
  },
  {
   "cell_type": "code",
   "execution_count": 5,
   "id": "54dc1d93",
   "metadata": {},
   "outputs": [
    {
     "data": {
      "text/plain": [
       "'01056784567'"
      ]
     },
     "execution_count": 5,
     "metadata": {},
     "output_type": "execute_result"
    }
   ],
   "source": [
    "#딕셔너리 관련 함수 (하나씩 연습해보기)\n",
    "d1.keys() # 딕셔너리의 키를 리스트로 가져오기\n",
    "\n",
    "d2.values() # 딕셔너리의 value를 리스트로 가져오기\n",
    "\n",
    "d3.clear() #딕셔너리의 값 모두 지우기\n",
    "\n",
    "d2.get('phone') # 키에 따른 값 얻어오기"
   ]
  },
  {
   "cell_type": "markdown",
   "id": "20a60ef0",
   "metadata": {},
   "source": [
    "## 4. 집합자료형(set)\n",
    "1. 집합 자료형 만들기 : 중복을 허용하지 않는다.\n",
    "2. 리스트나 튜플로 변환하기\n",
    "3. 교집합, 차집합, 합칩합 구하기\n",
    "4. 관련 함수 : add, update"
   ]
  },
  {
   "cell_type": "code",
   "execution_count": 7,
   "id": "73ed468c",
   "metadata": {},
   "outputs": [
    {
     "name": "stdout",
     "output_type": "stream",
     "text": [
      "{1, 2, 3, 4}\n",
      "{4, 5, 6}\n",
      "{1, 2, 3}\n"
     ]
    }
   ],
   "source": [
    "#1. 집합 만들기\n",
    "s1={1,2,3,4}\n",
    "s2=set([4,5,6,6,6])  #리스트[4,5,6,6,6]을 집합으로 만듭니다. 중복이 사라집니다. 리스트의 중복을 없앨때 사용합니다. \n",
    "t2=(1,2,3)   # 이것은 튜플입니다.\n",
    "s3=set(t2)   # 튜플(t2)를 집합으로 만듭니다.\n",
    "\n",
    "print(s1)\n",
    "print(s2)\n",
    "print(s3)\n",
    "\n",
    "#s4={1,2,3,3,3,3,4}   # 집합은 중복을 허용하지 않습니다.\n",
    "#s4                   # s4 집합을 실행하면 중복 데이터 3이 한 번만 표시됩니다. "
   ]
  },
  {
   "cell_type": "code",
   "execution_count": 11,
   "id": "b9a7f093",
   "metadata": {},
   "outputs": [
    {
     "name": "stdout",
     "output_type": "stream",
     "text": [
      "[1, 2, 3, 4]\n",
      "<class 'list'>\n",
      "(1, 2, 3, 4)\n",
      "<class 'tuple'>\n"
     ]
    }
   ],
   "source": [
    "# 집합을 리스트로 만들기 \n",
    "li7=list(s1)\n",
    "print(li7)\n",
    "print(type(li7))\n",
    "\n",
    "# 집합을 튜플로 만들기\n",
    "tu1=tuple(s1)\n",
    "print(tu1)\n",
    "print(type(tu1))"
   ]
  },
  {
   "cell_type": "code",
   "execution_count": 12,
   "id": "a2f267dc",
   "metadata": {},
   "outputs": [
    {
     "data": {
      "text/plain": [
       "{5, 6, 7}"
      ]
     },
     "execution_count": 12,
     "metadata": {},
     "output_type": "execute_result"
    }
   ],
   "source": [
    "#교집합 구하기 : & 연산자 또는 intersecton 함수 사용\n",
    "s4={1,2,3,4,5,6,7}\n",
    "s5={5,6,7,8,9,10,11}\n",
    "\n",
    "s6=s4&s5 # & 연산자로 교집합 구하기\n",
    "s6=s4.intersection(s5)\n",
    "s6"
   ]
  },
  {
   "cell_type": "code",
   "execution_count": 133,
   "id": "54df7b9e",
   "metadata": {},
   "outputs": [
    {
     "data": {
      "text/plain": [
       "{1, 2, 3, 4, 5, 6, 7, 8, 9, 10, 11}"
      ]
     },
     "execution_count": 133,
     "metadata": {},
     "output_type": "execute_result"
    }
   ],
   "source": [
    "#합집합 구하기 : | 연산자 또는 union 함수 사용\n",
    "s4={1,2,3,4,5,6,7}\n",
    "s5={5,6,7,8,9,10,11}\n",
    "\n",
    "#s7=s4|s5\n",
    "s7=s4.union(s5)\n",
    "s7"
   ]
  },
  {
   "cell_type": "code",
   "execution_count": 137,
   "id": "01d2d055",
   "metadata": {},
   "outputs": [
    {
     "data": {
      "text/plain": [
       "{1, 2, 3, 4}"
      ]
     },
     "execution_count": 137,
     "metadata": {},
     "output_type": "execute_result"
    }
   ],
   "source": [
    "#차집합 구하기 : - 연산자 또는 difference 함수 사용\n",
    "s4={1,2,3,4,5,6,7}\n",
    "s5={5,6,7,8,9,10,11}\n",
    "\n",
    "#s8=s4-s5\n",
    "s8=s4.difference(s5)\n",
    "s8"
   ]
  },
  {
   "cell_type": "code",
   "execution_count": 82,
   "id": "0bfd4847",
   "metadata": {},
   "outputs": [
    {
     "name": "stdout",
     "output_type": "stream",
     "text": [
      "{1, 2, 3, 4, 5, 6}\n",
      "{1, 2, 3, 4, 5}\n"
     ]
    }
   ],
   "source": [
    "# 관련함수 : add, remove\n",
    "tst={1,2,3,4,5}\n",
    "\n",
    "#add : set명.add(추가값)\n",
    "tst.add(6)\n",
    "print(tst)\n",
    "\n",
    "#remove : set명.remove(제거할값)\n",
    "tst.remove(6)\n",
    "print(tst)"
   ]
  },
  {
   "cell_type": "markdown",
   "id": "bc35bb6e",
   "metadata": {},
   "source": [
    "# boolean 자료형\n",
    "### 불(bool) 자료형은 참(True)과 거짓(False)을 나타내는 자료형이다. Bool 자료형은 다음의 두 가지 값만 가질 수 있다.\n",
    "```\n",
    "True : 참\n",
    "False : 거짓\n",
    "```\n",
    "\n",
    "### 자료형의 참과 거짓\n",
    "비어있거나 0인 데이터는 False, 그 외의 자료형은 True로 취급된다. \n",
    "* 거짓(False) : 문자열의 빈 문자열 \"\", 리스트의 [], 튜플의 {}, 딕셔너리의 {}, 숫자의 0, None\n",
    "* 참(True) : False인 데이터형 이외의 데이터형\n",
    "\n",
    "### 관계 연산자(논리 연산자)\n",
    "연산의 결과는 참(True) 또는  거짓(False)가 반환된다.\n",
    "```\n",
    "> : 크다, 초과\n",
    "< : 작다, 미만\n",
    ">= : 크거나 같다. 이상\n",
    "<= : 작거나 같다. 이하\n",
    "== : 같다\n",
    "!= : 같지 않다. \n",
    "```"
   ]
  },
  {
   "cell_type": "code",
   "execution_count": 84,
   "id": "d8fab188",
   "metadata": {},
   "outputs": [
    {
     "name": "stdout",
     "output_type": "stream",
     "text": [
      "True False True False\n",
      "<class 'bool'>\n",
      "<class 'bool'>\n",
      "<class 'bool'>\n",
      "<class 'bool'>\n"
     ]
    }
   ],
   "source": [
    "a=True\n",
    "b=False\n",
    "\n",
    "c= 6>5\n",
    "d= 3<2\n",
    "\n",
    "print(a,b,c,d)\n",
    "print(type(a))\n",
    "print(type(b))\n",
    "print(type(c))\n",
    "print(type(d))"
   ]
  }
 ],
 "metadata": {
  "kernelspec": {
   "display_name": "Python 3 (ipykernel)",
   "language": "python",
   "name": "python3"
  },
  "language_info": {
   "codemirror_mode": {
    "name": "ipython",
    "version": 3
   },
   "file_extension": ".py",
   "mimetype": "text/x-python",
   "name": "python",
   "nbconvert_exporter": "python",
   "pygments_lexer": "ipython3",
   "version": "3.9.7"
  }
 },
 "nbformat": 4,
 "nbformat_minor": 5
}
